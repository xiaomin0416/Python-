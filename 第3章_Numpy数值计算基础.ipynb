{
 "cells": [
  {
   "cell_type": "markdown",
   "metadata": {},
   "source": [
    "**<center>第3章 Numpy数值计算基础</center>**    \n",
   ]
  },
  {
   "cell_type": "markdown",
   "metadata": {},
   "source": [
    "# 矩阵相乘"
   ]
  },
  {
   "cell_type": "code",
   "execution_count": 1,
   "metadata": {},
   "outputs": [
    {
     "name": "stdout",
     "output_type": "stream",
     "text": [
      "[[ 28.  22.]\n",
      " [ 64.  49.]\n",
      " [100.  76.]\n",
      " [ 62.  48.]]\n"
     ]
    }
   ],
   "source": [
    "import numpy as np\n",
    "a=np.array([[1,2,3],[4,5,6],[7,8,9],[2,7,5]])\n",
    "b=np.array([[2,1],[4,3],[6,5]])\n",
    "c=np.zeros([len(a),len(b[0])])\n",
    "if(len(a[0]) == len(b)):\n",
    "    for i in range(len(a)):  # 左边行列式的行\n",
    "        for j in range(len(b[0])):  # 右边行列式的列\n",
    "            for k in range(len(a[i])):  # 左边行不变列变，右边行变列不变\n",
    "                c[i][j] += a[i][k]*b[k][j]\n",
    "    print(c)\n",
    "else:\n",
    "    print(\"矩阵相乘，左边的列数等于右边的行数时，才能进行。此处不相等！\")\n"
   ]
  },
  {
   "cell_type": "markdown",
   "metadata": {},
   "source": [
    "# Numpy多维数组\n",
    "## 创建数组对象\n",
    "通过Numpy库的array函数创建ndarray对象，是一个同构数据容器。"
   ]
  },
  {
   "cell_type": "markdown",
   "metadata": {},
   "source": [
    "1. 使用array函数创建数组对象\n",
    "格式：  \n",
    "np.array(object, dtype, ndmin)  \n",
    "> Numpy数据类型dtype参考:   \n",
    "https://blog.csdn.net/sinat_28576553/article/details/89047893  \n",
    "https://www.runoob.com/numpy/numpy-dtype.html\n",
    "\n",
    "**例3-1** 创建narry数组"
   ]
  },
  {
   "cell_type": "code",
   "execution_count": 3,
   "metadata": {},
   "outputs": [
    {
     "name": "stdout",
     "output_type": "stream",
     "text": [
      "w1: [1 3 5 7]\n",
      "w2: [2 4 6 8]\n",
      "w3: [[1 2 3 4]\n",
      " [5 6 7 8]]\n"
     ]
    }
   ],
   "source": [
    "import numpy as np\n",
    "data1=[1,3,5,7]\n",
    "w1=np.array(data1)\n",
    "print('w1:',w1)\n",
    "data2=(2,4,6,8)\n",
    "w2=np.array(data2)\n",
    "print('w2:',w2)\n",
    "data3=[[1,2,3,4],[5,6,7,8]]\n",
    "w3=np.array(data3)\n",
    "print('w3:',w3)"
   ]
  },
  {
   "cell_type": "markdown",
   "metadata": {},
   "source": [
    "**例3-2**  在array函数中指定dtype"
   ]
  },
  {
   "cell_type": "code",
   "execution_count": 4,
   "metadata": {},
   "outputs": [
    {
     "name": "stdout",
     "output_type": "stream",
     "text": [
      "w3: [1. 2. 3. 4.]\n"
     ]
    }
   ],
   "source": [
    "w3=np.array([1,2,3,4],dtype='float64')\n",
    "print('w3:',w3)"
   ]
  },
  {
   "cell_type": "markdown",
   "metadata": {},
   "source": [
    "2. 专门创建数组的函数\n",
    "- arange函数  \n",
    "np.arange(start,stop,step) # 不包含终值"
   ]
  },
  {
   "cell_type": "markdown",
   "metadata": {},
   "source": [
    "**例3-3** 使用arange创建数组"
   ]
  },
  {
   "cell_type": "code",
   "execution_count": 5,
   "metadata": {},
   "outputs": [
    {
     "name": "stdout",
     "output_type": "stream",
     "text": [
      "[0 1 2 3 4 5 6 7 8 9]\n"
     ]
    }
   ],
   "source": [
    "warray=np.arange(10)\n",
    "print(warray)"
   ]
  },
  {
   "cell_type": "markdown",
   "metadata": {},
   "source": [
    "**例3-4**  指定起始值，终值及步长参数的arange"
   ]
  },
  {
   "cell_type": "code",
   "execution_count": 6,
   "metadata": {},
   "outputs": [
    {
     "name": "stdout",
     "output_type": "stream",
     "text": [
      "[0.  0.2 0.4 0.6 0.8]\n"
     ]
    }
   ],
   "source": [
    "warray=np.arange(0,1,0.2)\n",
    "print(warray)"
   ]
  },
  {
   "cell_type": "markdown",
   "metadata": {},
   "source": [
    "- linspace函数  \n",
    "linspace(start,stop,numbers)"
   ]
  },
  {
   "cell_type": "markdown",
   "metadata": {},
   "source": [
    "**例3-5** 使用linspace创建数组"
   ]
  },
  {
   "cell_type": "code",
   "execution_count": 7,
   "metadata": {},
   "outputs": [
    {
     "name": "stdout",
     "output_type": "stream",
     "text": [
      "[0.   0.25 0.5  0.75 1.  ]\n"
     ]
    }
   ],
   "source": [
    "warray=np.linspace(0,1,5)\n",
    "print(warray)"
   ]
  },
  {
   "cell_type": "markdown",
   "metadata": {},
   "source": [
    "- logspace函数  \n",
    "logspace(start,stop,numbers) # 起始值=10^start, 终值值=10^stop  \n",
    "和linspace不同，创建的是等比数列"
   ]
  },
  {
   "cell_type": "markdown",
   "metadata": {},
   "source": [
    "**例3-6** 使用logspace创建数组"
   ]
  },
  {
   "cell_type": "code",
   "execution_count": 8,
   "metadata": {},
   "outputs": [
    {
     "name": "stdout",
     "output_type": "stream",
     "text": [
      "[ 1.          1.77827941  3.16227766  5.62341325 10.        ]\n"
     ]
    }
   ],
   "source": [
    "warray=np.logspace(0,1,5)\n",
    "print(warray)"
   ]
  },
  {
   "cell_type": "markdown",
   "metadata": {},
   "source": [
    "- zeros函数\n",
    "\n",
    "创建指定长度或形状的全0数组"
   ]
  },
  {
   "cell_type": "markdown",
   "metadata": {},
   "source": [
    "**例3-7**  创建全0矩阵"
   ]
  },
  {
   "cell_type": "code",
   "execution_count": 9,
   "metadata": {},
   "outputs": [
    {
     "name": "stdout",
     "output_type": "stream",
     "text": [
      "[0. 0. 0. 0.]\n",
      "[[0. 0. 0.]\n",
      " [0. 0. 0.]\n",
      " [0. 0. 0.]]\n"
     ]
    }
   ],
   "source": [
    "print(np.zeros(4))\n",
    "print(np.zeros([3,3]))"
   ]
  },
  {
   "cell_type": "markdown",
   "metadata": {},
   "source": [
    "- ones函数\n",
    "\n",
    "创建指定长度或形状的全1数组"
   ]
  },
  {
   "cell_type": "markdown",
   "metadata": {},
   "source": [
    "**例3-8**  创建全1数组"
   ]
  },
  {
   "cell_type": "code",
   "execution_count": 10,
   "metadata": {},
   "outputs": [
    {
     "name": "stdout",
     "output_type": "stream",
     "text": [
      "[1. 1. 1. 1. 1.]\n",
      "[[1. 1. 1.]\n",
      " [1. 1. 1.]]\n"
     ]
    }
   ],
   "source": [
    "print(np.ones(5))\n",
    "print(np.ones([2,3]))"
   ]
  },
  {
   "cell_type": "markdown",
   "metadata": {},
   "source": [
    "- diag函数  \n",
    "创建对角矩阵，对角线元素为0或指定值，其他元素为0"
   ]
  },
  {
   "cell_type": "markdown",
   "metadata": {},
   "source": [
    "**例3-9**  创建对角矩阵"
   ]
  },
  {
   "cell_type": "code",
   "execution_count": 11,
   "metadata": {},
   "outputs": [
    {
     "name": "stdout",
     "output_type": "stream",
     "text": [
      "[[1 0 0 0]\n",
      " [0 2 0 0]\n",
      " [0 0 3 0]\n",
      " [0 0 0 4]]\n"
     ]
    }
   ],
   "source": [
    "print(np.diag([1,2,3,4]))"
   ]
  },
  {
   "cell_type": "markdown",
   "metadata": {},
   "source": [
    "- eye函数  \n",
    "对角线元素为1，其他元素为0"
   ]
  },
  {
   "cell_type": "code",
   "execution_count": 12,
   "metadata": {},
   "outputs": [
    {
     "name": "stdout",
     "output_type": "stream",
     "text": [
      "[[1. 0. 0. 0.]\n",
      " [0. 1. 0. 0.]\n",
      " [0. 0. 1. 0.]\n",
      " [0. 0. 0. 1.]]\n"
     ]
    }
   ],
   "source": [
    "print(np.eye(4))"
   ]
  },
  {
   "cell_type": "markdown",
   "metadata": {},
   "source": [
    "## ndarray对象属性和数据转换\n",
    "|属性|说明|\n",
    "|:--|:--:|\n",
    "|ndim|秩，数据轴的个数|\n",
    "|shape|数组的维度|\n",
    "|size|数组元素的个数|\n",
    "|dtype|数据类型|\n",
    "|itemsize|数组中每个元素的字节大小|"
   ]
  },
  {
   "cell_type": "markdown",
   "metadata": {},
   "source": [
    "**例3-10**  查看数组的属性"
   ]
  },
  {
   "cell_type": "code",
   "execution_count": 13,
   "metadata": {},
   "outputs": [
    {
     "name": "stdout",
     "output_type": "stream",
     "text": [
      "秩为： 2\n",
      "形状为： (2, 3)\n",
      "元素个数为： 6\n"
     ]
    }
   ],
   "source": [
    "warray=np.array([[1,2,3],[4,5,6]])\n",
    "print('秩为：',warray.ndim)\n",
    "print('形状为：',warray.shape)\n",
    "print('元素个数为：',warray.size)"
   ]
  },
  {
   "cell_type": "markdown",
   "metadata": {},
   "source": [
    "**例3-11**  设置数组的shape属性"
   ]
  },
  {
   "cell_type": "code",
   "execution_count": 14,
   "metadata": {},
   "outputs": [
    {
     "name": "stdout",
     "output_type": "stream",
     "text": [
      "[[1 2]\n",
      " [3 4]\n",
      " [5 6]]\n"
     ]
    }
   ],
   "source": [
    "warray.shape=3,2\n",
    "print(warray)"
   ]
  },
  {
   "cell_type": "markdown",
   "metadata": {},
   "source": [
    "**例3-12**  数组的类型转换"
   ]
  },
  {
   "cell_type": "code",
   "execution_count": 15,
   "metadata": {},
   "outputs": [
    {
     "name": "stdout",
     "output_type": "stream",
     "text": [
      "int32\n",
      "float64\n"
     ]
    }
   ],
   "source": [
    "arr1=np.arange(6)\n",
    "print(arr1.dtype)\n",
    "arr2=arr1.astype(np.float64)\n",
    "print(arr2.dtype)"
   ]
  },
  {
   "cell_type": "markdown",
   "metadata": {},
   "source": [
    "## 生成随机数  \n",
    "用法：  \n",
    "np.random.randint(low,high=None,size=None)"
   ]
  },
  {
   "cell_type": "markdown",
   "metadata": {},
   "source": [
    "**例3-13**  生成随机整数"
   ]
  },
  {
   "cell_type": "code",
   "execution_count": 16,
   "metadata": {},
   "outputs": [
    {
     "name": "stdout",
     "output_type": "stream",
     "text": [
      "[[103 198 174 138]\n",
      " [184 150 170 151]]\n"
     ]
    }
   ],
   "source": [
    "arr=np.random.randint(100,200,size=(2,4))\n",
    "print(arr)"
   ]
  },
  {
   "cell_type": "markdown",
   "metadata": {},
   "source": [
    "**例3-14**  生成[0,1]的随机数组"
   ]
  },
  {
   "cell_type": "code",
   "execution_count": 17,
   "metadata": {},
   "outputs": [
    {
     "name": "stdout",
     "output_type": "stream",
     "text": [
      "[0.19954571 0.79552037 0.16833814 0.10589494 0.59145515]\n",
      "[[0.30972442 0.31700998]\n",
      " [0.48140927 0.73663167]\n",
      " [0.54060648 0.51894861]\n",
      " [0.00911934 0.20859678]]\n"
     ]
    }
   ],
   "source": [
    "#例3-14 生成[0,1]的随机数组\n",
    "arr1=np.random.rand(5)\n",
    "print(arr1)\n",
    "arr2=np.random.rand(4,2)\n",
    "print(arr2)"
   ]
  },
  {
   "cell_type": "markdown",
   "metadata": {},
   "source": [
    "### random模块的随机数生成函数\n",
    "|函数|说明|\n",
    "|:--:|:--:|\n",
    "|seed|确定随机数生成器的种子|\n",
    "|permutation|返回序列的随机排列或返回一个随机排列的范围|\n",
    "|shuffle|对序列进行随机排序|\n",
    "|binomial|产生二项分布的随机数|\n",
    "|normal|产生正太分布的随机数|\n",
    "|beta|产生beta分布的随机数|\n",
    "|chisquare|产生卡方分布的随机数|\n",
    "|gamma|产生gamma分布的随机数|\n",
    "|uniform|产生在[0,1]中均匀分布的随机数|"
   ]
  },
  {
   "cell_type": "markdown",
   "metadata": {},
   "source": [
    "## 数组变换\n",
    "### 数组重塑\n",
    "- reshape方法改变数组维度\n",
    "\n",
    "**例3-15**  改变数组维度"
   ]
  },
  {
   "cell_type": "code",
   "execution_count": 18,
   "metadata": {},
   "outputs": [
    {
     "name": "stdout",
     "output_type": "stream",
     "text": [
      "[0 1 2 3 4 5 6 7]\n",
      "[[0 1]\n",
      " [2 3]\n",
      " [4 5]\n",
      " [6 7]]\n"
     ]
    }
   ],
   "source": [
    "arr1=np.arange(8)\n",
    "print(arr1)\n",
    "arr2=arr1.reshape(4,2)\n",
    "print(arr2)"
   ]
  },
  {
   "cell_type": "markdown",
   "metadata": {},
   "source": [
    "**例3-16**  reshape的一个维度设置为-1"
   ]
  },
  {
   "cell_type": "code",
   "execution_count": 19,
   "metadata": {},
   "outputs": [
    {
     "name": "stdout",
     "output_type": "stream",
     "text": [
      "arr1: [ 0  1  2  3  4  5  6  7  8  9 10 11]\n",
      "arr2: [[ 0  1  2  3  4  5]\n",
      " [ 6  7  8  9 10 11]]\n"
     ]
    }
   ],
   "source": [
    "arr1=np.arange(12)\n",
    "print('arr1:',arr1)\n",
    "arr2=arr1.reshape(2,-1)\n",
    "print('arr2:',arr2)"
   ]
  },
  {
   "cell_type": "markdown",
   "metadata": {},
   "source": [
    "- ravel方法和reshape方法相反，即数据扁平化  \n",
    "\n",
    "**例3-17**  数据散开"
   ]
  },
  {
   "cell_type": "code",
   "execution_count": 20,
   "metadata": {},
   "outputs": [
    {
     "name": "stdout",
     "output_type": "stream",
     "text": [
      "arr1: [[ 0  1  2  3]\n",
      " [ 4  5  6  7]\n",
      " [ 8  9 10 11]]\n",
      "arr2: [ 0  1  2  3  4  5  6  7  8  9 10 11]\n"
     ]
    }
   ],
   "source": [
    "arr1=np.arange(12).reshape(3,4)\n",
    "print('arr1:',arr1)\n",
    "arr2=arr1.ravel()\n",
    "print('arr2:',arr2)"
   ]
  },
  {
   "cell_type": "markdown",
   "metadata": {},
   "source": [
    "## 数组合并  \n",
    "使用hstack、vstack和concatenate完成数组的合并\n",
    "- 横向合并：  \n",
    "  narray对象构成的元组作参数，传给hstack\n",
    "  \n",
    "**例3-18**  两个数组的横向合并"
   ]
  },
  {
   "cell_type": "code",
   "execution_count": 21,
   "metadata": {},
   "outputs": [
    {
     "name": "stdout",
     "output_type": "stream",
     "text": [
      "[[ 0  1  0  2]\n",
      " [ 2  3  4  6]\n",
      " [ 4  5  8 10]]\n"
     ]
    }
   ],
   "source": [
    "import numpy as np\n",
    "arr1=np.arange(6).reshape(3,2)\n",
    "arr2=arr1*2\n",
    "arr3=np.hstack((arr1,arr2))\n",
    "print(arr3)"
   ]
  },
  {
   "cell_type": "markdown",
   "metadata": {},
   "source": [
    "- 纵向合并：  \n",
    "    用vstack将数组纵向合并\n",
    "    \n",
    "**例3-19**  数组纵向合并"
   ]
  },
  {
   "cell_type": "code",
   "execution_count": 22,
   "metadata": {},
   "outputs": [
    {
     "name": "stdout",
     "output_type": "stream",
     "text": [
      "[[ 0  1]\n",
      " [ 2  3]\n",
      " [ 4  5]\n",
      " [ 0  2]\n",
      " [ 4  6]\n",
      " [ 8 10]]\n"
     ]
    }
   ],
   "source": [
    "arr1=np.arange(6).reshape(3,2)\n",
    "arr2=arr1*2\n",
    "arr3=np.vstack((arr1,arr2))\n",
    "print(arr3)"
   ]
  },
  {
   "cell_type": "markdown",
   "metadata": {},
   "source": [
    "- concatenate函数：  \n",
    "    数组的横向合并或纵向合并，参数axis=1时进行横向合并，axis=0时进行纵向合并\n",
    "    \n",
    "**例3-20** 使用concatenate函数合并数组"
   ]
  },
  {
   "cell_type": "code",
   "execution_count": 23,
   "metadata": {},
   "outputs": [
    {
     "name": "stdout",
     "output_type": "stream",
     "text": [
      "横向合并为： [[ 0  1  0  2]\n",
      " [ 2  3  4  6]\n",
      " [ 4  5  8 10]]\n",
      "纵向合并为： [[ 0  1]\n",
      " [ 2  3]\n",
      " [ 4  5]\n",
      " [ 0  2]\n",
      " [ 4  6]\n",
      " [ 8 10]]\n"
     ]
    }
   ],
   "source": [
    "arr1=np.arange(6).reshape(3,2)\n",
    "arr2=arr1*2\n",
    "print('横向合并为：',np.concatenate((arr1,arr2),axis=1))\n",
    "print('纵向合并为：',np.concatenate((arr1,arr2),axis=0))"
   ]
  },
  {
   "cell_type": "markdown",
   "metadata": {},
   "source": [
    "## 数组分割   \n",
    "Numpy提供hsplit、vsplit、split实现数组的横向和纵向和指定方向的分割  \n",
    "split在参数axis=1时实现数组横向分割，axis=0时进行纵向分割  \n",
    "**例3-21**  数组的分割"
   ]
  },
  {
   "cell_type": "code",
   "execution_count": 24,
   "metadata": {},
   "outputs": [
    {
     "name": "stdout",
     "output_type": "stream",
     "text": [
      "横向分割为：\n",
      " [array([[ 0,  1],\n",
      "       [ 4,  5],\n",
      "       [ 8,  9],\n",
      "       [12, 13]]), array([[ 2,  3],\n",
      "       [ 6,  7],\n",
      "       [10, 11],\n",
      "       [14, 15]])]\n",
      "纵向组合为：\n",
      " [array([[0, 1, 2, 3],\n",
      "       [4, 5, 6, 7]]), array([[ 8,  9, 10, 11],\n",
      "       [12, 13, 14, 15]])]\n"
     ]
    }
   ],
   "source": [
    "arr=np.arange(16).reshape(4,4)\n",
    "print('横向分割为：\\n',np.hsplit(arr,2))\n",
    "print('纵向组合为：\\n',np.vsplit(arr,2))"
   ]
  },
  {
   "cell_type": "markdown",
   "metadata": {},
   "source": [
    "## 数组转置和轴对换  \n",
    "通过transpose方法进行转置，此时，需要传入轴编号组成的元组。  \n",
    "**例3-22** 使用transpose转置数组"
   ]
  },
  {
   "cell_type": "code",
   "execution_count": 25,
   "metadata": {},
   "outputs": [
    {
     "name": "stdout",
     "output_type": "stream",
     "text": [
      "矩阵： [[0 1]\n",
      " [2 3]\n",
      " [4 5]]\n",
      "转置矩阵： [[0 2 4]\n",
      " [1 3 5]]\n"
     ]
    }
   ],
   "source": [
    "arr=np.arange(6).reshape(3,2)\n",
    "print('矩阵：',arr)\n",
    "print('转置矩阵：',arr.transpose((1,0)))  # 转换0轴和1轴"
   ]
  },
  {
   "cell_type": "markdown",
   "metadata": {},
   "source": [
    "- 还可使用数组的T属性进行数组转置  \n",
    "\n",
    "**例3-23** 数组T属性转置"
   ]
  },
  {
   "cell_type": "code",
   "execution_count": 26,
   "metadata": {},
   "outputs": [
    {
     "name": "stdout",
     "output_type": "stream",
     "text": [
      "[[0 2 4]\n",
      " [1 3 5]]\n"
     ]
    }
   ],
   "source": [
    "print(arr.T)"
   ]
  },
  {
   "cell_type": "markdown",
   "metadata": {},
   "source": [
    "- 也可使用swapaxes方法实现轴对换  \n",
    "\n",
    "**例3-24** 数组轴的对换"
   ]
  },
  {
   "cell_type": "code",
   "execution_count": 27,
   "metadata": {},
   "outputs": [
    {
     "name": "stdout",
     "output_type": "stream",
     "text": [
      "[[0 1]\n",
      " [2 3]\n",
      " [4 5]]\n",
      "[[0 2 4]\n",
      " [1 3 5]]\n"
     ]
    }
   ],
   "source": [
    "arr=np.arange(6).reshape(3,2)\n",
    "print(arr)\n",
    "print(arr.swapaxes(0,1))"
   ]
  },
  {
   "cell_type": "markdown",
   "metadata": {},
   "source": [
    "---\n",
    "# 数组的索引和切片\n",
    "## 一维数组的索引  \n",
    "类似于Python中的列表  \n",
    "**例3-25** 一维数组的索引"
   ]
  },
  {
   "cell_type": "code",
   "execution_count": 28,
   "metadata": {},
   "outputs": [
    {
     "name": "stdout",
     "output_type": "stream",
     "text": [
      "[0 1 2 3 4 5 6 7 8 9]\n",
      "2\n",
      "9\n",
      "[1 2 3]\n"
     ]
    }
   ],
   "source": [
    "arr=np.arange(10)\n",
    "print(arr)\n",
    "print(arr[2])\n",
    "print(arr[-1])\n",
    "print(arr[1:4])"
   ]
  },
  {
   "cell_type": "markdown",
   "metadata": {},
   "source": [
    "数组切片返回的是原始数组的视图，不产生新数据。即在视图上的操作会是原数组改变。  \n",
    "复制数据使用copy方法  \n",
    "**例3-26**  数组元素的复制"
   ]
  },
  {
   "cell_type": "code",
   "execution_count": 29,
   "metadata": {},
   "outputs": [
    {
     "name": "stdout",
     "output_type": "stream",
     "text": [
      "[0 1 2 3 4 5 6 7 8 9]\n",
      "[6 7 8]\n"
     ]
    }
   ],
   "source": [
    "arr1=arr[-4:-1].copy()\n",
    "print(arr)\n",
    "print(arr1)"
   ]
  },
  {
   "cell_type": "markdown",
   "metadata": {},
   "source": [
    "## 多维数组的索引\n",
    "各个维度的索引之间用逗号分隔\n",
    "\n",
    "**例3-27** 多维数组的索引"
   ]
  },
  {
   "cell_type": "code",
   "execution_count": 30,
   "metadata": {},
   "outputs": [
    {
     "name": "stdout",
     "output_type": "stream",
     "text": [
      "[[ 0  1  2  3]\n",
      " [ 4  5  6  7]\n",
      " [ 8  9 10 11]]\n",
      "[1 2]\n",
      "[ 2  6 10]\n",
      "[[0]]\n"
     ]
    }
   ],
   "source": [
    "arr=np.arange(12).reshape(3,4)\n",
    "print(arr)\n",
    "print(arr[0,1:3])\n",
    "print(arr[:,2])\n",
    "print(arr[:1, :1])"
   ]
  },
  {
   "cell_type": "markdown",
   "metadata": {},
   "source": [
    "- 也可使用整数函数和布尔数值索引访问多维数组  \n",
    "\n",
    "**例3-28** 访问多维数组"
   ]
  },
  {
   "cell_type": "code",
   "execution_count": 31,
   "metadata": {},
   "outputs": [
    {
     "name": "stdout",
     "output_type": "stream",
     "text": [
      "[[ 0  1  2  3]\n",
      " [ 4  5  6  7]\n",
      " [ 8  9 10 11]]\n",
      "索引结果1： [1 7]\n",
      "索引结果2： [[4 6 7]]\n",
      "索引结果3： [1 9]\n"
     ]
    }
   ],
   "source": [
    "arr=np.arange(12).reshape(3,4)\n",
    "print(arr)\n",
    "print('索引结果1：',arr[(0,1),(1,3)])\n",
    "print('索引结果2：',arr[1:2,(0,2,3)])\n",
    "mask=np.array([1,0,1],dtype=np.bool)\n",
    "print('索引结果3：',arr[mask,1])"
   ]
  },
  {
   "cell_type": "markdown",
   "metadata": {},
   "source": [
    "---\n",
    "# 数组的运算\n",
    "## 数组和标量间的运算\n",
    "相同维度的数组的算术运算直接应用到元素中  \n",
    "**例3-29**  数组元素的追加"
   ]
  },
  {
   "cell_type": "code",
   "execution_count": 32,
   "metadata": {},
   "outputs": [
    {
     "name": "stdout",
     "output_type": "stream",
     "text": [
      "b数组： [1, 4, 9]\n",
      "c数组： [2 4 6]\n"
     ]
    }
   ],
   "source": [
    "a=[1,2,3]\n",
    "b=[]\n",
    "for i in a:\n",
    "    b.append(i*i)\n",
    "print('b数组：',b)\n",
    "wy=np.array([1,2,3])\n",
    "c=wy*2\n",
    "print('c数组：',c)"
   ]
  },
  {
   "cell_type": "markdown",
   "metadata": {},
   "source": [
    "## ufunc函数\n",
    "全称：通用函数，能对数组中的所有元素进行操作。  \n",
    "对一个数组进行重复运算时，效率比math库中的函数效率高\n",
    "### 常用的ufunc函数运算\n",
    "1. 四则运算：加+，减-，乘(*)，除/，幂***   \n",
    "对每个数组中的元素进行四则运算，**形状必须相同**   \n",
    "2. 比较运算：>、<、==、>=、<=、！=\n",
    "返回的结果是布尔数组，每个元素为每个数组对应元素的比较结果    \n",
    "3. 逻辑运算：np.any函数表示逻辑or；np.all函数表示逻辑and  \n",
    "**例3-30**  数组的四则运算"
   ]
  },
  {
   "cell_type": "code",
   "execution_count": 33,
   "metadata": {},
   "outputs": [
    {
     "name": "stdout",
     "output_type": "stream",
     "text": [
      "数组相加结果： [5 7 9]\n",
      "数组相减结果： [-3 -3 -3]\n",
      "数组相乘结果： [ 4 10 18]\n",
      "数组幂运算结果： [  1  32 729]\n"
     ]
    }
   ],
   "source": [
    "x=np.array([1,2,3])\n",
    "y=np.array([4,5,6])\n",
    "print('数组相加结果：',x+y)\n",
    "print('数组相减结果：',x-y)\n",
    "print('数组相乘结果：',x*y)\n",
    "print('数组幂运算结果：',x**y)"
   ]
  },
  {
   "cell_type": "markdown",
   "metadata": {},
   "source": [
    "比较运算返回结果是布尔数组  \n",
    "**例3-31**  数组的比较运算"
   ]
  },
  {
   "cell_type": "code",
   "execution_count": 34,
   "metadata": {},
   "outputs": [
    {
     "name": "stdout",
     "output_type": "stream",
     "text": [
      "比较结果(<): [ True False False]\n",
      "比较结果(>): [False False  True]\n",
      "比较结果(==): [False  True False]\n",
      "比较结果(>=): [False  True  True]\n",
      "比较结果(!=): [ True False  True]\n"
     ]
    }
   ],
   "source": [
    "x=np.array([1,3,6])\n",
    "y=np.array([2,3,4])\n",
    "print('比较结果(<):',x<y)\n",
    "print('比较结果(>):',x>y)\n",
    "print('比较结果(==):',x==y)\n",
    "print('比较结果(>=):',x>=y)\n",
    "print('比较结果(!=):',x!=y)"
   ]
  },
  {
   "cell_type": "markdown",
   "metadata": {},
   "source": [
    "## ufunc函数的广播机制\n",
    "广播：不同性质的数组之间执行算术运算的方式。  \n",
    "广播机制的4个原则：  \n",
    "1. 所以输入数组都向shape最长的数组看齐，shape不足的部分在前面加1补齐\n",
    "2. 输出数组的shape是输入数组在各轴上的最大值\n",
    "3. 输入数组某个轴和输出数组的对应轴的长度相同或其长度为1，这个数组可以用来计算，否则出错\n",
    "4. 输入数组的某个轴长度为1时，沿此轴运算时用此轴上的第一组值  \n",
    "**例3-32**  ufunc函数的广播"
   ]
  },
  {
   "cell_type": "code",
   "execution_count": 35,
   "metadata": {},
   "outputs": [
    {
     "name": "stdout",
     "output_type": "stream",
     "text": [
      "arr1:\n",
      " [[0 0 0]\n",
      " [1 1 1]\n",
      " [2 2 2]]\n",
      "arr2:\n",
      " [1 2 3]\n",
      "arr1+arr2:\n",
      " [[1 2 3]\n",
      " [2 3 4]\n",
      " [3 4 5]]\n"
     ]
    }
   ],
   "source": [
    "arr1=np.array([[0,0,0],[1,1,1],[2,2,2]])\n",
    "arr2=np.array([1,2,3])\n",
    "print('arr1:\\n',arr1)\n",
    "print('arr2:\\n',arr2)\n",
    "print('arr1+arr2:\\n',arr1+arr2)"
   ]
  },
  {
   "cell_type": "markdown",
   "metadata": {},
   "source": [
    "## 条件逻辑运算\n",
    "使用基本的逻辑运算，或NumPy提供的where方法。  \n",
    "np.where(condition, x, y)，满足condition就输出x，不满足则输出y。  \n",
    "**例3-33**  数组的逻辑运算"
   ]
  },
  {
   "cell_type": "code",
   "execution_count": 36,
   "metadata": {},
   "outputs": [
    {
     "data": {
      "text/plain": [
       "[1, 4, 5, 8]"
      ]
     },
     "execution_count": 36,
     "metadata": {},
     "output_type": "execute_result"
    }
   ],
   "source": [
    "arr1=np.array([1,3,5,7])\n",
    "arr2=np.array([2,4,6,8])\n",
    "cond=np.array([True,False,True,False])\n",
    "result=[(x if c else y) for x,y,c in zip(arr1,arr2,cond)]  # 将对象中对应的元素打包成一个个元组，然后返回由这些元组组成的列表。\n",
    "result"
   ]
  },
  {
   "cell_type": "markdown",
   "metadata": {},
   "source": [
    "**例3-34**  where的基本用法"
   ]
  },
  {
   "cell_type": "code",
   "execution_count": 37,
   "metadata": {},
   "outputs": [
    {
     "data": {
      "text/plain": [
       "array([[1, 8],\n",
       "       [3, 4]])"
      ]
     },
     "execution_count": 37,
     "metadata": {},
     "output_type": "execute_result"
    }
   ],
   "source": [
    "np.where([[True,False],[True,True]],[[1,2],[3,4]],[[9,8],[7,6]])"
   ]
  },
  {
   "cell_type": "markdown",
   "metadata": {},
   "source": [
    "**例3-35** where中只有condition参数"
   ]
  },
  {
   "cell_type": "code",
   "execution_count": 38,
   "metadata": {},
   "outputs": [
    {
     "data": {
      "text/plain": [
       "(array([1, 2, 4], dtype=int64),)"
      ]
     },
     "execution_count": 38,
     "metadata": {},
     "output_type": "execute_result"
    }
   ],
   "source": [
    "w=np.array([2,5,6,3,10])\n",
    "np.where(w>4)"
   ]
  },
  {
   "cell_type": "markdown",
   "metadata": {},
   "source": [
    "---\n",
    "# 数组的读/写\n",
    "## 读写二进制文件\n",
    "NumPy中读/写二进制文件的方法有以下两种：  \n",
    "1. numpy.load(\"文件名.npy\")：从二进制的文件中读取数据\n",
    "2. numpy.save(\"文件名[.npy]\",arr)：以二进制的格式保存数据\n",
    "\n",
    "**例3-36**  数组的读/写"
   ]
  },
  {
   "cell_type": "code",
   "execution_count": 39,
   "metadata": {},
   "outputs": [
    {
     "name": "stdout",
     "output_type": "stream",
     "text": [
      "[[ 1  2  3  4]\n",
      " [ 5  6  7  8]\n",
      " [ 9 10 11 12]]\n",
      "[[ 1  2  3  4]\n",
      " [ 5  6  7  8]\n",
      " [ 9 10 11 12]]\n"
     ]
    }
   ],
   "source": [
    "a=np.arange(1,13).reshape(3,4)\n",
    "print(a)\n",
    "np.save('arr.npy',a)\n",
    "c=np.load('arr.npy')\n",
    "print(c)"
   ]
  },
  {
   "cell_type": "markdown",
   "metadata": {},
   "source": [
    "**例3-37**  多个数组保存"
   ]
  },
  {
   "cell_type": "code",
   "execution_count": 40,
   "metadata": {},
   "outputs": [
    {
     "name": "stdout",
     "output_type": "stream",
     "text": [
      "[0.         0.09983342 0.19866933 0.29552021 0.38941834 0.47942554\n",
      " 0.56464247 0.64421769 0.71735609 0.78332691]\n"
     ]
    },
    {
     "data": {
      "text/plain": [
       "array([[1, 2, 3],\n",
       "       [4, 5, 6]])"
      ]
     },
     "execution_count": 40,
     "metadata": {},
     "output_type": "execute_result"
    }
   ],
   "source": [
    "a=np.array([[1,2,3],[4,5,6]])\n",
    "b=np.arange(0, 1.0, 0.1)\n",
    "c=np.sin(b)\n",
    "print(c)\n",
    "np.savez('result.npz',a,b,sin_array=c)\n",
    "r=np.load('result.npz')\n",
    "r['arr_0']"
   ]
  },
  {
   "cell_type": "markdown",
   "metadata": {},
   "source": [
    "## 读/写文本文件\n",
    "Numpy中读/写文本文件的主要方法：\n",
    "1. numpy.loadtxt(\".../tmp/arr.txt\",delimiter=\",\")：把文件加载到一个二维数组中\n",
    "2. numpy.savetxt(\".../tmp/arr.txt\",arr,fmt=\"%d\",delimiter=\",\")：将数组写到某种分隔符隔开的文本文件中\n",
    "3. numpy.getfromtxt(\".../tmp/arr.txt\",delimiter=\",\")：结构化数组和确实数据\n",
    "**例3-38**  读/写文本文件"
   ]
  },
  {
   "cell_type": "code",
   "execution_count": 41,
   "metadata": {},
   "outputs": [
    {
     "data": {
      "text/plain": [
       "array([[ 0.,  0.,  1.,  1.,  2.,  2.],\n",
       "       [ 3.,  3.,  4.,  4.,  5.,  5.],\n",
       "       [ 6.,  6.,  7.,  7.,  8.,  8.],\n",
       "       [ 9.,  9., 10., 10., 11., 11.]])"
      ]
     },
     "execution_count": 41,
     "metadata": {},
     "output_type": "execute_result"
    }
   ],
   "source": [
    "a=np.arange(0,12,0.5).reshape(4,-1)\n",
    "np.savetxt(\"a1-out.txt\",a)\n",
    "np.loadtxt(\"a1-out.txt\")\n",
    "np.savetxt(\"a2-out.txt\",a,fmt=\"%d\",delimiter=\",\")\n",
    "np.loadtxt(\"a2-out.txt\",delimiter=\",\")"
   ]
  },
  {
   "cell_type": "markdown",
   "metadata": {},
   "source": [
    "## 读取CSV文件\n",
    "格式：\n",
    "loadtxt(fname, dtype= ,comments=\"#\",delimiter=None, converters=None,skiprows=0,usrcols=None,unpack=False,nmin=0,encoding-'bytes')  \n",
    "\n",
    "|参数|使用说明|\n",
    "|:--:|:--:|\n",
    "|fname|str，读取csv文件名|\n",
    "|delimiter|str，数据分隔符|\n",
    "|usrcols|tuple(元组)，执行加载数据文件中的那些示例|\n",
    "|skiprpws|int，在跳过前几行表示为描述性文件|\n",
    "|encoding|bypes,编码格式|"
   ]
  },
  {
   "cell_type": "markdown",
   "metadata": {},
   "source": [
    "---\n",
    "# NumPy中的数据统计与分析\n",
    "## 排序\n",
    "Numpy的排序方式：\n",
    "- 直接排序：对数据直接进行排序。使用sort函数  \n",
    "\n",
    "sort函数调用噶爱彼岸原始数组，无返回值。格式：  \n",
    "numpy.sort(a,axis,kind,order)  \n",
    "\n",
    "|参数|说明|\n",
    "|:--:|:--:|\n",
    "|a|要排序的数组|\n",
    "|axis|使sort函数沿着指定轴对数据集进行排序。axis=1，沿横轴排序；axis=0，沿纵轴排序；axis=None，将数组平坦化后排序|\n",
    "|kind|排序算法，默认为quicksort|\n",
    "|order|若数组包含字段，则排序字段|\n",
    "\n",
    "- 间接排序：根据一个或多个键值 对数据集进行排序。使用argsort函数和lexsort函数\n",
    "    - argsort():返回的是数组元素从小到大位置的索引。\n",
    "    - lexsort([序列]):序列中的最后一个键用于主排序顺序，倒数第二个键用于辅助排序顺序，依次从序列的后面往前减小排序的次序。\n",
    "\n",
    "**例3-39** 用sort函数进行排序"
   ]
  },
  {
   "cell_type": "code",
   "execution_count": 42,
   "metadata": {},
   "outputs": [
    {
     "name": "stdout",
     "output_type": "stream",
     "text": [
      "原数组： [7 9 5 2 9 4 3 1 4 3]\n",
      "排序后： [1 2 3 3 4 4 5 7 9 9]\n"
     ]
    }
   ],
   "source": [
    "arr=np.array([7,9,5,2,9,4,3,1,4,3])\n",
    "print(\"原数组：\",arr)\n",
    "arr.sort()\n",
    "print(\"排序后：\",arr)"
   ]
  },
  {
   "cell_type": "markdown",
   "metadata": {},
   "source": [
    "**例3-40**  带轴向参数的sort排序"
   ]
  },
  {
   "cell_type": "code",
   "execution_count": 43,
   "metadata": {},
   "outputs": [
    {
     "name": "stdout",
     "output_type": "stream",
     "text": [
      "原数组：\n",
      " [[4 2 9 5]\n",
      " [6 4 8 3]\n",
      " [1 6 2 4]]\n",
      "横向排序后：\n",
      " [[2 4 5 9]\n",
      " [3 4 6 8]\n",
      " [1 2 4 6]]\n",
      "纵向排序后：\n",
      " [[1 2 4 6]\n",
      " [2 4 5 8]\n",
      " [3 4 6 9]]\n"
     ]
    }
   ],
   "source": [
    "arr=np.array([[4,2,9,5],[6,4,8,3],[1,6,2,4]])\n",
    "print(\"原数组：\\n\",arr)\n",
    "arr.sort(axis=1)\n",
    "print(\"横向排序后：\\n\",arr)\n",
    "arr.sort(axis=0)\n",
    "print(\"纵向排序后：\\n\",arr)"
   ]
  },
  {
   "cell_type": "markdown",
   "metadata": {},
   "source": [
    "- 用argsort和lexsort函数，给定一个或多个键时，得到一个由整数构成的索引数组，索引值表示数据在新的序列中的位置\n",
    "\n",
    "**例3-41**  用argsort函数进行排序"
   ]
  },
  {
   "cell_type": "code",
   "execution_count": 44,
   "metadata": {},
   "outputs": [
    {
     "name": "stdout",
     "output_type": "stream",
     "text": [
      "原数组： [7 9 5 2 9 4 3 1 4 3]\n",
      "排序后: [7 3 6 9 5 8 2 0 1 4]\n"
     ]
    }
   ],
   "source": [
    "arr=np.array([7,9,5,2,9,4,3,1,4,3])\n",
    "print(\"原数组：\",arr)\n",
    "b=np.argsort(arr);\n",
    "print(\"排序后:\",b)\n",
    "#print(\"排序后：\",arr.argsort())\n",
    "# b[0]=7,表示原列表a的最小元素的索引为7,即原数组的第8个元素\n",
    "# b[1]=3，表示原列表的第二小元素的索引为3"
   ]
  },
  {
   "cell_type": "markdown",
   "metadata": {},
   "source": [
    "**例3-42**  用lexsort进行排序"
   ]
  },
  {
   "cell_type": "code",
   "execution_count": 45,
   "metadata": {},
   "outputs": [
    {
     "name": "stdout",
     "output_type": "stream",
     "text": [
      "[1 2 0 3]\n",
      "排序后： [(2, 2, 2), (1, 6, 4), (7, 5, 5), (4, 7, 6)]\n"
     ]
    }
   ],
   "source": [
    "a=np.array([7,2,1,4])\n",
    "b=np.array([5,2,6,7])\n",
    "c=np.array([5,2,4,6])\n",
    "d=np.lexsort((a,b,c))\n",
    "print(d)\n",
    "print(\"排序后：\",list(zip(a[d],b[d],c[d])))  ##zip用于\"缝合\"序列，返回可迭代对象"
   ]
  },
  {
   "cell_type": "markdown",
   "metadata": {},
   "source": [
    "## 重复数据去重\n",
    "- 用unique函数找到数组中的唯一值并返回以排序的结果  \n",
    "\n",
    "**例3-43**  数组内数据去重"
   ]
  },
  {
   "cell_type": "code",
   "execution_count": 46,
   "metadata": {},
   "outputs": [
    {
     "name": "stdout",
     "output_type": "stream",
     "text": [
      "原数组： ['红色' '蓝色' '黄色' '白色' '红色']\n",
      "去重后的数组： ['白色' '红色' '蓝色' '黄色']\n"
     ]
    }
   ],
   "source": [
    "names=np.array(['红色','蓝色','黄色','白色','红色'])\n",
    "print(\"原数组：\",names)\n",
    "print(\"去重后的数组：\",np.unique(names))"
   ]
  },
  {
   "cell_type": "markdown",
   "metadata": {},
   "source": [
    "- 用tile和repeat函数实现数据重复\n",
    "    - tile格式：  \n",
    "    numpy.tile(A,reps)，其中参数A表示要重复的数组，reps表示重复的次数\n",
    "    \n",
    "**例3-44**  用tile函数实现数据重复"
   ]
  },
  {
   "cell_type": "code",
   "execution_count": 47,
   "metadata": {},
   "outputs": [
    {
     "name": "stdout",
     "output_type": "stream",
     "text": [
      "原数组： 5\n",
      "重复数据处理：\n",
      " [5 5 5]\n"
     ]
    }
   ],
   "source": [
    "arr=np.array(5)\n",
    "print(\"原数组：\",arr)\n",
    "wy=np.tile(arr,3)\n",
    "print(\"重复数据处理：\\n\",wy)"
   ]
  },
  {
   "cell_type": "markdown",
   "metadata": {},
   "source": [
    "- repeat格式：  \n",
    "numpy.repeat(a,reps,axis=None)，其中参数a是需要重复的数组元素，参数repeat是重复次数，参数axis指定沿者哪个轴进行重复：axis=0，表示按行进行元素重复；axis=1,表示按列进行元素重复\n",
    "\n",
    "**例3-45** 用repeat函数实现数据重复"
   ]
  },
  {
   "cell_type": "code",
   "execution_count": 48,
   "metadata": {},
   "outputs": [
    {
     "name": "stdout",
     "output_type": "stream",
     "text": [
      "按行重复数据处理：\n",
      " [[1 2 3]\n",
      " [1 2 3]\n",
      " [4 5 6]\n",
      " [4 5 6]]\n",
      "按列重复数据处理：\n",
      " [[1 1 2 2 3 3]\n",
      " [4 4 5 5 6 6]]\n"
     ]
    }
   ],
   "source": [
    "arr=np.array([[1,2,3],[4,5,6]])\n",
    "print(\"按行重复数据处理：\\n\",arr.repeat(2,axis=0))\n",
    "print(\"按列重复数据处理：\\n\",arr.repeat(2,axis=1))"
   ]
  },
  {
   "cell_type": "markdown",
   "metadata": {},
   "source": [
    "## 常用统计函数\n",
    "常见的有：sum、mean、std、var、min、max  \n",
    "统计函数针对二维数组的时候需要注意**轴**的概念。当**axis=0**时，表示**沿着纵轴**进行计算；**axis=1**时，表示**沿着横轴**进行计算。  \n",
    "**例3-46** numpy中常用函数的使用"
   ]
  },
  {
   "cell_type": "code",
   "execution_count": 49,
   "metadata": {},
   "outputs": [
    {
     "name": "stdout",
     "output_type": "stream",
     "text": [
      "创建的数组为：\n",
      " [[ 0  1  2  3  4]\n",
      " [ 5  6  7  8  9]\n",
      " [10 11 12 13 14]\n",
      " [15 16 17 18 19]]\n",
      "数组的和： 190\n",
      "数组纵轴的和： [30 34 38 42 46]\n",
      "数组横轴的和： [10 35 60 85]\n",
      "数组的均值： 9.5\n",
      "数组纵轴的均值： [ 7.5  8.5  9.5 10.5 11.5]\n",
      "数组横轴的均值： [ 2.  7. 12. 17.]\n",
      "数组的标准差： 5.766281297335398\n",
      "数组纵轴的标准差： [5.59016994 5.59016994 5.59016994 5.59016994 5.59016994]\n",
      "数组横轴的标准差： [1.41421356 1.41421356 1.41421356 1.41421356]\n"
     ]
    }
   ],
   "source": [
    "arr=np.arange(20).reshape(4,5)\n",
    "print(\"创建的数组为：\\n\",arr)\n",
    "print(\"数组的和：\",np.sum(arr))\n",
    "print(\"数组纵轴的和：\",np.sum(arr,axis=0))\n",
    "print(\"数组横轴的和：\",np.sum(arr,axis=1))\n",
    "print(\"数组的均值：\",np.mean(arr))\n",
    "print(\"数组纵轴的均值：\",np.mean(arr,axis=0))\n",
    "print(\"数组横轴的均值：\",np.mean(arr,axis=1))\n",
    "print(\"数组的标准差：\",np.std(arr))\n",
    "print(\"数组纵轴的标准差：\",np.std(arr,axis=0))\n",
    "print(\"数组横轴的标准差：\",np.std(arr,axis=1))"
   ]
  },
  {
   "cell_type": "markdown",
   "metadata": {},
   "source": [
    "---\n",
    "# 本章实训\n",
    "读取iris数据集中的鸢尾花的萼片、花瓣长度数据，并对其进行排序、去重，并求出和、累积和、均值、标准差、方差、最小值、最大值。"
   ]
  },
  {
   "cell_type": "code",
   "execution_count": 50,
   "metadata": {},
   "outputs": [],
   "source": [
    "# 导入模块\n",
    "import numpy as np\n",
    "import csv\n",
    "\n",
    "# 获取数据\n",
    "iris_data=[]\n",
    "with open(r'D:\\My_Project\\PythonProject\\2020-2021第一学期_数据可视化_杨波\\data\\data3\\iris.csv') as csvfile:\n",
    "    # 使用csv.reader读取csvfile文件\n",
    "    csv_reader=csv.reader(csvfile)\n",
    "    # 读取第一行各列的标题\n",
    "    birth_header=next(csv_reader)\n",
    "    # 将csv文件的数据保存到birth_data\n",
    "    for row in csv_reader:\n",
    "        iris_data.append(row)"
   ]
  },
  {
   "cell_type": "code",
   "execution_count": 51,
   "metadata": {},
   "outputs": [
    {
     "name": "stdout",
     "output_type": "stream",
     "text": [
      "['', 'Sepal.Length', 'Sepal.Width', 'Petal.Length', 'Petal.Width', 'Species']\n"
     ]
    },
    {
     "data": {
      "text/plain": [
       "[['1', '5.1', '3.5', '1.4', '0.2', 'setosa'],\n",
       " ['2', '4.9', '3', '1.4', '0.2', 'setosa'],\n",
       " ['3', '4.7', '3.2', '1.3', '0.2', 'setosa'],\n",
       " ['4', '4.6', '3.1', '1.5', '0.2', 'setosa'],\n",
       " ['5', '5', '3.6', '1.4', '0.2', 'setosa'],\n",
       " ['6', '5.4', '3.9', '1.7', '0.4', 'setosa'],\n",
       " ['7', '4.6', '3.4', '1.4', '0.3', 'setosa'],\n",
       " ['8', '5', '3.4', '1.5', '0.2', 'setosa'],\n",
       " ['9', '4.4', '2.9', '1.4', '0.2', 'setosa'],\n",
       " ['10', '4.9', '3.1', '1.5', '0.1', 'setosa'],\n",
       " ['11', '5.4', '3.7', '1.5', '0.2', 'setosa'],\n",
       " ['12', '4.8', '3.4', '1.6', '0.2', 'setosa'],\n",
       " ['13', '4.8', '3', '1.4', '0.1', 'setosa'],\n",
       " ['14', '4.3', '3', '1.1', '0.1', 'setosa'],\n",
       " ['15', '5.8', '4', '1.2', '0.2', 'setosa'],\n",
       " ['16', '5.7', '4.4', '1.5', '0.4', 'setosa'],\n",
       " ['17', '5.4', '3.9', '1.3', '0.4', 'setosa'],\n",
       " ['18', '5.1', '3.5', '1.4', '0.3', 'setosa'],\n",
       " ['19', '5.7', '3.8', '1.7', '0.3', 'setosa'],\n",
       " ['20', '5.1', '3.8', '1.5', '0.3', 'setosa'],\n",
       " ['21', '5.4', '3.4', '1.7', '0.2', 'setosa'],\n",
       " ['22', '5.1', '3.7', '1.5', '0.4', 'setosa'],\n",
       " ['23', '4.6', '3.6', '1', '0.2', 'setosa'],\n",
       " ['24', '5.1', '3.3', '1.7', '0.5', 'setosa'],\n",
       " ['25', '4.8', '3.4', '1.9', '0.2', 'setosa'],\n",
       " ['26', '5', '3', '1.6', '0.2', 'setosa'],\n",
       " ['27', '5', '3.4', '1.6', '0.4', 'setosa'],\n",
       " ['28', '5.2', '3.5', '1.5', '0.2', 'setosa'],\n",
       " ['29', '5.2', '3.4', '1.4', '0.2', 'setosa'],\n",
       " ['30', '4.7', '3.2', '1.6', '0.2', 'setosa'],\n",
       " ['31', '4.8', '3.1', '1.6', '0.2', 'setosa'],\n",
       " ['32', '5.4', '3.4', '1.5', '0.4', 'setosa'],\n",
       " ['33', '5.2', '4.1', '1.5', '0.1', 'setosa'],\n",
       " ['34', '5.5', '4.2', '1.4', '0.2', 'setosa'],\n",
       " ['35', '4.9', '3.1', '1.5', '0.2', 'setosa'],\n",
       " ['36', '5', '3.2', '1.2', '0.2', 'setosa'],\n",
       " ['37', '5.5', '3.5', '1.3', '0.2', 'setosa'],\n",
       " ['38', '4.9', '3.6', '1.4', '0.1', 'setosa'],\n",
       " ['39', '4.4', '3', '1.3', '0.2', 'setosa'],\n",
       " ['40', '5.1', '3.4', '1.5', '0.2', 'setosa'],\n",
       " ['41', '5', '3.5', '1.3', '0.3', 'setosa'],\n",
       " ['42', '4.5', '2.3', '1.3', '0.3', 'setosa'],\n",
       " ['43', '4.4', '3.2', '1.3', '0.2', 'setosa'],\n",
       " ['44', '5', '3.5', '1.6', '0.6', 'setosa'],\n",
       " ['45', '5.1', '3.8', '1.9', '0.4', 'setosa'],\n",
       " ['46', '4.8', '3', '1.4', '0.3', 'setosa'],\n",
       " ['47', '5.1', '3.8', '1.6', '0.2', 'setosa'],\n",
       " ['48', '4.6', '3.2', '1.4', '0.2', 'setosa'],\n",
       " ['49', '5.3', '3.7', '1.5', '0.2', 'setosa'],\n",
       " ['50', '5', '3.3', '1.4', '0.2', 'setosa'],\n",
       " ['51', '7', '3.2', '4.7', '1.4', 'versicolor'],\n",
       " ['52', '6.4', '3.2', '4.5', '1.5', 'versicolor'],\n",
       " ['53', '6.9', '3.1', '4.9', '1.5', 'versicolor'],\n",
       " ['54', '5.5', '2.3', '4', '1.3', 'versicolor'],\n",
       " ['55', '6.5', '2.8', '4.6', '1.5', 'versicolor'],\n",
       " ['56', '5.7', '2.8', '4.5', '1.3', 'versicolor'],\n",
       " ['57', '6.3', '3.3', '4.7', '1.6', 'versicolor'],\n",
       " ['58', '4.9', '2.4', '3.3', '1', 'versicolor'],\n",
       " ['59', '6.6', '2.9', '4.6', '1.3', 'versicolor'],\n",
       " ['60', '5.2', '2.7', '3.9', '1.4', 'versicolor'],\n",
       " ['61', '5', '2', '3.5', '1', 'versicolor'],\n",
       " ['62', '5.9', '3', '4.2', '1.5', 'versicolor'],\n",
       " ['63', '6', '2.2', '4', '1', 'versicolor'],\n",
       " ['64', '6.1', '2.9', '4.7', '1.4', 'versicolor'],\n",
       " ['65', '5.6', '2.9', '3.6', '1.3', 'versicolor'],\n",
       " ['66', '6.7', '3.1', '4.4', '1.4', 'versicolor'],\n",
       " ['67', '5.6', '3', '4.5', '1.5', 'versicolor'],\n",
       " ['68', '5.8', '2.7', '4.1', '1', 'versicolor'],\n",
       " ['69', '6.2', '2.2', '4.5', '1.5', 'versicolor'],\n",
       " ['70', '5.6', '2.5', '3.9', '1.1', 'versicolor'],\n",
       " ['71', '5.9', '3.2', '4.8', '1.8', 'versicolor'],\n",
       " ['72', '6.1', '2.8', '4', '1.3', 'versicolor'],\n",
       " ['73', '6.3', '2.5', '4.9', '1.5', 'versicolor'],\n",
       " ['74', '6.1', '2.8', '4.7', '1.2', 'versicolor'],\n",
       " ['75', '6.4', '2.9', '4.3', '1.3', 'versicolor'],\n",
       " ['76', '6.6', '3', '4.4', '1.4', 'versicolor'],\n",
       " ['77', '6.8', '2.8', '4.8', '1.4', 'versicolor'],\n",
       " ['78', '6.7', '3', '5', '1.7', 'versicolor'],\n",
       " ['79', '6', '2.9', '4.5', '1.5', 'versicolor'],\n",
       " ['80', '5.7', '2.6', '3.5', '1', 'versicolor'],\n",
       " ['81', '5.5', '2.4', '3.8', '1.1', 'versicolor'],\n",
       " ['82', '5.5', '2.4', '3.7', '1', 'versicolor'],\n",
       " ['83', '5.8', '2.7', '3.9', '1.2', 'versicolor'],\n",
       " ['84', '6', '2.7', '5.1', '1.6', 'versicolor'],\n",
       " ['85', '5.4', '3', '4.5', '1.5', 'versicolor'],\n",
       " ['86', '6', '3.4', '4.5', '1.6', 'versicolor'],\n",
       " ['87', '6.7', '3.1', '4.7', '1.5', 'versicolor'],\n",
       " ['88', '6.3', '2.3', '4.4', '1.3', 'versicolor'],\n",
       " ['89', '5.6', '3', '4.1', '1.3', 'versicolor'],\n",
       " ['90', '5.5', '2.5', '4', '1.3', 'versicolor'],\n",
       " ['91', '5.5', '2.6', '4.4', '1.2', 'versicolor'],\n",
       " ['92', '6.1', '3', '4.6', '1.4', 'versicolor'],\n",
       " ['93', '5.8', '2.6', '4', '1.2', 'versicolor'],\n",
       " ['94', '5', '2.3', '3.3', '1', 'versicolor'],\n",
       " ['95', '5.6', '2.7', '4.2', '1.3', 'versicolor'],\n",
       " ['96', '5.7', '3', '4.2', '1.2', 'versicolor'],\n",
       " ['97', '5.7', '2.9', '4.2', '1.3', 'versicolor'],\n",
       " ['98', '6.2', '2.9', '4.3', '1.3', 'versicolor'],\n",
       " ['99', '5.1', '2.5', '3', '1.1', 'versicolor'],\n",
       " ['100', '5.7', '2.8', '4.1', '1.3', 'versicolor'],\n",
       " ['101', '6.3', '3.3', '6', '2.5', 'virginica'],\n",
       " ['102', '5.8', '2.7', '5.1', '1.9', 'virginica'],\n",
       " ['103', '7.1', '3', '5.9', '2.1', 'virginica'],\n",
       " ['104', '6.3', '2.9', '5.6', '1.8', 'virginica'],\n",
       " ['105', '6.5', '3', '5.8', '2.2', 'virginica'],\n",
       " ['106', '7.6', '3', '6.6', '2.1', 'virginica'],\n",
       " ['107', '4.9', '2.5', '4.5', '1.7', 'virginica'],\n",
       " ['108', '7.3', '2.9', '6.3', '1.8', 'virginica'],\n",
       " ['109', '6.7', '2.5', '5.8', '1.8', 'virginica'],\n",
       " ['110', '7.2', '3.6', '6.1', '2.5', 'virginica'],\n",
       " ['111', '6.5', '3.2', '5.1', '2', 'virginica'],\n",
       " ['112', '6.4', '2.7', '5.3', '1.9', 'virginica'],\n",
       " ['113', '6.8', '3', '5.5', '2.1', 'virginica'],\n",
       " ['114', '5.7', '2.5', '5', '2', 'virginica'],\n",
       " ['115', '5.8', '2.8', '5.1', '2.4', 'virginica'],\n",
       " ['116', '6.4', '3.2', '5.3', '2.3', 'virginica'],\n",
       " ['117', '6.5', '3', '5.5', '1.8', 'virginica'],\n",
       " ['118', '7.7', '3.8', '6.7', '2.2', 'virginica'],\n",
       " ['119', '7.7', '2.6', '6.9', '2.3', 'virginica'],\n",
       " ['120', '6', '2.2', '5', '1.5', 'virginica'],\n",
       " ['121', '6.9', '3.2', '5.7', '2.3', 'virginica'],\n",
       " ['122', '5.6', '2.8', '4.9', '2', 'virginica'],\n",
       " ['123', '7.7', '2.8', '6.7', '2', 'virginica'],\n",
       " ['124', '6.3', '2.7', '4.9', '1.8', 'virginica'],\n",
       " ['125', '6.7', '3.3', '5.7', '2.1', 'virginica'],\n",
       " ['126', '7.2', '3.2', '6', '1.8', 'virginica'],\n",
       " ['127', '6.2', '2.8', '4.8', '1.8', 'virginica'],\n",
       " ['128', '6.1', '3', '4.9', '1.8', 'virginica'],\n",
       " ['129', '6.4', '2.8', '5.6', '2.1', 'virginica'],\n",
       " ['130', '7.2', '3', '5.8', '1.6', 'virginica'],\n",
       " ['131', '7.4', '2.8', '6.1', '1.9', 'virginica'],\n",
       " ['132', '7.9', '3.8', '6.4', '2', 'virginica'],\n",
       " ['133', '6.4', '2.8', '5.6', '2.2', 'virginica'],\n",
       " ['134', '6.3', '2.8', '5.1', '1.5', 'virginica'],\n",
       " ['135', '6.1', '2.6', '5.6', '1.4', 'virginica'],\n",
       " ['136', '7.7', '3', '6.1', '2.3', 'virginica'],\n",
       " ['137', '6.3', '3.4', '5.6', '2.4', 'virginica'],\n",
       " ['138', '6.4', '3.1', '5.5', '1.8', 'virginica'],\n",
       " ['139', '6', '3', '4.8', '1.8', 'virginica'],\n",
       " ['140', '6.9', '3.1', '5.4', '2.1', 'virginica'],\n",
       " ['141', '6.7', '3.1', '5.6', '2.4', 'virginica'],\n",
       " ['142', '6.9', '3.1', '5.1', '2.3', 'virginica'],\n",
       " ['143', '5.8', '2.7', '5.1', '1.9', 'virginica'],\n",
       " ['144', '6.8', '3.2', '5.9', '2.3', 'virginica'],\n",
       " ['145', '6.7', '3.3', '5.7', '2.5', 'virginica'],\n",
       " ['146', '6.7', '3', '5.2', '2.3', 'virginica'],\n",
       " ['147', '6.3', '2.5', '5', '1.9', 'virginica'],\n",
       " ['148', '6.5', '3', '5.2', '2', 'virginica'],\n",
       " ['149', '6.2', '3.4', '5.4', '2.3', 'virginica'],\n",
       " ['150', '5.9', '3', '5.1', '1.8', 'virginica']]"
      ]
     },
     "execution_count": 51,
     "metadata": {},
     "output_type": "execute_result"
    }
   ],
   "source": [
    "print(birth_header)\n",
    "iris_data"
   ]
  },
  {
   "cell_type": "code",
   "execution_count": 52,
   "metadata": {},
   "outputs": [],
   "source": [
    "# 数据清理：去掉索引号\n",
    "iris_list=[]\n",
    "for row in iris_data:\n",
    "    iris_list.append(tuple(row[1:]))  # 每一行从第2个元素往后的元素存到iris_list"
   ]
  },
  {
   "cell_type": "code",
   "execution_count": 53,
   "metadata": {
    "scrolled": true
   },
   "outputs": [
    {
     "data": {
      "text/plain": [
       "[('5.1', '3.5', '1.4', '0.2', 'setosa'),\n",
       " ('4.9', '3', '1.4', '0.2', 'setosa'),\n",
       " ('4.7', '3.2', '1.3', '0.2', 'setosa'),\n",
       " ('4.6', '3.1', '1.5', '0.2', 'setosa'),\n",
       " ('5', '3.6', '1.4', '0.2', 'setosa'),\n",
       " ('5.4', '3.9', '1.7', '0.4', 'setosa'),\n",
       " ('4.6', '3.4', '1.4', '0.3', 'setosa'),\n",
       " ('5', '3.4', '1.5', '0.2', 'setosa'),\n",
       " ('4.4', '2.9', '1.4', '0.2', 'setosa'),\n",
       " ('4.9', '3.1', '1.5', '0.1', 'setosa'),\n",
       " ('5.4', '3.7', '1.5', '0.2', 'setosa'),\n",
       " ('4.8', '3.4', '1.6', '0.2', 'setosa'),\n",
       " ('4.8', '3', '1.4', '0.1', 'setosa'),\n",
       " ('4.3', '3', '1.1', '0.1', 'setosa'),\n",
       " ('5.8', '4', '1.2', '0.2', 'setosa'),\n",
       " ('5.7', '4.4', '1.5', '0.4', 'setosa'),\n",
       " ('5.4', '3.9', '1.3', '0.4', 'setosa'),\n",
       " ('5.1', '3.5', '1.4', '0.3', 'setosa'),\n",
       " ('5.7', '3.8', '1.7', '0.3', 'setosa'),\n",
       " ('5.1', '3.8', '1.5', '0.3', 'setosa'),\n",
       " ('5.4', '3.4', '1.7', '0.2', 'setosa'),\n",
       " ('5.1', '3.7', '1.5', '0.4', 'setosa'),\n",
       " ('4.6', '3.6', '1', '0.2', 'setosa'),\n",
       " ('5.1', '3.3', '1.7', '0.5', 'setosa'),\n",
       " ('4.8', '3.4', '1.9', '0.2', 'setosa'),\n",
       " ('5', '3', '1.6', '0.2', 'setosa'),\n",
       " ('5', '3.4', '1.6', '0.4', 'setosa'),\n",
       " ('5.2', '3.5', '1.5', '0.2', 'setosa'),\n",
       " ('5.2', '3.4', '1.4', '0.2', 'setosa'),\n",
       " ('4.7', '3.2', '1.6', '0.2', 'setosa'),\n",
       " ('4.8', '3.1', '1.6', '0.2', 'setosa'),\n",
       " ('5.4', '3.4', '1.5', '0.4', 'setosa'),\n",
       " ('5.2', '4.1', '1.5', '0.1', 'setosa'),\n",
       " ('5.5', '4.2', '1.4', '0.2', 'setosa'),\n",
       " ('4.9', '3.1', '1.5', '0.2', 'setosa'),\n",
       " ('5', '3.2', '1.2', '0.2', 'setosa'),\n",
       " ('5.5', '3.5', '1.3', '0.2', 'setosa'),\n",
       " ('4.9', '3.6', '1.4', '0.1', 'setosa'),\n",
       " ('4.4', '3', '1.3', '0.2', 'setosa'),\n",
       " ('5.1', '3.4', '1.5', '0.2', 'setosa'),\n",
       " ('5', '3.5', '1.3', '0.3', 'setosa'),\n",
       " ('4.5', '2.3', '1.3', '0.3', 'setosa'),\n",
       " ('4.4', '3.2', '1.3', '0.2', 'setosa'),\n",
       " ('5', '3.5', '1.6', '0.6', 'setosa'),\n",
       " ('5.1', '3.8', '1.9', '0.4', 'setosa'),\n",
       " ('4.8', '3', '1.4', '0.3', 'setosa'),\n",
       " ('5.1', '3.8', '1.6', '0.2', 'setosa'),\n",
       " ('4.6', '3.2', '1.4', '0.2', 'setosa'),\n",
       " ('5.3', '3.7', '1.5', '0.2', 'setosa'),\n",
       " ('5', '3.3', '1.4', '0.2', 'setosa'),\n",
       " ('7', '3.2', '4.7', '1.4', 'versicolor'),\n",
       " ('6.4', '3.2', '4.5', '1.5', 'versicolor'),\n",
       " ('6.9', '3.1', '4.9', '1.5', 'versicolor'),\n",
       " ('5.5', '2.3', '4', '1.3', 'versicolor'),\n",
       " ('6.5', '2.8', '4.6', '1.5', 'versicolor'),\n",
       " ('5.7', '2.8', '4.5', '1.3', 'versicolor'),\n",
       " ('6.3', '3.3', '4.7', '1.6', 'versicolor'),\n",
       " ('4.9', '2.4', '3.3', '1', 'versicolor'),\n",
       " ('6.6', '2.9', '4.6', '1.3', 'versicolor'),\n",
       " ('5.2', '2.7', '3.9', '1.4', 'versicolor'),\n",
       " ('5', '2', '3.5', '1', 'versicolor'),\n",
       " ('5.9', '3', '4.2', '1.5', 'versicolor'),\n",
       " ('6', '2.2', '4', '1', 'versicolor'),\n",
       " ('6.1', '2.9', '4.7', '1.4', 'versicolor'),\n",
       " ('5.6', '2.9', '3.6', '1.3', 'versicolor'),\n",
       " ('6.7', '3.1', '4.4', '1.4', 'versicolor'),\n",
       " ('5.6', '3', '4.5', '1.5', 'versicolor'),\n",
       " ('5.8', '2.7', '4.1', '1', 'versicolor'),\n",
       " ('6.2', '2.2', '4.5', '1.5', 'versicolor'),\n",
       " ('5.6', '2.5', '3.9', '1.1', 'versicolor'),\n",
       " ('5.9', '3.2', '4.8', '1.8', 'versicolor'),\n",
       " ('6.1', '2.8', '4', '1.3', 'versicolor'),\n",
       " ('6.3', '2.5', '4.9', '1.5', 'versicolor'),\n",
       " ('6.1', '2.8', '4.7', '1.2', 'versicolor'),\n",
       " ('6.4', '2.9', '4.3', '1.3', 'versicolor'),\n",
       " ('6.6', '3', '4.4', '1.4', 'versicolor'),\n",
       " ('6.8', '2.8', '4.8', '1.4', 'versicolor'),\n",
       " ('6.7', '3', '5', '1.7', 'versicolor'),\n",
       " ('6', '2.9', '4.5', '1.5', 'versicolor'),\n",
       " ('5.7', '2.6', '3.5', '1', 'versicolor'),\n",
       " ('5.5', '2.4', '3.8', '1.1', 'versicolor'),\n",
       " ('5.5', '2.4', '3.7', '1', 'versicolor'),\n",
       " ('5.8', '2.7', '3.9', '1.2', 'versicolor'),\n",
       " ('6', '2.7', '5.1', '1.6', 'versicolor'),\n",
       " ('5.4', '3', '4.5', '1.5', 'versicolor'),\n",
       " ('6', '3.4', '4.5', '1.6', 'versicolor'),\n",
       " ('6.7', '3.1', '4.7', '1.5', 'versicolor'),\n",
       " ('6.3', '2.3', '4.4', '1.3', 'versicolor'),\n",
       " ('5.6', '3', '4.1', '1.3', 'versicolor'),\n",
       " ('5.5', '2.5', '4', '1.3', 'versicolor'),\n",
       " ('5.5', '2.6', '4.4', '1.2', 'versicolor'),\n",
       " ('6.1', '3', '4.6', '1.4', 'versicolor'),\n",
       " ('5.8', '2.6', '4', '1.2', 'versicolor'),\n",
       " ('5', '2.3', '3.3', '1', 'versicolor'),\n",
       " ('5.6', '2.7', '4.2', '1.3', 'versicolor'),\n",
       " ('5.7', '3', '4.2', '1.2', 'versicolor'),\n",
       " ('5.7', '2.9', '4.2', '1.3', 'versicolor'),\n",
       " ('6.2', '2.9', '4.3', '1.3', 'versicolor'),\n",
       " ('5.1', '2.5', '3', '1.1', 'versicolor'),\n",
       " ('5.7', '2.8', '4.1', '1.3', 'versicolor'),\n",
       " ('6.3', '3.3', '6', '2.5', 'virginica'),\n",
       " ('5.8', '2.7', '5.1', '1.9', 'virginica'),\n",
       " ('7.1', '3', '5.9', '2.1', 'virginica'),\n",
       " ('6.3', '2.9', '5.6', '1.8', 'virginica'),\n",
       " ('6.5', '3', '5.8', '2.2', 'virginica'),\n",
       " ('7.6', '3', '6.6', '2.1', 'virginica'),\n",
       " ('4.9', '2.5', '4.5', '1.7', 'virginica'),\n",
       " ('7.3', '2.9', '6.3', '1.8', 'virginica'),\n",
       " ('6.7', '2.5', '5.8', '1.8', 'virginica'),\n",
       " ('7.2', '3.6', '6.1', '2.5', 'virginica'),\n",
       " ('6.5', '3.2', '5.1', '2', 'virginica'),\n",
       " ('6.4', '2.7', '5.3', '1.9', 'virginica'),\n",
       " ('6.8', '3', '5.5', '2.1', 'virginica'),\n",
       " ('5.7', '2.5', '5', '2', 'virginica'),\n",
       " ('5.8', '2.8', '5.1', '2.4', 'virginica'),\n",
       " ('6.4', '3.2', '5.3', '2.3', 'virginica'),\n",
       " ('6.5', '3', '5.5', '1.8', 'virginica'),\n",
       " ('7.7', '3.8', '6.7', '2.2', 'virginica'),\n",
       " ('7.7', '2.6', '6.9', '2.3', 'virginica'),\n",
       " ('6', '2.2', '5', '1.5', 'virginica'),\n",
       " ('6.9', '3.2', '5.7', '2.3', 'virginica'),\n",
       " ('5.6', '2.8', '4.9', '2', 'virginica'),\n",
       " ('7.7', '2.8', '6.7', '2', 'virginica'),\n",
       " ('6.3', '2.7', '4.9', '1.8', 'virginica'),\n",
       " ('6.7', '3.3', '5.7', '2.1', 'virginica'),\n",
       " ('7.2', '3.2', '6', '1.8', 'virginica'),\n",
       " ('6.2', '2.8', '4.8', '1.8', 'virginica'),\n",
       " ('6.1', '3', '4.9', '1.8', 'virginica'),\n",
       " ('6.4', '2.8', '5.6', '2.1', 'virginica'),\n",
       " ('7.2', '3', '5.8', '1.6', 'virginica'),\n",
       " ('7.4', '2.8', '6.1', '1.9', 'virginica'),\n",
       " ('7.9', '3.8', '6.4', '2', 'virginica'),\n",
       " ('6.4', '2.8', '5.6', '2.2', 'virginica'),\n",
       " ('6.3', '2.8', '5.1', '1.5', 'virginica'),\n",
       " ('6.1', '2.6', '5.6', '1.4', 'virginica'),\n",
       " ('7.7', '3', '6.1', '2.3', 'virginica'),\n",
       " ('6.3', '3.4', '5.6', '2.4', 'virginica'),\n",
       " ('6.4', '3.1', '5.5', '1.8', 'virginica'),\n",
       " ('6', '3', '4.8', '1.8', 'virginica'),\n",
       " ('6.9', '3.1', '5.4', '2.1', 'virginica'),\n",
       " ('6.7', '3.1', '5.6', '2.4', 'virginica'),\n",
       " ('6.9', '3.1', '5.1', '2.3', 'virginica'),\n",
       " ('5.8', '2.7', '5.1', '1.9', 'virginica'),\n",
       " ('6.8', '3.2', '5.9', '2.3', 'virginica'),\n",
       " ('6.7', '3.3', '5.7', '2.5', 'virginica'),\n",
       " ('6.7', '3', '5.2', '2.3', 'virginica'),\n",
       " ('6.3', '2.5', '5', '1.9', 'virginica'),\n",
       " ('6.5', '3', '5.2', '2', 'virginica'),\n",
       " ('6.2', '3.4', '5.4', '2.3', 'virginica'),\n",
       " ('5.9', '3', '5.1', '1.8', 'virginica')]"
      ]
     },
     "execution_count": 53,
     "metadata": {},
     "output_type": "execute_result"
    }
   ],
   "source": [
    "iris_list"
   ]
  },
  {
   "cell_type": "code",
   "execution_count": 54,
   "metadata": {
    "scrolled": true
   },
   "outputs": [
    {
     "name": "stdout",
     "output_type": "stream",
     "text": [
      "[('Sepal.Length', '<U40'), ('Sepal.Width', '<U40'), ('Petal.Length', '<U40'), ('Petal.Width', '<U40'), ('Species', '<U40')]\n"
     ]
    },
    {
     "data": {
      "text/plain": [
       "array([('5.1', '3.5', '1.4', '0.2', 'setosa'),\n",
       "       ('4.9', '3', '1.4', '0.2', 'setosa'),\n",
       "       ('4.7', '3.2', '1.3', '0.2', 'setosa'),\n",
       "       ('4.6', '3.1', '1.5', '0.2', 'setosa'),\n",
       "       ('5', '3.6', '1.4', '0.2', 'setosa'),\n",
       "       ('5.4', '3.9', '1.7', '0.4', 'setosa'),\n",
       "       ('4.6', '3.4', '1.4', '0.3', 'setosa'),\n",
       "       ('5', '3.4', '1.5', '0.2', 'setosa'),\n",
       "       ('4.4', '2.9', '1.4', '0.2', 'setosa'),\n",
       "       ('4.9', '3.1', '1.5', '0.1', 'setosa'),\n",
       "       ('5.4', '3.7', '1.5', '0.2', 'setosa'),\n",
       "       ('4.8', '3.4', '1.6', '0.2', 'setosa'),\n",
       "       ('4.8', '3', '1.4', '0.1', 'setosa'),\n",
       "       ('4.3', '3', '1.1', '0.1', 'setosa'),\n",
       "       ('5.8', '4', '1.2', '0.2', 'setosa'),\n",
       "       ('5.7', '4.4', '1.5', '0.4', 'setosa'),\n",
       "       ('5.4', '3.9', '1.3', '0.4', 'setosa'),\n",
       "       ('5.1', '3.5', '1.4', '0.3', 'setosa'),\n",
       "       ('5.7', '3.8', '1.7', '0.3', 'setosa'),\n",
       "       ('5.1', '3.8', '1.5', '0.3', 'setosa'),\n",
       "       ('5.4', '3.4', '1.7', '0.2', 'setosa'),\n",
       "       ('5.1', '3.7', '1.5', '0.4', 'setosa'),\n",
       "       ('4.6', '3.6', '1', '0.2', 'setosa'),\n",
       "       ('5.1', '3.3', '1.7', '0.5', 'setosa'),\n",
       "       ('4.8', '3.4', '1.9', '0.2', 'setosa'),\n",
       "       ('5', '3', '1.6', '0.2', 'setosa'),\n",
       "       ('5', '3.4', '1.6', '0.4', 'setosa'),\n",
       "       ('5.2', '3.5', '1.5', '0.2', 'setosa'),\n",
       "       ('5.2', '3.4', '1.4', '0.2', 'setosa'),\n",
       "       ('4.7', '3.2', '1.6', '0.2', 'setosa'),\n",
       "       ('4.8', '3.1', '1.6', '0.2', 'setosa'),\n",
       "       ('5.4', '3.4', '1.5', '0.4', 'setosa'),\n",
       "       ('5.2', '4.1', '1.5', '0.1', 'setosa'),\n",
       "       ('5.5', '4.2', '1.4', '0.2', 'setosa'),\n",
       "       ('4.9', '3.1', '1.5', '0.2', 'setosa'),\n",
       "       ('5', '3.2', '1.2', '0.2', 'setosa'),\n",
       "       ('5.5', '3.5', '1.3', '0.2', 'setosa'),\n",
       "       ('4.9', '3.6', '1.4', '0.1', 'setosa'),\n",
       "       ('4.4', '3', '1.3', '0.2', 'setosa'),\n",
       "       ('5.1', '3.4', '1.5', '0.2', 'setosa'),\n",
       "       ('5', '3.5', '1.3', '0.3', 'setosa'),\n",
       "       ('4.5', '2.3', '1.3', '0.3', 'setosa'),\n",
       "       ('4.4', '3.2', '1.3', '0.2', 'setosa'),\n",
       "       ('5', '3.5', '1.6', '0.6', 'setosa'),\n",
       "       ('5.1', '3.8', '1.9', '0.4', 'setosa'),\n",
       "       ('4.8', '3', '1.4', '0.3', 'setosa'),\n",
       "       ('5.1', '3.8', '1.6', '0.2', 'setosa'),\n",
       "       ('4.6', '3.2', '1.4', '0.2', 'setosa'),\n",
       "       ('5.3', '3.7', '1.5', '0.2', 'setosa'),\n",
       "       ('5', '3.3', '1.4', '0.2', 'setosa'),\n",
       "       ('7', '3.2', '4.7', '1.4', 'versicolor'),\n",
       "       ('6.4', '3.2', '4.5', '1.5', 'versicolor'),\n",
       "       ('6.9', '3.1', '4.9', '1.5', 'versicolor'),\n",
       "       ('5.5', '2.3', '4', '1.3', 'versicolor'),\n",
       "       ('6.5', '2.8', '4.6', '1.5', 'versicolor'),\n",
       "       ('5.7', '2.8', '4.5', '1.3', 'versicolor'),\n",
       "       ('6.3', '3.3', '4.7', '1.6', 'versicolor'),\n",
       "       ('4.9', '2.4', '3.3', '1', 'versicolor'),\n",
       "       ('6.6', '2.9', '4.6', '1.3', 'versicolor'),\n",
       "       ('5.2', '2.7', '3.9', '1.4', 'versicolor'),\n",
       "       ('5', '2', '3.5', '1', 'versicolor'),\n",
       "       ('5.9', '3', '4.2', '1.5', 'versicolor'),\n",
       "       ('6', '2.2', '4', '1', 'versicolor'),\n",
       "       ('6.1', '2.9', '4.7', '1.4', 'versicolor'),\n",
       "       ('5.6', '2.9', '3.6', '1.3', 'versicolor'),\n",
       "       ('6.7', '3.1', '4.4', '1.4', 'versicolor'),\n",
       "       ('5.6', '3', '4.5', '1.5', 'versicolor'),\n",
       "       ('5.8', '2.7', '4.1', '1', 'versicolor'),\n",
       "       ('6.2', '2.2', '4.5', '1.5', 'versicolor'),\n",
       "       ('5.6', '2.5', '3.9', '1.1', 'versicolor'),\n",
       "       ('5.9', '3.2', '4.8', '1.8', 'versicolor'),\n",
       "       ('6.1', '2.8', '4', '1.3', 'versicolor'),\n",
       "       ('6.3', '2.5', '4.9', '1.5', 'versicolor'),\n",
       "       ('6.1', '2.8', '4.7', '1.2', 'versicolor'),\n",
       "       ('6.4', '2.9', '4.3', '1.3', 'versicolor'),\n",
       "       ('6.6', '3', '4.4', '1.4', 'versicolor'),\n",
       "       ('6.8', '2.8', '4.8', '1.4', 'versicolor'),\n",
       "       ('6.7', '3', '5', '1.7', 'versicolor'),\n",
       "       ('6', '2.9', '4.5', '1.5', 'versicolor'),\n",
       "       ('5.7', '2.6', '3.5', '1', 'versicolor'),\n",
       "       ('5.5', '2.4', '3.8', '1.1', 'versicolor'),\n",
       "       ('5.5', '2.4', '3.7', '1', 'versicolor'),\n",
       "       ('5.8', '2.7', '3.9', '1.2', 'versicolor'),\n",
       "       ('6', '2.7', '5.1', '1.6', 'versicolor'),\n",
       "       ('5.4', '3', '4.5', '1.5', 'versicolor'),\n",
       "       ('6', '3.4', '4.5', '1.6', 'versicolor'),\n",
       "       ('6.7', '3.1', '4.7', '1.5', 'versicolor'),\n",
       "       ('6.3', '2.3', '4.4', '1.3', 'versicolor'),\n",
       "       ('5.6', '3', '4.1', '1.3', 'versicolor'),\n",
       "       ('5.5', '2.5', '4', '1.3', 'versicolor'),\n",
       "       ('5.5', '2.6', '4.4', '1.2', 'versicolor'),\n",
       "       ('6.1', '3', '4.6', '1.4', 'versicolor'),\n",
       "       ('5.8', '2.6', '4', '1.2', 'versicolor'),\n",
       "       ('5', '2.3', '3.3', '1', 'versicolor'),\n",
       "       ('5.6', '2.7', '4.2', '1.3', 'versicolor'),\n",
       "       ('5.7', '3', '4.2', '1.2', 'versicolor'),\n",
       "       ('5.7', '2.9', '4.2', '1.3', 'versicolor'),\n",
       "       ('6.2', '2.9', '4.3', '1.3', 'versicolor'),\n",
       "       ('5.1', '2.5', '3', '1.1', 'versicolor'),\n",
       "       ('5.7', '2.8', '4.1', '1.3', 'versicolor'),\n",
       "       ('6.3', '3.3', '6', '2.5', 'virginica'),\n",
       "       ('5.8', '2.7', '5.1', '1.9', 'virginica'),\n",
       "       ('7.1', '3', '5.9', '2.1', 'virginica'),\n",
       "       ('6.3', '2.9', '5.6', '1.8', 'virginica'),\n",
       "       ('6.5', '3', '5.8', '2.2', 'virginica'),\n",
       "       ('7.6', '3', '6.6', '2.1', 'virginica'),\n",
       "       ('4.9', '2.5', '4.5', '1.7', 'virginica'),\n",
       "       ('7.3', '2.9', '6.3', '1.8', 'virginica'),\n",
       "       ('6.7', '2.5', '5.8', '1.8', 'virginica'),\n",
       "       ('7.2', '3.6', '6.1', '2.5', 'virginica'),\n",
       "       ('6.5', '3.2', '5.1', '2', 'virginica'),\n",
       "       ('6.4', '2.7', '5.3', '1.9', 'virginica'),\n",
       "       ('6.8', '3', '5.5', '2.1', 'virginica'),\n",
       "       ('5.7', '2.5', '5', '2', 'virginica'),\n",
       "       ('5.8', '2.8', '5.1', '2.4', 'virginica'),\n",
       "       ('6.4', '3.2', '5.3', '2.3', 'virginica'),\n",
       "       ('6.5', '3', '5.5', '1.8', 'virginica'),\n",
       "       ('7.7', '3.8', '6.7', '2.2', 'virginica'),\n",
       "       ('7.7', '2.6', '6.9', '2.3', 'virginica'),\n",
       "       ('6', '2.2', '5', '1.5', 'virginica'),\n",
       "       ('6.9', '3.2', '5.7', '2.3', 'virginica'),\n",
       "       ('5.6', '2.8', '4.9', '2', 'virginica'),\n",
       "       ('7.7', '2.8', '6.7', '2', 'virginica'),\n",
       "       ('6.3', '2.7', '4.9', '1.8', 'virginica'),\n",
       "       ('6.7', '3.3', '5.7', '2.1', 'virginica'),\n",
       "       ('7.2', '3.2', '6', '1.8', 'virginica'),\n",
       "       ('6.2', '2.8', '4.8', '1.8', 'virginica'),\n",
       "       ('6.1', '3', '4.9', '1.8', 'virginica'),\n",
       "       ('6.4', '2.8', '5.6', '2.1', 'virginica'),\n",
       "       ('7.2', '3', '5.8', '1.6', 'virginica'),\n",
       "       ('7.4', '2.8', '6.1', '1.9', 'virginica'),\n",
       "       ('7.9', '3.8', '6.4', '2', 'virginica'),\n",
       "       ('6.4', '2.8', '5.6', '2.2', 'virginica'),\n",
       "       ('6.3', '2.8', '5.1', '1.5', 'virginica'),\n",
       "       ('6.1', '2.6', '5.6', '1.4', 'virginica'),\n",
       "       ('7.7', '3', '6.1', '2.3', 'virginica'),\n",
       "       ('6.3', '3.4', '5.6', '2.4', 'virginica'),\n",
       "       ('6.4', '3.1', '5.5', '1.8', 'virginica'),\n",
       "       ('6', '3', '4.8', '1.8', 'virginica'),\n",
       "       ('6.9', '3.1', '5.4', '2.1', 'virginica'),\n",
       "       ('6.7', '3.1', '5.6', '2.4', 'virginica'),\n",
       "       ('6.9', '3.1', '5.1', '2.3', 'virginica'),\n",
       "       ('5.8', '2.7', '5.1', '1.9', 'virginica'),\n",
       "       ('6.8', '3.2', '5.9', '2.3', 'virginica'),\n",
       "       ('6.7', '3.3', '5.7', '2.5', 'virginica'),\n",
       "       ('6.7', '3', '5.2', '2.3', 'virginica'),\n",
       "       ('6.3', '2.5', '5', '1.9', 'virginica'),\n",
       "       ('6.5', '3', '5.2', '2', 'virginica'),\n",
       "       ('6.2', '3.4', '5.4', '2.3', 'virginica'),\n",
       "       ('5.9', '3', '5.1', '1.8', 'virginica')],\n",
       "      dtype=[('Sepal.Length', '<U40'), ('Sepal.Width', '<U40'), ('Petal.Length', '<U40'), ('Petal.Width', '<U40'), ('Species', '<U40')])"
      ]
     },
     "execution_count": 54,
     "metadata": {},
     "output_type": "execute_result"
    }
   ],
   "source": [
    "# 数据统计\n",
    "## 创建数据类型\n",
    "datatype=np.dtype([('Sepal.Length', np.str_, 40),('Sepal.Width', np.str_, 40),('Petal.Length', np.str_, 40),\n",
    "                   ('Petal.Width', np.str_, 40),('Species', np.str_, 40)])  # 结构化数据类型\n",
    "print(datatype)\n",
    "\n",
    "# dtype参数参考:   https://www.runoob.com/numpy/numpy-dtype.html\n",
    "\n",
    "## 创建二维数组\n",
    "iris_data=np.array(iris_list, dtype=datatype)  # 并将这个 dtype 应用到 ndarray 对象\n",
    "iris_data"
   ]
  },
  {
   "cell_type": "code",
   "execution_count": 55,
   "metadata": {
    "scrolled": true
   },
   "outputs": [
    {
     "data": {
      "text/plain": [
       "array([1.4, 1.4, 1.3, 1.5, 1.4, 1.7, 1.4, 1.5, 1.4, 1.5, 1.5, 1.6, 1.4,\n",
       "       1.1, 1.2, 1.5, 1.3, 1.4, 1.7, 1.5, 1.7, 1.5, 1. , 1.7, 1.9, 1.6,\n",
       "       1.6, 1.5, 1.4, 1.6, 1.6, 1.5, 1.5, 1.4, 1.5, 1.2, 1.3, 1.4, 1.3,\n",
       "       1.5, 1.3, 1.3, 1.3, 1.6, 1.9, 1.4, 1.6, 1.4, 1.5, 1.4, 4.7, 4.5,\n",
       "       4.9, 4. , 4.6, 4.5, 4.7, 3.3, 4.6, 3.9, 3.5, 4.2, 4. , 4.7, 3.6,\n",
       "       4.4, 4.5, 4.1, 4.5, 3.9, 4.8, 4. , 4.9, 4.7, 4.3, 4.4, 4.8, 5. ,\n",
       "       4.5, 3.5, 3.8, 3.7, 3.9, 5.1, 4.5, 4.5, 4.7, 4.4, 4.1, 4. , 4.4,\n",
       "       4.6, 4. , 3.3, 4.2, 4.2, 4.2, 4.3, 3. , 4.1, 6. , 5.1, 5.9, 5.6,\n",
       "       5.8, 6.6, 4.5, 6.3, 5.8, 6.1, 5.1, 5.3, 5.5, 5. , 5.1, 5.3, 5.5,\n",
       "       6.7, 6.9, 5. , 5.7, 4.9, 6.7, 4.9, 5.7, 6. , 4.8, 4.9, 5.6, 5.8,\n",
       "       6.1, 6.4, 5.6, 5.1, 5.6, 6.1, 5.6, 5.5, 4.8, 5.4, 5.6, 5.1, 5.1,\n",
       "       5.9, 5.7, 5.2, 5. , 5.2, 5.4, 5.1])"
      ]
     },
     "execution_count": 55,
     "metadata": {},
     "output_type": "execute_result"
    }
   ],
   "source": [
    "## 将待处理数据的类型转化为float类型\n",
    "PetaLength=iris_data[\"Petal.Length\"].astype(float)  # astype()数据类型转换\n",
    "PetaLength"
   ]
  },
  {
   "cell_type": "code",
   "execution_count": 56,
   "metadata": {
    "scrolled": true
   },
   "outputs": [
    {
     "data": {
      "text/plain": [
       "array([1. , 1.1, 1.2, 1.2, 1.3, 1.3, 1.3, 1.3, 1.3, 1.3, 1.3, 1.4, 1.4,\n",
       "       1.4, 1.4, 1.4, 1.4, 1.4, 1.4, 1.4, 1.4, 1.4, 1.4, 1.4, 1.5, 1.5,\n",
       "       1.5, 1.5, 1.5, 1.5, 1.5, 1.5, 1.5, 1.5, 1.5, 1.5, 1.5, 1.6, 1.6,\n",
       "       1.6, 1.6, 1.6, 1.6, 1.6, 1.7, 1.7, 1.7, 1.7, 1.9, 1.9, 3. , 3.3,\n",
       "       3.3, 3.5, 3.5, 3.6, 3.7, 3.8, 3.9, 3.9, 3.9, 4. , 4. , 4. , 4. ,\n",
       "       4. , 4.1, 4.1, 4.1, 4.2, 4.2, 4.2, 4.2, 4.3, 4.3, 4.4, 4.4, 4.4,\n",
       "       4.4, 4.5, 4.5, 4.5, 4.5, 4.5, 4.5, 4.5, 4.5, 4.6, 4.6, 4.6, 4.7,\n",
       "       4.7, 4.7, 4.7, 4.7, 4.8, 4.8, 4.8, 4.8, 4.9, 4.9, 4.9, 4.9, 4.9,\n",
       "       5. , 5. , 5. , 5. , 5.1, 5.1, 5.1, 5.1, 5.1, 5.1, 5.1, 5.1, 5.2,\n",
       "       5.2, 5.3, 5.3, 5.4, 5.4, 5.5, 5.5, 5.5, 5.6, 5.6, 5.6, 5.6, 5.6,\n",
       "       5.6, 5.7, 5.7, 5.7, 5.8, 5.8, 5.8, 5.9, 5.9, 6. , 6. , 6.1, 6.1,\n",
       "       6.1, 6.3, 6.4, 6.6, 6.7, 6.7, 6.9])"
      ]
     },
     "execution_count": 56,
     "metadata": {},
     "output_type": "execute_result"
    }
   ],
   "source": [
    "## 排序\n",
    "np.sort(PetaLength)"
   ]
  },
  {
   "cell_type": "code",
   "execution_count": 57,
   "metadata": {},
   "outputs": [
    {
     "data": {
      "text/plain": [
       "array([1. , 1.1, 1.2, 1.3, 1.4, 1.5, 1.6, 1.7, 1.9, 3. , 3.3, 3.5, 3.6,\n",
       "       3.7, 3.8, 3.9, 4. , 4.1, 4.2, 4.3, 4.4, 4.5, 4.6, 4.7, 4.8, 4.9,\n",
       "       5. , 5.1, 5.2, 5.3, 5.4, 5.5, 5.6, 5.7, 5.8, 5.9, 6. , 6.1, 6.3,\n",
       "       6.4, 6.6, 6.7, 6.9])"
      ]
     },
     "execution_count": 57,
     "metadata": {},
     "output_type": "execute_result"
    }
   ],
   "source": [
    "## 去重\n",
    "np.unique(PetaLength)"
   ]
  },
  {
   "cell_type": "code",
   "execution_count": 58,
   "metadata": {
    "scrolled": true
   },
   "outputs": [
    {
     "name": "stdout",
     "output_type": "stream",
     "text": [
      "sum: 563.7\n",
      "mean: 3.7580000000000005\n",
      "std: 1.759404065775303\n",
      "var: 3.0955026666666665\n",
      "min: 1.0\n",
      "max: 6.9\n"
     ]
    }
   ],
   "source": [
    "## 对指定列求和、均值、标准差、方差、最小值及最大值\n",
    "print('sum:',np.sum(PetaLength))\n",
    "print('mean:',np.mean(PetaLength))\n",
    "print('std:',np.std(PetaLength))\n",
    "print('var:',np.var(PetaLength))\n",
    "print('min:',np.min(PetaLength))\n",
    "print('max:',np.max(PetaLength))"
   ]
  },
  {
   "cell_type": "markdown",
   "metadata": {},
   "source": [
    "- array和asarray的异同：\n",
    "    - 相同点：array和asarray都可以将数组转化为ndarray对象。\n",
    "    - 区别：当参数为一般数组时，两个函数结果相同；当参数本身就是ndarray类型时，array会新建一个ndarray对象，作为参数的副本，但是asarray不会新建，而是与参数共享同一个内存。重点就是这个共享内存。\n",
    "- array和ndarray的区别：\n",
    "    - numpy.array只是一个创建ndarray的便利函数；它本身不是一个类。\n",
    "    - 可以使用numpy.ndarray创建一个数组，但这不是推荐的方法。 \n",
    "    - numpy.ndarray() 是一个类，而numpy.array() 是一个创建ndarray的方法/函数。\n",
    "    \n",
    ">参考：  \n",
    "https://blog.csdn.net/sinat_28576553/article/details/89047893"
   ]
  },
  {
   "cell_type": "markdown",
   "metadata": {},
   "source": [
    "**<center>201811107134   肖敏</center>**  \n",
    "**<center>第3章 Numpy数值计算基础</center>**"
   ]
  }
 ],
 "metadata": {
  "kernelspec": {
   "display_name": "Python 3",
   "language": "python",
   "name": "python3"
  },
  "language_info": {
   "codemirror_mode": {
    "name": "ipython",
    "version": 3
   },
   "file_extension": ".py",
   "mimetype": "text/x-python",
   "name": "python",
   "nbconvert_exporter": "python",
   "pygments_lexer": "ipython3",
   "version": "3.8.6"
  }
 },
 "nbformat": 4,
 "nbformat_minor": 4
}
