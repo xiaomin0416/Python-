{
 "cells": [
  {
   "cell_type": "markdown",
   "metadata": {},
   "source": [
    "# 4.1 Pandas中的数据结构\n",
    "Pandas三种数据结构：Series、DataFrame、Panel。分别类似于数组、表格、Excel的多表单sheet\n",
    "## 4.1.1 Series\n",
    "一维数组对象，包含值序列和数据标签（索引），通过索引来访问数组中的数据\n",
    "1. 创建\n",
    "    1. 通过列表创建\n",
    "    **例4-1**"
   ]
  },
  {
   "cell_type": "code",
   "execution_count": 20,
   "metadata": {},
   "outputs": [
    {
     "name": "stdout",
     "output_type": "stream",
     "text": [
      "0    1\n",
      "1   -2\n",
      "2    3\n",
      "3   -4\n",
      "dtype: int64\n"
     ]
    }
   ],
   "source": [
    "import pandas as pd\n",
    "obj=pd.Series([1, -2, 3, -4])\n",
    "print(obj)"
   ]
  },
  {
   "cell_type": "markdown",
   "metadata": {},
   "source": [
    "输出第一列为index，第二列为数据value。若创建是没有指定index，Pandas会自动创建整型数据（从0开始）作为index，也可以使用Python例索引index和切片slice技术  \n",
    "\n",
    "**例4-2** 创建时指定索引"
   ]
  },
  {
   "cell_type": "code",
   "execution_count": 21,
   "metadata": {},
   "outputs": [
    {
     "name": "stdout",
     "output_type": "stream",
     "text": [
      "a    2\n",
      "c    4\n",
      "d    5\n",
      "a    7\n",
      "Name: col, dtype: int64\n"
     ]
    }
   ],
   "source": [
    "i=[\"a\",\"c\",\"d\",\"a\"]\n",
    "v=[2,4,5,7]\n",
    "t=pd.Series(v,index=i,name=\"col\")\n",
    "print(t)"
   ]
  },
  {
   "cell_type": "markdown",
   "metadata": {},
   "source": [
    "Pandas有隐藏index位置信息。Series有2个描述数据的手段：位置和标签  \n",
    "**例4-3** Series位置和标签的使用"
   ]
  },
  {
   "cell_type": "code",
   "execution_count": 22,
   "metadata": {},
   "outputs": [
    {
     "name": "stdout",
     "output_type": "stream",
     "text": [
      "RangeIndex(start=0, stop=4, step=1)\n",
      "RangeIndex(start=10, stop=14, step=1)\n",
      "Index(['hello', 'the', 'cruel', 'world'], dtype='object')\n",
      "2\n",
      "2\n",
      "default: 2 label: 2\n"
     ]
    }
   ],
   "source": [
    "val=[2,4,5,6]\n",
    "idx1=range(10,14)\n",
    "idx2=\"hello the cruel world\".split()\n",
    "s0=pd.Series(val)\n",
    "s1=pd.Series(val, index=idx1)\n",
    "t=pd.Series(val,index=idx2)\n",
    "print(s0.index)\n",
    "print(s1.index)\n",
    "print(t.index)\n",
    "print(s0[0])\n",
    "print(s1[10])\n",
    "print('default:',t[0],'label:',t[\"hello\"])"
   ]
  },
  {
   "cell_type": "markdown",
   "metadata": {},
   "source": [
    "    B. 通过字典创建\n",
    "    数据被存放在Python字典中\n",
    "**例4-4** 通过字典创建Series"
   ]
  },
  {
   "cell_type": "code",
   "execution_count": 23,
   "metadata": {},
   "outputs": [
    {
     "name": "stdout",
     "output_type": "stream",
     "text": [
      "Ohio      35000\n",
      "Texas     71000\n",
      "Oregon    16000\n",
      "Utah       5000\n",
      "dtype: int64\n"
     ]
    }
   ],
   "source": [
    "sdata={\"Ohio\":35000, \"Texas\":71000,\"Oregon\":16000,\"Utah\":5000}\n",
    "obj3=pd.Series(sdata)\n",
    "print(obj3)"
   ]
  },
  {
   "cell_type": "markdown",
   "metadata": {},
   "source": [
    "**例4-5** 通过字典创建Series时的索引"
   ]
  },
  {
   "cell_type": "code",
   "execution_count": 24,
   "metadata": {},
   "outputs": [
    {
     "name": "stdout",
     "output_type": "stream",
     "text": [
      "a    100\n",
      "c    300\n",
      "b    200\n",
      "dtype: int64\n"
     ]
    }
   ],
   "source": [
    "sdata={\"a\":100,\"c\":300,\"b\":200}\n",
    "obj3=pd.Series(sdata)\n",
    "print(obj3)"
   ]
  },
  {
   "cell_type": "markdown",
   "metadata": {},
   "source": [
    "如果键值和指定的索引不匹配，则对应的值是NaN  \n",
    "**例4-6** "
   ]
  },
  {
   "cell_type": "code",
   "execution_count": 25,
   "metadata": {},
   "outputs": [
    {
     "name": "stdout",
     "output_type": "stream",
     "text": [
      "a    100.0\n",
      "c    300.0\n",
      "e      NaN\n",
      "b    200.0\n",
      "dtype: float64\n"
     ]
    }
   ],
   "source": [
    "sdata={\"a\":100,\"b\":200,\"c\":300}\n",
    "letter={\"a\",\"b\",\"e\",\"c\"}\n",
    "obj=pd.Series(sdata,index=letter)\n",
    "print(obj)"
   ]
  },
  {
   "cell_type": "markdown",
   "metadata": {},
   "source": [
    "Series功能：在算术运算符中自动对齐不同索引的数据  \n",
    "**例4-7** 不同索引数据的自动对齐"
   ]
  },
  {
   "cell_type": "code",
   "execution_count": 26,
   "metadata": {},
   "outputs": [
    {
     "name": "stdout",
     "output_type": "stream",
     "text": [
      "California         NaN\n",
      "Ohio           70000.0\n",
      "Oregon         32000.0\n",
      "Texas         142000.0\n",
      "Utah               NaN\n",
      "dtype: float64\n"
     ]
    }
   ],
   "source": [
    "sdata={\"Ohio\":35000,\"Texas\":71000,\"Oregon\":16000,\"Utah\":5000}\n",
    "obj1=pd.Series(sdata)\n",
    "states=['California', 'Ohio','Oregon','Texas']\n",
    "obj2=pd.Series(sdata,index=states)\n",
    "print(obj1+obj2)"
   ]
  },
  {
   "cell_type": "markdown",
   "metadata": {},
   "source": [
    "Series索引可通过索引赋值的方式修改\n",
    "\n",
    "**例4-8**"
   ]
  },
  {
   "cell_type": "code",
   "execution_count": 27,
   "metadata": {},
   "outputs": [
    {
     "name": "stdout",
     "output_type": "stream",
     "text": [
      "0    4\n",
      "1    7\n",
      "2   -3\n",
      "3    2\n",
      "dtype: int64\n",
      "Bob      4\n",
      "Steve    7\n",
      "Jeff    -3\n",
      "Ryan     2\n",
      "dtype: int64\n"
     ]
    }
   ],
   "source": [
    "obj=pd.Series([4,7,-3,2])\n",
    "print(obj)\n",
    "obj.index=[\"Bob\",\"Steve\",\"Jeff\",\"Ryan\"]\n",
    "print(obj)"
   ]
  },
  {
   "cell_type": "markdown",
   "metadata": {},
   "source": [
    "## 4.1.2 DataFrame\n",
    "其是一个表格型数据结构，含有有序的列，每列可是不同类型的值。  \n",
    "既有行索引也有列索引，可被看做有Series组成的**字典（一列是一个键值对）**。 \n",
    "\n",
    "**DataFrame创建**：直接传入一个等长列表或NumPy数组组成的字典  \n",
    "**例4-9**"
   ]
  },
  {
   "cell_type": "code",
   "execution_count": 28,
   "metadata": {},
   "outputs": [
    {
     "name": "stdout",
     "output_type": "stream",
     "text": [
      "  name     sex  year city\n",
      "0   张三  female  2001   北京\n",
      "1   李四  female  2001   上海\n",
      "2   王五    male  2002   广州\n",
      "3   小明    male  2003   云南\n"
     ]
    }
   ],
   "source": [
    "data={'name':['张三','李四','王五','小明'], 'sex':['female','female','male','male'], 'year':[2001,2001,2002,2003], 'city':['北京','上海','广州','云南']}\n",
    "df=pd.DataFrame(data)\n",
    "print(df)"
   ]
  },
  {
   "cell_type": "code",
   "execution_count": 29,
   "metadata": {},
   "outputs": [
    {
     "name": "stdout",
     "output_type": "stream",
     "text": [
      "  name  year     sex city\n",
      "0   张三  2001  female   北京\n",
      "1   李四  2001  female   上海\n",
      "2   王五  2002    male   广州\n",
      "3   小明  2003    male   云南\n"
     ]
    }
   ],
   "source": [
    "df1=pd.DataFrame(data,columns=['name','year','sex','city'])\n",
    "print(df1)"
   ]
  },
  {
   "cell_type": "markdown",
   "metadata": {},
   "source": [
    "**例4-11** DataFrame创建时的空缺值"
   ]
  },
  {
   "cell_type": "code",
   "execution_count": 30,
   "metadata": {},
   "outputs": [
    {
     "name": "stdout",
     "output_type": "stream",
     "text": [
      "  name  year     sex city address\n",
      "0   张三  2001  female   北京     NaN\n",
      "1   李四  2001  female   上海     NaN\n",
      "2   王五  2002    male   广州     NaN\n",
      "3   小明  2003    male   云南     NaN\n"
     ]
    }
   ],
   "source": [
    "df2=pd.DataFrame(data,columns=['name','year','sex','city','address'])\n",
    "print(df2)"
   ]
  },
  {
   "cell_type": "markdown",
   "metadata": {},
   "source": [
    "index给出label标签  \n",
    "**例4-12** 指定行名"
   ]
  },
  {
   "cell_type": "code",
   "execution_count": 31,
   "metadata": {},
   "outputs": [
    {
     "name": "stdout",
     "output_type": "stream",
     "text": [
      "  name     sex  year city\n",
      "a   张三  female  2001   北京\n",
      "b   李四  female  2001   上海\n",
      "c   王五    male  2002   广州\n",
      "d   小明    male  2003   云南\n"
     ]
    }
   ],
   "source": [
    "df3=pd.DataFrame(data,columns=['name','sex','year','city'])\n",
    "df3.index=['a','b','c','d']\n",
    "print(df3)"
   ]
  },
  {
   "cell_type": "markdown",
   "metadata": {},
   "source": [
    "## 4.1.3 索引对象\n",
    "Pandas的索引对象负责管理轴标签和其他元数据（例：轴名称）。  \n",
    "构建Series和DataFrame时，所有数组或序列的标签都会被转换成Index  \n",
    "**例4-13** 显示DataFrame的索引和列"
   ]
  },
  {
   "cell_type": "code",
   "execution_count": 32,
   "metadata": {},
   "outputs": [
    {
     "name": "stdout",
     "output_type": "stream",
     "text": [
      "  name     sex  year city\n",
      "0   张三  female  2001   北京\n",
      "1   李四  female  2001   上海\n",
      "2   王五    male  2002   广州\n",
      "3   小明    male  2003   云南\n",
      "RangeIndex(start=0, stop=4, step=1)\n",
      "Index(['name', 'sex', 'year', 'city'], dtype='object')\n"
     ]
    }
   ],
   "source": [
    "print(df)\n",
    "print(df.index)\n",
    "print(df.columns)"
   ]
  },
  {
   "cell_type": "markdown",
   "metadata": {},
   "source": [
    "**例4-14** DataFrame的Index"
   ]
  },
  {
   "cell_type": "code",
   "execution_count": 33,
   "metadata": {},
   "outputs": [
    {
     "name": "stdout",
     "output_type": "stream",
     "text": [
      "True\n",
      "False\n"
     ]
    }
   ],
   "source": [
    "print('name' in df.columns)\n",
    "print('a' in df.index)"
   ]
  },
  {
   "cell_type": "markdown",
   "metadata": {},
   "source": [
    "Index的常用方法和属性\n",
    "\n",
    "|方法|属性|\n",
    "|:--:|:--:|\n",
    "|append|连接另一个Index队形，产生一个新的Index|\n",
    "|diff|计算差集，得到一个Index|\n",
    "|intersection|交集|\n",
    "|union|并集|\n",
    "|isin|计算指定各值是否都包含在参数集合中的布尔数组|\n",
    "|delect|删除索引i处的元素，并得到引得Index|\n",
    "|drop|删除传入的值，并得到新的Index|\n",
    "|insert|将元素插入索引i处，并得到新的Index|\n",
    "|is_monotonic|当各元素均大于或等于前一个元素时，返回True|\n",
    "|is.unique|当索引没有重复值时，返回True|\n",
    "|unique|计算Index中唯一值的数组|\n",
    "\n",
    "**例4-15** 插入索引值"
   ]
  },
  {
   "cell_type": "code",
   "execution_count": 34,
   "metadata": {},
   "outputs": [
    {
     "data": {
      "text/plain": [
       "Index([0, 'w', 1, 2, 3], dtype='object')"
      ]
     },
     "execution_count": 34,
     "metadata": {},
     "output_type": "execute_result"
    }
   ],
   "source": [
    "df.index.insert(1,'w')"
   ]
  },
  {
   "cell_type": "markdown",
   "metadata": {},
   "source": [
    "## 4.1.4 查看DataFrame的常用属性\n",
    "基本属性：value、index、columns、dtypes、ndim、shape  \n",
    "分别的作用：获得元素、索引、列名、类型、维度、形状  \n",
    "**例4-16** 查看DataFrame属性"
   ]
  },
  {
   "cell_type": "code",
   "execution_count": 35,
   "metadata": {},
   "outputs": [
    {
     "name": "stdout",
     "output_type": "stream",
     "text": [
      "  name     sex  year city\n",
      "0   张三  female  2001   北京\n",
      "1   李四  female  2001   上海\n",
      "2   王五    male  2002   广州\n",
      "3   小明    male  2003   云南\n",
      "信息表的所有值：\n",
      " [['张三' 'female' 2001 '北京']\n",
      " ['李四' 'female' 2001 '上海']\n",
      " ['王五' 'male' 2002 '广州']\n",
      " ['小明' 'male' 2003 '云南']]\n",
      "信息表的所有列：\n",
      " Index(['name', 'sex', 'year', 'city'], dtype='object')\n",
      "信息表的元素个数：\n",
      " 16\n",
      "信息表的维度：\n",
      " 2\n",
      "信息表的形状：\n",
      " (4, 4)\n"
     ]
    }
   ],
   "source": [
    "print(df)\n",
    "print('信息表的所有值：\\n',df.values)\n",
    "print('信息表的所有列：\\n',df.columns)\n",
    "print('信息表的元素个数：\\n',df.size)\n",
    "print('信息表的维度：\\n',df.ndim)\n",
    "print('信息表的形状：\\n',df.shape)"
   ]
  },
  {
   "cell_type": "markdown",
   "metadata": {},
   "source": [
    "# 4.2 Pandas索引\n",
    "## 4.2.1 重建索引\n",
    "是指对索引重新排序。若某个索引不存在的话，会引入缺失值  \n",
    "**例4-17** "
   ]
  },
  {
   "cell_type": "code",
   "execution_count": 36,
   "metadata": {},
   "outputs": [
    {
     "name": "stdout",
     "output_type": "stream",
     "text": [
      "b    2\n",
      "a    4\n",
      "d    1\n",
      "c    5\n",
      "dtype: int64\n"
     ]
    },
    {
     "data": {
      "text/plain": [
       "a    4.0\n",
       "b    2.0\n",
       "c    5.0\n",
       "d    1.0\n",
       "e    NaN\n",
       "dtype: float64"
      ]
     },
     "execution_count": 36,
     "metadata": {},
     "output_type": "execute_result"
    }
   ],
   "source": [
    "obj=pd.Series([2,4,1,5], index=['b','a','d','c'])\n",
    "print(obj)\n",
    "obj.reindex(['a','b','c','d','e'])"
   ]
  },
  {
   "cell_type": "markdown",
   "metadata": {},
   "source": [
    "重建索引时引入的缺失值，用fill_value来填充  \n",
    "**例4-18**"
   ]
  },
  {
   "cell_type": "code",
   "execution_count": 37,
   "metadata": {},
   "outputs": [
    {
     "data": {
      "text/plain": [
       "a    4\n",
       "b    2\n",
       "c    5\n",
       "d    1\n",
       "e    0\n",
       "dtype: int64"
      ]
     },
     "execution_count": 37,
     "metadata": {},
     "output_type": "execute_result"
    }
   ],
   "source": [
    "obj.reindex(['a','b','c','d','e'],fill_value=0)"
   ]
  },
  {
   "cell_type": "markdown",
   "metadata": {},
   "source": [
    "对于**顺序数据**，如时间序列，重建索引时需要**插值或填值处理**。 \n",
    "\n",
    "参数method可设置：  \n",
    "   - method='ffill'或'pad'，表示前向值填充  \n",
    "   - method='bfill'或'backfill'，表示后向值填充  \n",
    "   \n",
    "**例4-19** 缺值的前向填充"
   ]
  },
  {
   "cell_type": "code",
   "execution_count": 38,
   "metadata": {},
   "outputs": [
    {
     "data": {
      "text/plain": [
       "0     blue\n",
       "1     blue\n",
       "2      red\n",
       "3      red\n",
       "4    black\n",
       "5    black\n",
       "dtype: object"
      ]
     },
     "execution_count": 38,
     "metadata": {},
     "output_type": "execute_result"
    }
   ],
   "source": [
    "import numpy as np\n",
    "obj1=pd.Series(['blue','red','black'], index=[0,2,4])\n",
    "obj1.reindex(np.arange(6),method='ffill')"
   ]
  },
  {
   "cell_type": "markdown",
   "metadata": {},
   "source": [
    "**例4-20** 缺失值的后向填充"
   ]
  },
  {
   "cell_type": "code",
   "execution_count": 39,
   "metadata": {},
   "outputs": [
    {
     "data": {
      "text/plain": [
       "0     blue\n",
       "1      red\n",
       "2      red\n",
       "3    black\n",
       "4    black\n",
       "5      NaN\n",
       "dtype: object"
      ]
     },
     "execution_count": 39,
     "metadata": {},
     "output_type": "execute_result"
    }
   ],
   "source": [
    "obj1=pd.Series(['blue','red','black'], index=[0,2,4])\n",
    "obj1.reindex(np.arange(6),method='backfill')"
   ]
  },
  {
   "cell_type": "markdown",
   "metadata": {},
   "source": [
    "若仅传入一个序列，默认是对行索引进行操作  \n",
    "**例4-21** 修改索引（行和列）"
   ]
  },
  {
   "cell_type": "code",
   "execution_count": 40,
   "metadata": {},
   "outputs": [
    {
     "name": "stdout",
     "output_type": "stream",
     "text": [
      "   one  two  four\n",
      "a    0    1     2\n",
      "c    3    4     5\n",
      "d    6    7     8\n"
     ]
    }
   ],
   "source": [
    "df4=pd.DataFrame(np.arange(9).reshape(3,3), index=['a','c','d'], columns=['one','two','four'])\n",
    "print(df4)"
   ]
  },
  {
   "cell_type": "markdown",
   "metadata": {},
   "source": [
    "reindex的参数及其说明\n",
    "\n",
    "|参数|说明|\n",
    "|:--:|:--:|\n",
    "|index|用于索引的新序列|\n",
    "|method|填充的方式\n",
    "|fill_value|缺失值的替换值\n",
    "|limit|最大填充值\n",
    "|leve copy|在Multiindex的指定级别上匹配简单索引，否则选取其子集默认为True；若为False，则新旧相等时不复制"
   ]
  },
  {
   "cell_type": "markdown",
   "metadata": {},
   "source": [
    "**例4-22** reindex操作"
   ]
  },
  {
   "cell_type": "code",
   "execution_count": 41,
   "metadata": {},
   "outputs": [
    {
     "data": {
      "text/html": [
       "<div>\n",
       "<style scoped>\n",
       "    .dataframe tbody tr th:only-of-type {\n",
       "        vertical-align: middle;\n",
       "    }\n",
       "\n",
       "    .dataframe tbody tr th {\n",
       "        vertical-align: top;\n",
       "    }\n",
       "\n",
       "    .dataframe thead th {\n",
       "        text-align: right;\n",
       "    }\n",
       "</style>\n",
       "<table border=\"1\" class=\"dataframe\">\n",
       "  <thead>\n",
       "    <tr style=\"text-align: right;\">\n",
       "      <th></th>\n",
       "      <th>one</th>\n",
       "      <th>two</th>\n",
       "      <th>three</th>\n",
       "      <th>four</th>\n",
       "    </tr>\n",
       "  </thead>\n",
       "  <tbody>\n",
       "    <tr>\n",
       "      <th>a</th>\n",
       "      <td>0.0</td>\n",
       "      <td>1.0</td>\n",
       "      <td>NaN</td>\n",
       "      <td>2.0</td>\n",
       "    </tr>\n",
       "    <tr>\n",
       "      <th>b</th>\n",
       "      <td>NaN</td>\n",
       "      <td>NaN</td>\n",
       "      <td>NaN</td>\n",
       "      <td>NaN</td>\n",
       "    </tr>\n",
       "    <tr>\n",
       "      <th>c</th>\n",
       "      <td>3.0</td>\n",
       "      <td>4.0</td>\n",
       "      <td>NaN</td>\n",
       "      <td>5.0</td>\n",
       "    </tr>\n",
       "    <tr>\n",
       "      <th>d</th>\n",
       "      <td>6.0</td>\n",
       "      <td>7.0</td>\n",
       "      <td>NaN</td>\n",
       "      <td>8.0</td>\n",
       "    </tr>\n",
       "  </tbody>\n",
       "</table>\n",
       "</div>"
      ],
      "text/plain": [
       "   one  two  three  four\n",
       "a  0.0  1.0    NaN   2.0\n",
       "b  NaN  NaN    NaN   NaN\n",
       "c  3.0  4.0    NaN   5.0\n",
       "d  6.0  7.0    NaN   8.0"
      ]
     },
     "execution_count": 41,
     "metadata": {},
     "output_type": "execute_result"
    }
   ],
   "source": [
    "df4.reindex(index=['a','b','c','d'], columns=['one','two','three','four'])"
   ]
  },
  {
   "cell_type": "markdown",
   "metadata": {},
   "source": [
    "**例4-23** 传入fill_value=n来填充缺损值"
   ]
  },
  {
   "cell_type": "code",
   "execution_count": 42,
   "metadata": {},
   "outputs": [
    {
     "data": {
      "text/html": [
       "<div>\n",
       "<style scoped>\n",
       "    .dataframe tbody tr th:only-of-type {\n",
       "        vertical-align: middle;\n",
       "    }\n",
       "\n",
       "    .dataframe tbody tr th {\n",
       "        vertical-align: top;\n",
       "    }\n",
       "\n",
       "    .dataframe thead th {\n",
       "        text-align: right;\n",
       "    }\n",
       "</style>\n",
       "<table border=\"1\" class=\"dataframe\">\n",
       "  <thead>\n",
       "    <tr style=\"text-align: right;\">\n",
       "      <th></th>\n",
       "      <th>one</th>\n",
       "      <th>two</th>\n",
       "      <th>three</th>\n",
       "      <th>four</th>\n",
       "    </tr>\n",
       "  </thead>\n",
       "  <tbody>\n",
       "    <tr>\n",
       "      <th>a</th>\n",
       "      <td>0</td>\n",
       "      <td>1</td>\n",
       "      <td>100</td>\n",
       "      <td>2</td>\n",
       "    </tr>\n",
       "    <tr>\n",
       "      <th>b</th>\n",
       "      <td>100</td>\n",
       "      <td>100</td>\n",
       "      <td>100</td>\n",
       "      <td>100</td>\n",
       "    </tr>\n",
       "    <tr>\n",
       "      <th>c</th>\n",
       "      <td>3</td>\n",
       "      <td>4</td>\n",
       "      <td>100</td>\n",
       "      <td>5</td>\n",
       "    </tr>\n",
       "    <tr>\n",
       "      <th>d</th>\n",
       "      <td>6</td>\n",
       "      <td>7</td>\n",
       "      <td>100</td>\n",
       "      <td>8</td>\n",
       "    </tr>\n",
       "  </tbody>\n",
       "</table>\n",
       "</div>"
      ],
      "text/plain": [
       "   one  two  three  four\n",
       "a    0    1    100     2\n",
       "b  100  100    100   100\n",
       "c    3    4    100     5\n",
       "d    6    7    100     8"
      ]
     },
     "execution_count": 42,
     "metadata": {},
     "output_type": "execute_result"
    }
   ],
   "source": [
    "df4.reindex(index=['a','b','c','d'],columns=['one','two','three','four'],fill_value=100)"
   ]
  },
  {
   "cell_type": "markdown",
   "metadata": {},
   "source": [
    "## 4.2.2 更换索引\n",
    "在创建结构时，通过index来设置个性化行索引。  \n",
    "若想将列数据作为索引，使用set_index方法来实现。  \n",
    "和set_index方法相反的方法是reset_index方法。  \n",
    "**例4-22** 更换索引"
   ]
  },
  {
   "cell_type": "code",
   "execution_count": 43,
   "metadata": {},
   "outputs": [
    {
     "name": "stdout",
     "output_type": "stream",
     "text": [
      "     name  year     sex\n",
      "city                   \n",
      "北京     张三  2001  female\n",
      "上海     李四  2001  female\n",
      "广州     王五  2002    male\n",
      "云南     小明  2003    male\n"
     ]
    }
   ],
   "source": [
    "df5=df1.set_index('city')\n",
    "print(df5)"
   ]
  },
  {
   "cell_type": "markdown",
   "metadata": {},
   "source": [
    "# 4.3 DataFrame数据的查询与编辑\n",
    "## 4.3.1 DataFrame数据的查询\n",
    "1. 选取列\n",
    "通过**列索引标签或以属性**的方式单独获取DataFrame的列数据，返回数据为Series类型  \n",
    "**例4-25** 选取列数据"
   ]
  },
  {
   "cell_type": "code",
   "execution_count": 44,
   "metadata": {},
   "outputs": [
    {
     "name": "stdout",
     "output_type": "stream",
     "text": [
      "选取1列数据：\n",
      " 0    张三\n",
      "1    李四\n",
      "2    王五\n",
      "3    小明\n",
      "Name: name, dtype: object\n",
      "选取2列数据：\n",
      "   name  year\n",
      "0   张三  2001\n",
      "1   李四  2001\n",
      "2   王五  2002\n",
      "3   小明  2003\n"
     ]
    }
   ],
   "source": [
    "w1=df['name']\n",
    "print('选取1列数据：\\n',w1)\n",
    "w2=df[['name','year']]\n",
    "print('选取2列数据：\\n',w2)"
   ]
  },
  {
   "cell_type": "markdown",
   "metadata": {},
   "source": [
    "2. 选取行  \n",
    "通过行索引或行索引位置的切片形式选取行数据  \n",
    "**例4-26** 选取行数据"
   ]
  },
  {
   "cell_type": "code",
   "execution_count": 45,
   "metadata": {},
   "outputs": [
    {
     "name": "stdout",
     "output_type": "stream",
     "text": [
      "  name     sex  year city\n",
      "0   张三  female  2001   北京\n",
      "1   李四  female  2001   上海\n",
      "2   王五    male  2002   广州\n",
      "3   小明    male  2003   云南\n",
      "显示前2行：\n",
      "   name     sex  year city\n",
      "0   张三  female  2001   北京\n",
      "1   李四  female  2001   上海\n",
      "显示2~3两行：\n",
      "   name     sex  year city\n",
      "1   李四  female  2001   上海\n",
      "2   王五    male  2002   广州\n"
     ]
    }
   ],
   "source": [
    "print(df)\n",
    "print('显示前2行：\\n',df[:2])\n",
    "print('显示2~3两行：\\n',df[1:3])"
   ]
  },
  {
   "cell_type": "markdown",
   "metadata": {},
   "source": [
    "3. 选取行和列\n",
    "切片选取行有局限。Pandas提供两种方法实现：  \n",
    "- DataFrame.loc(行索引名称或条件，列索引名称)\n",
    "- DataFrame.iloc(行索引的位置，列索引的位置)\n",
    "\n",
    "**例4-27** loc选行和列"
   ]
  },
  {
   "cell_type": "code",
   "execution_count": 46,
   "metadata": {},
   "outputs": [
    {
     "name": "stdout",
     "output_type": "stream",
     "text": [
      "     name  year\n",
      "city           \n",
      "北京     张三  2001\n",
      "上海     李四  2001\n",
      "广州     王五  2002\n",
      "云南     小明  2003\n",
      "     name  year\n",
      "city           \n",
      "北京     张三  2001\n",
      "上海     李四  2001\n"
     ]
    }
   ],
   "source": [
    "print(df5.loc[:,['name','year']])  # 显示name和year两列\n",
    "print(df5.loc[['北京','上海'],['name','year']])  # 显示北京和上海中的name和year两列"
   ]
  },
  {
   "cell_type": "markdown",
   "metadata": {},
   "source": [
    "**例4-28** iloc选行和列"
   ]
  },
  {
   "cell_type": "code",
   "execution_count": 47,
   "metadata": {},
   "outputs": [
    {
     "name": "stdout",
     "output_type": "stream",
     "text": [
      "city\n",
      "北京    female\n",
      "上海    female\n",
      "广州      male\n",
      "云南      male\n",
      "Name: sex, dtype: object\n",
      "     name  year     sex\n",
      "city                   \n",
      "上海     李四  2001  female\n",
      "云南     小明  2003    male\n",
      "      year     sex\n",
      "city              \n",
      "上海    2001  female\n",
      "云南    2003    male\n"
     ]
    }
   ],
   "source": [
    "print(df5.iloc[:,2])  # 前2列\n",
    "print(df5.iloc[[1,3]])  # 第1、3行\n",
    "print(df5.iloc[[1,3],[1,2]])"
   ]
  },
  {
   "cell_type": "markdown",
   "metadata": {},
   "source": [
    "ix方法支持索引标签、索引位置来进行行列选取  \n",
    "**例4-29** ix选取行和列"
   ]
  },
  {
   "cell_type": "code",
   "execution_count": 48,
   "metadata": {},
   "outputs": [
    {
     "name": "stdout",
     "output_type": "stream",
     "text": [
      "1.1.4\n"
     ]
    }
   ],
   "source": [
    "import pandas\n",
    "print(pandas.__version__)\n",
    "#print('显示前2行：\\n',df5.ix[1:3,['name','year']])\n",
    "#ix在pandas1.0.0以上的版本中被删除了"
   ]
  },
  {
   "cell_type": "markdown",
   "metadata": {},
   "source": [
    "4. 布尔选择  \n",
    "对DataFrame中的数据进行布尔选择，布尔运算符有：!=不等于、&与、|或   \n",
    "**例4-30** "
   ]
  },
  {
   "cell_type": "code",
   "execution_count": 49,
   "metadata": {},
   "outputs": [
    {
     "data": {
      "text/html": [
       "<div>\n",
       "<style scoped>\n",
       "    .dataframe tbody tr th:only-of-type {\n",
       "        vertical-align: middle;\n",
       "    }\n",
       "\n",
       "    .dataframe tbody tr th {\n",
       "        vertical-align: top;\n",
       "    }\n",
       "\n",
       "    .dataframe thead th {\n",
       "        text-align: right;\n",
       "    }\n",
       "</style>\n",
       "<table border=\"1\" class=\"dataframe\">\n",
       "  <thead>\n",
       "    <tr style=\"text-align: right;\">\n",
       "      <th></th>\n",
       "      <th>name</th>\n",
       "      <th>year</th>\n",
       "      <th>sex</th>\n",
       "    </tr>\n",
       "    <tr>\n",
       "      <th>city</th>\n",
       "      <th></th>\n",
       "      <th></th>\n",
       "      <th></th>\n",
       "    </tr>\n",
       "  </thead>\n",
       "  <tbody>\n",
       "    <tr>\n",
       "      <th>北京</th>\n",
       "      <td>张三</td>\n",
       "      <td>2001</td>\n",
       "      <td>female</td>\n",
       "    </tr>\n",
       "    <tr>\n",
       "      <th>上海</th>\n",
       "      <td>李四</td>\n",
       "      <td>2001</td>\n",
       "      <td>female</td>\n",
       "    </tr>\n",
       "  </tbody>\n",
       "</table>\n",
       "</div>"
      ],
      "text/plain": [
       "     name  year     sex\n",
       "city                   \n",
       "北京     张三  2001  female\n",
       "上海     李四  2001  female"
      ]
     },
     "execution_count": 49,
     "metadata": {},
     "output_type": "execute_result"
    }
   ],
   "source": [
    "df5[df5['year'] == 2001]"
   ]
  },
  {
   "cell_type": "markdown",
   "metadata": {},
   "source": [
    "## 4.3.2 DataFrame数据的编辑  \n",
    "将需要编辑的数据提取出来，重新赋值  \n",
    "1. 增加数据  \n",
    "增加行：append方法，用字典结构数据增加一行  \n",
    "**例4-31** 增加一行数据"
   ]
  },
  {
   "cell_type": "code",
   "execution_count": 50,
   "metadata": {},
   "outputs": [
    {
     "data": {
      "text/html": [
       "<div>\n",
       "<style scoped>\n",
       "    .dataframe tbody tr th:only-of-type {\n",
       "        vertical-align: middle;\n",
       "    }\n",
       "\n",
       "    .dataframe tbody tr th {\n",
       "        vertical-align: top;\n",
       "    }\n",
       "\n",
       "    .dataframe thead th {\n",
       "        text-align: right;\n",
       "    }\n",
       "</style>\n",
       "<table border=\"1\" class=\"dataframe\">\n",
       "  <thead>\n",
       "    <tr style=\"text-align: right;\">\n",
       "      <th></th>\n",
       "      <th>name</th>\n",
       "      <th>sex</th>\n",
       "      <th>year</th>\n",
       "      <th>city</th>\n",
       "    </tr>\n",
       "  </thead>\n",
       "  <tbody>\n",
       "    <tr>\n",
       "      <th>0</th>\n",
       "      <td>张三</td>\n",
       "      <td>female</td>\n",
       "      <td>2001</td>\n",
       "      <td>北京</td>\n",
       "    </tr>\n",
       "    <tr>\n",
       "      <th>1</th>\n",
       "      <td>李四</td>\n",
       "      <td>female</td>\n",
       "      <td>2001</td>\n",
       "      <td>上海</td>\n",
       "    </tr>\n",
       "    <tr>\n",
       "      <th>2</th>\n",
       "      <td>王五</td>\n",
       "      <td>male</td>\n",
       "      <td>2002</td>\n",
       "      <td>广州</td>\n",
       "    </tr>\n",
       "    <tr>\n",
       "      <th>3</th>\n",
       "      <td>小明</td>\n",
       "      <td>male</td>\n",
       "      <td>2003</td>\n",
       "      <td>云南</td>\n",
       "    </tr>\n",
       "    <tr>\n",
       "      <th>4</th>\n",
       "      <td>李红</td>\n",
       "      <td>female</td>\n",
       "      <td>2005</td>\n",
       "      <td>兰州</td>\n",
       "    </tr>\n",
       "  </tbody>\n",
       "</table>\n",
       "</div>"
      ],
      "text/plain": [
       "  name     sex  year city\n",
       "0   张三  female  2001   北京\n",
       "1   李四  female  2001   上海\n",
       "2   王五    male  2002   广州\n",
       "3   小明    male  2003   云南\n",
       "4   李红  female  2005   兰州"
      ]
     },
     "execution_count": 50,
     "metadata": {},
     "output_type": "execute_result"
    }
   ],
   "source": [
    "data1={'city':'兰州','name':'李红','year':2005,'sex':'female'}\n",
    "df.append(data1,ignore_index=True)"
   ]
  },
  {
   "cell_type": "markdown",
   "metadata": {},
   "source": [
    "增加列：直接为要增加的列赋值即可  \n",
    "**例4-32**"
   ]
  },
  {
   "cell_type": "code",
   "execution_count": 51,
   "metadata": {},
   "outputs": [
    {
     "name": "stdout",
     "output_type": "stream",
     "text": [
      "     name  year     sex  age   C\n",
      "city                            \n",
      "北京     张三  2001  female   20  85\n",
      "上海     李四  2001  female   20  78\n",
      "广州     王五  2002    male   20  96\n",
      "云南     小明  2003    male   20  80\n"
     ]
    }
   ],
   "source": [
    "df5['age']=20\n",
    "df5['C']=[85,78,96,80]\n",
    "print(df5)"
   ]
  },
  {
   "cell_type": "markdown",
   "metadata": {},
   "source": [
    "##### 2. 删除数据  \n",
    "用drop方法，通过axis参数确定删除的是行还是列。  \n",
    "默认数据删除不修改原数据。若要在原数据上删除，需设置inplace=True  \n",
    "**例4-33** 删除数据的行"
   ]
  },
  {
   "cell_type": "code",
   "execution_count": 52,
   "metadata": {},
   "outputs": [
    {
     "name": "stdout",
     "output_type": "stream",
     "text": [
      "     name  year     sex  age   C\n",
      "city                            \n",
      "北京     张三  2001  female   20  85\n",
      "上海     李四  2001  female   20  78\n",
      "云南     小明  2003    male   20  80\n"
     ]
    }
   ],
   "source": [
    "print(df5.drop('广州'))"
   ]
  },
  {
   "cell_type": "markdown",
   "metadata": {},
   "source": [
    "**例4-34** 删除数据的列"
   ]
  },
  {
   "cell_type": "code",
   "execution_count": 53,
   "metadata": {},
   "outputs": [
    {
     "name": "stdout",
     "output_type": "stream",
     "text": [
      "     name  year     sex   C\n",
      "city                       \n",
      "北京     张三  2001  female  85\n",
      "上海     李四  2001  female  78\n",
      "广州     王五  2002    male  96\n",
      "云南     小明  2003    male  80\n"
     ]
    }
   ],
   "source": [
    "df5.drop('age',axis=1,inplace=True)\n",
    "print(df5)"
   ]
  },
  {
   "cell_type": "markdown",
   "metadata": {},
   "source": [
    "3. 修改数据  \n",
    "丢选择的数据赋值，即可修改数据。数据修改是直接对DataFrame数据修改，操作无法撤销。  \n",
    "\n",
    "# 4.4 Pandas数据运算  \n",
    "## 4.4.1 算术运算  \n",
    "算术运算时，若有相同索引则进行算术运算；没有相同的索引则进行数据对齐，且引入缺失值。  \n",
    "**例4-35** Series相加"
   ]
  },
  {
   "cell_type": "code",
   "execution_count": 54,
   "metadata": {},
   "outputs": [
    {
     "name": "stdout",
     "output_type": "stream",
     "text": [
      "obj1:\n",
      " a    5\n",
      "c    2\n",
      "g    6\n",
      "f    9\n",
      "dtype: int64\n",
      "obj2:\n",
      " a    3\n",
      "b    7\n",
      "g    1\n",
      "h    8\n",
      "dtype: int64\n",
      "a    8.0\n",
      "b    NaN\n",
      "c    NaN\n",
      "f    NaN\n",
      "g    7.0\n",
      "h    NaN\n",
      "dtype: float64\n"
     ]
    }
   ],
   "source": [
    "obj1=pd.Series([5,2,6,9],index=['a','c','g','f'])\n",
    "print(\"obj1:\\n\",obj1)\n",
    "obj2=pd.Series([3,7,1,8],index=['a','b','g','h'])\n",
    "print(\"obj2:\\n\",obj2)\n",
    "print(obj1+obj2)"
   ]
  },
  {
   "cell_type": "markdown",
   "metadata": {},
   "source": [
    "对DataFrame，数据对齐会发生在行和列上  \n",
    "**例4-36** DataFrame数据相加"
   ]
  },
  {
   "cell_type": "code",
   "execution_count": 55,
   "metadata": {},
   "outputs": [
    {
     "name": "stdout",
     "output_type": "stream",
     "text": [
      "df1:\n",
      "    a  b  e\n",
      "A  0  1  2\n",
      "C  3  4  5\n",
      "df2:\n",
      "    a  b\n",
      "A  0  1\n",
      "D  2  3\n",
      "df1+df2:\n",
      "      a    b   e\n",
      "A  0.0  2.0 NaN\n",
      "C  NaN  NaN NaN\n",
      "D  NaN  NaN NaN\n"
     ]
    }
   ],
   "source": [
    "a=np.arange(6).reshape(2,3)\n",
    "b=np.arange(4).reshape(2,2)\n",
    "df1=pd.DataFrame(a,columns=['a','b','e'],index=['A','C'])\n",
    "print(\"df1:\\n\",df1)\n",
    "df2=pd.DataFrame(b,columns=['a','b'],index=['A','D'])\n",
    "print(\"df2:\\n\",df2)\n",
    "print(\"df1+df2:\\n\",df1+df2)"
   ]
  },
  {
   "cell_type": "markdown",
   "metadata": {},
   "source": [
    "## 4.4.2 函数应用和映射  \n",
    "3中方法实现定义函数：\n",
    "- map函数：将函数套用到Series的每个元素\n",
    "- apply函数：函数套用到DataFrame的行和列上，通过axis设置行或列\n",
    "- appmap函数：函数套用到DataFrame的每个人元素  \n",
    "\n",
    "**例4-37** 将水果价格表中的“元”去掉"
   ]
  },
  {
   "cell_type": "code",
   "execution_count": 56,
   "metadata": {},
   "outputs": [
    {
     "name": "stdout",
     "output_type": "stream",
     "text": [
      "    fruit price\n",
      "0   apple   30元\n",
      "1   grape   43元\n",
      "2  banana   28元\n",
      "修改后的数据表：\n",
      "     fruit price\n",
      "0   apple    30\n",
      "1   grape    43\n",
      "2  banana    28\n"
     ]
    }
   ],
   "source": [
    "data={'fruit':['apple','grape','banana'],'price':['30元','43元','28元']}\n",
    "df1=pd.DataFrame(data)\n",
    "print(df1)\n",
    "def f(x):\n",
    "    return x.split('元')[0]\n",
    "df1['price']=df1['price'].map(f)\n",
    "print(\"修改后的数据表：\\n\",df1)"
   ]
  },
  {
   "cell_type": "markdown",
   "metadata": {},
   "source": [
    "**例4-38** apply函数的使用方法"
   ]
  },
  {
   "cell_type": "code",
   "execution_count": 57,
   "metadata": {},
   "outputs": [
    {
     "name": "stdout",
     "output_type": "stream",
     "text": [
      "            a         b         c\n",
      "app -1.125510 -0.288895  0.844104\n",
      "win  0.209888 -0.546811 -0.053094\n",
      "mac  0.350399 -0.557283  1.002302\n",
      "a   -0.188408\n",
      "b   -0.464329\n",
      "c    0.597771\n",
      "dtype: float64\n",
      "app   -0.190100\n",
      "win   -0.130006\n",
      "mac    0.265139\n",
      "dtype: float64\n"
     ]
    }
   ],
   "source": [
    "df2=pd.DataFrame(np.random.randn(3,3),columns=['a','b','c'],index=['app','win','mac'])\n",
    "print(df2)\n",
    "print(df2.apply(np.mean))\n",
    "print(df2.apply(np.mean,axis=1))"
   ]
  },
  {
   "cell_type": "markdown",
   "metadata": {},
   "source": [
    "**例4-39** applymap函数用法"
   ]
  },
  {
   "cell_type": "code",
   "execution_count": 58,
   "metadata": {},
   "outputs": [
    {
     "name": "stdout",
     "output_type": "stream",
     "text": [
      "            a         b         c\n",
      "app -1.125510 -0.288895  0.844104\n",
      "win  0.209888 -0.546811 -0.053094\n",
      "mac  0.350399 -0.557283  1.002302\n"
     ]
    },
    {
     "data": {
      "text/html": [
       "<div>\n",
       "<style scoped>\n",
       "    .dataframe tbody tr th:only-of-type {\n",
       "        vertical-align: middle;\n",
       "    }\n",
       "\n",
       "    .dataframe tbody tr th {\n",
       "        vertical-align: top;\n",
       "    }\n",
       "\n",
       "    .dataframe thead th {\n",
       "        text-align: right;\n",
       "    }\n",
       "</style>\n",
       "<table border=\"1\" class=\"dataframe\">\n",
       "  <thead>\n",
       "    <tr style=\"text-align: right;\">\n",
       "      <th></th>\n",
       "      <th>a</th>\n",
       "      <th>b</th>\n",
       "      <th>c</th>\n",
       "    </tr>\n",
       "  </thead>\n",
       "  <tbody>\n",
       "    <tr>\n",
       "      <th>app</th>\n",
       "      <td>-1.126</td>\n",
       "      <td>-0.289</td>\n",
       "      <td>0.844</td>\n",
       "    </tr>\n",
       "    <tr>\n",
       "      <th>win</th>\n",
       "      <td>0.210</td>\n",
       "      <td>-0.547</td>\n",
       "      <td>-0.053</td>\n",
       "    </tr>\n",
       "    <tr>\n",
       "      <th>mac</th>\n",
       "      <td>0.350</td>\n",
       "      <td>-0.557</td>\n",
       "      <td>1.002</td>\n",
       "    </tr>\n",
       "  </tbody>\n",
       "</table>\n",
       "</div>"
      ],
      "text/plain": [
       "          a       b       c\n",
       "app  -1.126  -0.289   0.844\n",
       "win   0.210  -0.547  -0.053\n",
       "mac   0.350  -0.557   1.002"
      ]
     },
     "execution_count": 58,
     "metadata": {},
     "output_type": "execute_result"
    }
   ],
   "source": [
    "print(df2)\n",
    "df2.applymap(lambda x:'%.3f'%x)"
   ]
  },
  {
   "cell_type": "markdown",
   "metadata": {},
   "source": [
    "## 4.4.3 排序\n",
    "在Series中，用sort_index方法对索引进行排序，默认为升序。  \n",
    "用sort_values方法Udine数值进行排序。  \n",
    "**例4-40** 对索引进行排序"
   ]
  },
  {
   "cell_type": "code",
   "execution_count": 59,
   "metadata": {},
   "outputs": [
    {
     "name": "stdout",
     "output_type": "stream",
     "text": [
      "c    1\n",
      "b   -2\n",
      "a    4\n",
      "d   -4\n",
      "dtype: int64\n",
      "排序后的Series：\n",
      " a    4\n",
      "b   -2\n",
      "c    1\n",
      "d   -4\n",
      "dtype: int64\n"
     ]
    }
   ],
   "source": [
    "wy=pd.Series([1,-2,4,-4],index=['c','b','a','d'])\n",
    "print(wy)\n",
    "print('排序后的Series：\\n',wy.sort_index())"
   ]
  },
  {
   "cell_type": "markdown",
   "metadata": {},
   "source": [
    "**例4-41** 对数值排序"
   ]
  },
  {
   "cell_type": "code",
   "execution_count": 60,
   "metadata": {},
   "outputs": [
    {
     "name": "stdout",
     "output_type": "stream",
     "text": [
      "值排序后的Series：\n",
      " d   -4\n",
      "b   -2\n",
      "c    1\n",
      "a    4\n",
      "dtype: int64\n"
     ]
    }
   ],
   "source": [
    "print('值排序后的Series：\\n',wy.sort_values())"
   ]
  },
  {
   "cell_type": "markdown",
   "metadata": {},
   "source": [
    "对DataFrame数据排序是，需要制定轴的方向，用sort_index方法对行或列索引进行排序。  \n",
    "若要列排序，用sort_values方法，并把列名传给by参数  \n",
    "**例4-42** DataFrame列排序"
   ]
  },
  {
   "cell_type": "code",
   "execution_count": 61,
   "metadata": {},
   "outputs": [
    {
     "name": "stdout",
     "output_type": "stream",
     "text": [
      "            a         b         c\n",
      "app -1.125510 -0.288895  0.844104\n",
      "win  0.209888 -0.546811 -0.053094\n",
      "mac  0.350399 -0.557283  1.002302\n"
     ]
    },
    {
     "data": {
      "text/html": [
       "<div>\n",
       "<style scoped>\n",
       "    .dataframe tbody tr th:only-of-type {\n",
       "        vertical-align: middle;\n",
       "    }\n",
       "\n",
       "    .dataframe tbody tr th {\n",
       "        vertical-align: top;\n",
       "    }\n",
       "\n",
       "    .dataframe thead th {\n",
       "        text-align: right;\n",
       "    }\n",
       "</style>\n",
       "<table border=\"1\" class=\"dataframe\">\n",
       "  <thead>\n",
       "    <tr style=\"text-align: right;\">\n",
       "      <th></th>\n",
       "      <th>a</th>\n",
       "      <th>b</th>\n",
       "      <th>c</th>\n",
       "    </tr>\n",
       "  </thead>\n",
       "  <tbody>\n",
       "    <tr>\n",
       "      <th>app</th>\n",
       "      <td>-1.125510</td>\n",
       "      <td>-0.288895</td>\n",
       "      <td>0.844104</td>\n",
       "    </tr>\n",
       "    <tr>\n",
       "      <th>win</th>\n",
       "      <td>0.209888</td>\n",
       "      <td>-0.546811</td>\n",
       "      <td>-0.053094</td>\n",
       "    </tr>\n",
       "    <tr>\n",
       "      <th>mac</th>\n",
       "      <td>0.350399</td>\n",
       "      <td>-0.557283</td>\n",
       "      <td>1.002302</td>\n",
       "    </tr>\n",
       "  </tbody>\n",
       "</table>\n",
       "</div>"
      ],
      "text/plain": [
       "            a         b         c\n",
       "app -1.125510 -0.288895  0.844104\n",
       "win  0.209888 -0.546811 -0.053094\n",
       "mac  0.350399 -0.557283  1.002302"
      ]
     },
     "execution_count": 61,
     "metadata": {},
     "output_type": "execute_result"
    }
   ],
   "source": [
    "print(df2)\n",
    "df2.sort_values(by='a')"
   ]
  },
  {
   "cell_type": "markdown",
   "metadata": {},
   "source": [
    "## 4.4.4 汇总与统计\n",
    "1. 数据汇总  \n",
    "在DataFrame中，用sum方法对每列进行求和，与Excel的sum函数类似。  \n",
    "若设置axis指定轴方向，axis=1，实现按行汇总  \n",
    "**例4-43** DataFrame中的汇总"
   ]
  },
  {
   "cell_type": "code",
   "execution_count": 62,
   "metadata": {},
   "outputs": [
    {
     "name": "stdout",
     "output_type": "stream",
     "text": [
      "按行汇总：\n",
      " a   -0.565224\n",
      "b   -1.392988\n",
      "c    1.793312\n",
      "dtype: float64\n",
      "按列汇总：\n",
      " app   -0.570301\n",
      "win   -0.390017\n",
      "mac    0.795418\n",
      "dtype: float64\n"
     ]
    }
   ],
   "source": [
    "print('按行汇总：\\n',df2.sum())\n",
    "print('按列汇总：\\n',df2.sum(axis=1))"
   ]
  },
  {
   "cell_type": "markdown",
   "metadata": {},
   "source": [
    "2. 数据描述与统计  \n",
    "概括、表述事物整体情况以及事物间关联、雷叔关系的统计方法。  \n",
    "通过统计值描述数据的集中趋势和离散程度等分布状态。  \n",
    "describe方法对每个数值型列进行统计，在对数据初步观察是使用  \n",
    "**例4-44**示例"
   ]
  },
  {
   "cell_type": "code",
   "execution_count": 63,
   "metadata": {},
   "outputs": [
    {
     "data": {
      "text/html": [
       "<div>\n",
       "<style scoped>\n",
       "    .dataframe tbody tr th:only-of-type {\n",
       "        vertical-align: middle;\n",
       "    }\n",
       "\n",
       "    .dataframe tbody tr th {\n",
       "        vertical-align: top;\n",
       "    }\n",
       "\n",
       "    .dataframe thead th {\n",
       "        text-align: right;\n",
       "    }\n",
       "</style>\n",
       "<table border=\"1\" class=\"dataframe\">\n",
       "  <thead>\n",
       "    <tr style=\"text-align: right;\">\n",
       "      <th></th>\n",
       "      <th>a</th>\n",
       "      <th>b</th>\n",
       "      <th>c</th>\n",
       "    </tr>\n",
       "  </thead>\n",
       "  <tbody>\n",
       "    <tr>\n",
       "      <th>count</th>\n",
       "      <td>3.000000</td>\n",
       "      <td>3.000000</td>\n",
       "      <td>3.000000</td>\n",
       "    </tr>\n",
       "    <tr>\n",
       "      <th>mean</th>\n",
       "      <td>-0.188408</td>\n",
       "      <td>-0.464329</td>\n",
       "      <td>0.597771</td>\n",
       "    </tr>\n",
       "    <tr>\n",
       "      <th>std</th>\n",
       "      <td>0.814590</td>\n",
       "      <td>0.152021</td>\n",
       "      <td>0.569188</td>\n",
       "    </tr>\n",
       "    <tr>\n",
       "      <th>min</th>\n",
       "      <td>-1.125510</td>\n",
       "      <td>-0.557283</td>\n",
       "      <td>-0.053094</td>\n",
       "    </tr>\n",
       "    <tr>\n",
       "      <th>25%</th>\n",
       "      <td>-0.457811</td>\n",
       "      <td>-0.552047</td>\n",
       "      <td>0.395505</td>\n",
       "    </tr>\n",
       "    <tr>\n",
       "      <th>50%</th>\n",
       "      <td>0.209888</td>\n",
       "      <td>-0.546811</td>\n",
       "      <td>0.844104</td>\n",
       "    </tr>\n",
       "    <tr>\n",
       "      <th>75%</th>\n",
       "      <td>0.280143</td>\n",
       "      <td>-0.417853</td>\n",
       "      <td>0.923203</td>\n",
       "    </tr>\n",
       "    <tr>\n",
       "      <th>max</th>\n",
       "      <td>0.350399</td>\n",
       "      <td>-0.288895</td>\n",
       "      <td>1.002302</td>\n",
       "    </tr>\n",
       "  </tbody>\n",
       "</table>\n",
       "</div>"
      ],
      "text/plain": [
       "              a         b         c\n",
       "count  3.000000  3.000000  3.000000\n",
       "mean  -0.188408 -0.464329  0.597771\n",
       "std    0.814590  0.152021  0.569188\n",
       "min   -1.125510 -0.557283 -0.053094\n",
       "25%   -0.457811 -0.552047  0.395505\n",
       "50%    0.209888 -0.546811  0.844104\n",
       "75%    0.280143 -0.417853  0.923203\n",
       "max    0.350399 -0.288895  1.002302"
      ]
     },
     "execution_count": 63,
     "metadata": {},
     "output_type": "execute_result"
    }
   ],
   "source": [
    "df2.describe()"
   ]
  },
  {
   "cell_type": "markdown",
   "metadata": {},
   "source": [
    "|方法名称|说明|方法名称|说明|\n",
    "|:--:|:--:|:--:|:--:|\n",
    "|min|最小值|max|最大值\n",
    "|mean|均值|ptp|极差\n",
    "|median|中位数|std|标准差\n",
    "|var|方差|cov|协方差\n",
    "|sem|标准误差|mode|众数\n",
    "|skew|样本偏度|kurt|样本峰度\n",
    "|quantile|四分位数|count|非空值数目\n",
    "|describe|描述统计|mad|平均绝对离差\n",
    "\n",
    "对于类别性特征的描述性统计，可用频数统计表。  \n",
    "Pandas库的 unique方法：获得不重复的数组  \n",
    "value_counts方法：频数统计  \n",
    "**例4-45** 数据的频数统计  "
   ]
  },
  {
   "cell_type": "code",
   "execution_count": 64,
   "metadata": {},
   "outputs": [
    {
     "name": "stdout",
     "output_type": "stream",
     "text": [
      "['a' 'b' 'c' 'd']\n",
      "c    2\n",
      "a    2\n",
      "d    1\n",
      "b    1\n",
      "dtype: int64\n"
     ]
    }
   ],
   "source": [
    "obj=pd.Series(['a','b','c','a','d','c'])\n",
    "print(obj.unique())\n",
    "print(obj.value_counts())"
   ]
  },
  {
   "cell_type": "markdown",
   "metadata": {},
   "source": [
    "# 4.5 数据分组与聚合\n",
    "## 4.5.1 数据分组\n",
    "1. groupby方法  \n",
    "根据索引或字段对数据进行分组，  \n",
    "格式：DataFrame.groupby(by=None,axis=0,level=None,as_index=True,sort=True,group_keys=True,squeeze=False)\n",
    "参数说明：\n",
    "|参数名称|参数说明|\n",
    "|:--:|:--:|\n",
    "|by|传入函数、字典、Series等，用于确定分组的依据\n",
    "|axis|接受int，表示操作的轴方向，默认为0\n",
    "|level|接受int或索引名，标签所在的级别，默认为None\n",
    "|as_index|接受boolean，聚合后的标签是以DataFrame索引输出\n",
    "|sort|接受Boolean，对分组依据和分组标签排序，默认为True\n",
    "|group_keys|接受Boolean，是否显示分组标签的名称，默认为True\n",
    "|squeeze|接受Boolean，是否在允许情况下对返回的数据降维，默认为False\n",
    "\n",
    "**例4-46** 用法举例\n"
   ]
  },
  {
   "cell_type": "code",
   "execution_count": 65,
   "metadata": {},
   "outputs": [
    {
     "name": "stdout",
     "output_type": "stream",
     "text": [
      "key1\n",
      "a    3\n",
      "b    2\n",
      "Name: data1, dtype: int64\n",
      "<bound method GroupBy.mean of <pandas.core.groupby.generic.SeriesGroupBy object at 0x000002AAF1281FD0>>\n"
     ]
    }
   ],
   "source": [
    "import pandas as pd\n",
    "import numpy as np\n",
    "df=pd.DataFrame({'key1':['a','a','b','b','a'], 'key2':['yes','no','yes','yes','no'], 'data1':np.random.randn(5),'data2':np.random.randn(5)})\n",
    "grouped=df['data1'].groupby(df['key1'])\n",
    "print(grouped.size())\n",
    "print(grouped.mean)"
   ]
  },
  {
   "cell_type": "code",
   "execution_count": 66,
   "metadata": {},
   "outputs": [
    {
     "data": {
      "text/html": [
       "<div>\n",
       "<style scoped>\n",
       "    .dataframe tbody tr th:only-of-type {\n",
       "        vertical-align: middle;\n",
       "    }\n",
       "\n",
       "    .dataframe tbody tr th {\n",
       "        vertical-align: top;\n",
       "    }\n",
       "\n",
       "    .dataframe thead th {\n",
       "        text-align: right;\n",
       "    }\n",
       "</style>\n",
       "<table border=\"1\" class=\"dataframe\">\n",
       "  <thead>\n",
       "    <tr style=\"text-align: right;\">\n",
       "      <th></th>\n",
       "      <th>key1</th>\n",
       "      <th>key2</th>\n",
       "      <th>data1</th>\n",
       "      <th>data2</th>\n",
       "    </tr>\n",
       "  </thead>\n",
       "  <tbody>\n",
       "    <tr>\n",
       "      <th>0</th>\n",
       "      <td>a</td>\n",
       "      <td>yes</td>\n",
       "      <td>1.366924</td>\n",
       "      <td>-0.487925</td>\n",
       "    </tr>\n",
       "    <tr>\n",
       "      <th>1</th>\n",
       "      <td>a</td>\n",
       "      <td>no</td>\n",
       "      <td>1.024363</td>\n",
       "      <td>-0.807596</td>\n",
       "    </tr>\n",
       "    <tr>\n",
       "      <th>2</th>\n",
       "      <td>b</td>\n",
       "      <td>yes</td>\n",
       "      <td>0.706305</td>\n",
       "      <td>1.593748</td>\n",
       "    </tr>\n",
       "    <tr>\n",
       "      <th>3</th>\n",
       "      <td>b</td>\n",
       "      <td>yes</td>\n",
       "      <td>0.972218</td>\n",
       "      <td>-0.100394</td>\n",
       "    </tr>\n",
       "    <tr>\n",
       "      <th>4</th>\n",
       "      <td>a</td>\n",
       "      <td>no</td>\n",
       "      <td>2.199009</td>\n",
       "      <td>2.011306</td>\n",
       "    </tr>\n",
       "  </tbody>\n",
       "</table>\n",
       "</div>"
      ],
      "text/plain": [
       "  key1 key2     data1     data2\n",
       "0    a  yes  1.366924 -0.487925\n",
       "1    a   no  1.024363 -0.807596\n",
       "2    b  yes  0.706305  1.593748\n",
       "3    b  yes  0.972218 -0.100394\n",
       "4    a   no  2.199009  2.011306"
      ]
     },
     "execution_count": 66,
     "metadata": {},
     "output_type": "execute_result"
    }
   ],
   "source": [
    "df"
   ]
  },
  {
   "cell_type": "markdown",
   "metadata": {},
   "source": [
    "2. 按列名分组  \n",
    "DataFrame数据的列索引可以作为分组键  \n",
    "**例4-47**"
   ]
  },
  {
   "cell_type": "code",
   "execution_count": 67,
   "metadata": {},
   "outputs": [
    {
     "data": {
      "text/html": [
       "<div>\n",
       "<style scoped>\n",
       "    .dataframe tbody tr th:only-of-type {\n",
       "        vertical-align: middle;\n",
       "    }\n",
       "\n",
       "    .dataframe tbody tr th {\n",
       "        vertical-align: top;\n",
       "    }\n",
       "\n",
       "    .dataframe thead th {\n",
       "        text-align: right;\n",
       "    }\n",
       "</style>\n",
       "<table border=\"1\" class=\"dataframe\">\n",
       "  <thead>\n",
       "    <tr style=\"text-align: right;\">\n",
       "      <th></th>\n",
       "      <th>data1</th>\n",
       "      <th>data2</th>\n",
       "    </tr>\n",
       "    <tr>\n",
       "      <th>key2</th>\n",
       "      <th></th>\n",
       "      <th></th>\n",
       "    </tr>\n",
       "  </thead>\n",
       "  <tbody>\n",
       "    <tr>\n",
       "      <th>no</th>\n",
       "      <td>1.611686</td>\n",
       "      <td>0.601855</td>\n",
       "    </tr>\n",
       "    <tr>\n",
       "      <th>yes</th>\n",
       "      <td>1.015149</td>\n",
       "      <td>0.335143</td>\n",
       "    </tr>\n",
       "  </tbody>\n",
       "</table>\n",
       "</div>"
      ],
      "text/plain": [
       "         data1     data2\n",
       "key2                    \n",
       "no    1.611686  0.601855\n",
       "yes   1.015149  0.335143"
      ]
     },
     "execution_count": 67,
     "metadata": {},
     "output_type": "execute_result"
    }
   ],
   "source": [
    "groupk1=df.groupby('key2').mean()\n",
    "groupk1"
   ]
  },
  {
   "cell_type": "markdown",
   "metadata": {},
   "source": [
    "3. 按列表或元组分组  \n",
    "分组键是长度和DataFrame行数相同的列表或元组  \n",
    "**例4-48**"
   ]
  },
  {
   "cell_type": "code",
   "execution_count": 68,
   "metadata": {},
   "outputs": [
    {
     "data": {
      "text/html": [
       "<div>\n",
       "<style scoped>\n",
       "    .dataframe tbody tr th:only-of-type {\n",
       "        vertical-align: middle;\n",
       "    }\n",
       "\n",
       "    .dataframe tbody tr th {\n",
       "        vertical-align: top;\n",
       "    }\n",
       "\n",
       "    .dataframe thead th {\n",
       "        text-align: right;\n",
       "    }\n",
       "</style>\n",
       "<table border=\"1\" class=\"dataframe\">\n",
       "  <thead>\n",
       "    <tr style=\"text-align: right;\">\n",
       "      <th></th>\n",
       "      <th>data1</th>\n",
       "      <th>data2</th>\n",
       "    </tr>\n",
       "  </thead>\n",
       "  <tbody>\n",
       "    <tr>\n",
       "      <th>w</th>\n",
       "      <td>3.363505</td>\n",
       "      <td>-1.395915</td>\n",
       "    </tr>\n",
       "    <tr>\n",
       "      <th>y</th>\n",
       "      <td>2.905314</td>\n",
       "      <td>3.605054</td>\n",
       "    </tr>\n",
       "  </tbody>\n",
       "</table>\n",
       "</div>"
      ],
      "text/plain": [
       "      data1     data2\n",
       "w  3.363505 -1.395915\n",
       "y  2.905314  3.605054"
      ]
     },
     "execution_count": 68,
     "metadata": {},
     "output_type": "execute_result"
    }
   ],
   "source": [
    "wlist=['w','w','y','w','y']\n",
    "df.groupby(wlist).sum()"
   ]
  },
  {
   "cell_type": "markdown",
   "metadata": {},
   "source": [
    "4. 按字典分组  \n",
    "- 参考：https://blog.csdn.net/qq_32618817/article/details/80587228  \n",
    "\n",
    "\n",
    "**例4-49** 字典作为分组键，各字母不区分大小写  "
   ]
  },
  {
   "cell_type": "code",
   "execution_count": 69,
   "metadata": {},
   "outputs": [
    {
     "name": "stdout",
     "output_type": "stream",
     "text": [
      "数据为：\n",
      "           0         1         2         3         4\n",
      "a  1.276714  2.494325 -1.146669  0.484701  0.436728\n",
      "b  1.186960 -0.841497 -0.594088  1.100861 -1.258014\n",
      "c -0.003900 -0.758853  0.058293 -0.507102 -0.364509\n",
      "A  0.449272 -0.655650  0.489139  1.755240  0.547337\n",
      "B  0.377679 -0.982650 -0.678516  1.292457 -0.081362\n",
      "C -2.190826 -0.395029  0.910009 -1.782818 -0.606284\n",
      "分组汇总后的结果为：\n",
      "               0         1         2         3         4\n",
      "one    1.725986  1.838675 -0.657530  2.239941  0.984065\n",
      "three -0.003900 -0.758853  0.058293 -0.507102 -0.364509\n",
      "two    1.186960 -0.841497 -0.594088  1.100861 -1.258014\n"
     ]
    }
   ],
   "source": [
    "df=pd.DataFrame(np.random.normal(size=(6,5)), index=['a','b','c','A','B','C'])\n",
    "print(\"数据为：\\n\",df)\n",
    "wdict={'a':'one','A':'one','b':'two','c':'three'}\n",
    "print(\"分组汇总后的结果为：\\n\",df.groupby(wdict).sum())"
   ]
  },
  {
   "cell_type": "markdown",
   "metadata": {},
   "source": [
    "5. 按函数分组  \n",
    "通过映射关系进行分组  \n",
    "**例4-50** 最后一列的数值进行正负分组"
   ]
  },
  {
   "cell_type": "code",
   "execution_count": 70,
   "metadata": {},
   "outputs": [
    {
     "name": "stdout",
     "output_type": "stream",
     "text": [
      "          0         1         2         3\n",
      "0  0.486237  0.511619  0.649384 -0.005072\n",
      "1  0.403364 -0.086880  1.149864  1.251534\n",
      "2  0.009745 -0.666845  0.471898 -0.276182\n",
      "3 -1.895858 -1.448208 -0.797562 -0.189359\n",
      "3\n",
      "a    1.251534\n",
      "b   -0.470612\n",
      "Name: 3, dtype: float64\n"
     ]
    }
   ],
   "source": [
    "def judge(x):\n",
    "    if x>=0:\n",
    "        return 'a'\n",
    "    else:\n",
    "        return 'b'\n",
    "df=pd.DataFrame(np.random.randn(4,4))\n",
    "print(df)\n",
    "print(df[3].groupby(df[3].map(judge)).sum())"
   ]
  },
  {
   "cell_type": "markdown",
   "metadata": {},
   "source": [
    "## 4.5.2 数据聚合  \n",
    "对分组后的数据进行计算，产生标量值的数据转换的过程  \n",
    "1. 聚合函数  \n",
    "常用的有：count、sum、mean、median、std（无偏标准差）、var（无偏方差）、min、max、prod（求积）、first（第一个值）、last（最后一个值）  \n",
    "可以自定义聚合运算，使用时，将其传入aggregate或agg方法即可  \n",
    "2. 使用agg方法的聚合数据  \n",
    "agg、aggregate方法都可对每个分组应用某个函数  \n",
    "示例的数据如下："
   ]
  },
  {
   "cell_type": "code",
   "execution_count": 71,
   "metadata": {},
   "outputs": [
    {
     "name": "stdout",
     "output_type": "stream",
     "text": [
      "   序号 性别        身份证号 是否吸烟 是否饮酒  开始从事某项工作年份  体检年份  淋巴细胞计数  白细胞计数  细胞其他值  血小板计数\n",
      "0   1  女  1982080000    否    否        2009  2017     2.4    8.5      0  248.0\n",
      "1   2  女  1984110000    否    否        2015  2017     1.8    5.8      0  300.0\n",
      "2   3  男  1983060000    否    否        2013  2017     2.0    5.6      0  195.0\n",
      "3   4  男  1985040000    否    否        2014  2017     2.5    6.6      0  252.0\n",
      "4   5  男  1986040000    否    否        2014  2017     1.3    5.2      0  169.0\n"
     ]
    }
   ],
   "source": [
    "dt={\n",
    "    '序号':[i for i in range(1,6)],\n",
    "    '性别':['女', '女', '男', '男', '男'],\n",
    "    '身份证号':[1982080000, 1984110000, 1983060000, 1985040000, 1986040000],\n",
    "    '是否吸烟':['否', '否', '否', '否', '否'],\n",
    "    '是否饮酒':['否', '否', '否', '否', '否'],\n",
    "    '开始从事某项工作年份':[2009, 2015, 2013, 2014, 2014],\n",
    "    '体检年份':[2017, 2017, 2017, 2017, 2017],\n",
    "    '淋巴细胞计数':[2.4, 1.8, 2.0, 2.5, 1.3],\n",
    "    '白细胞计数':[8.5, 5.8, 5.6, 6.6, 5.2],\n",
    "    '细胞其他值':[0, 0, 0, 0, 0],\n",
    "    '血小板计数':[248.0, 300.0, 195.0, 252.0, 169.0]\n",
    "}\n",
    "data=pd.DataFrame(dt)\n",
    "print(data)"
   ]
  },
  {
   "cell_type": "markdown",
   "metadata": {},
   "source": [
    " 1. 计算当前数据中的各项统计量  \n",
    " **例4-51** 用agg求出当前数据对应的统计量"
   ]
  },
  {
   "cell_type": "code",
   "execution_count": 72,
   "metadata": {},
   "outputs": [
    {
     "data": {
      "text/html": [
       "<div>\n",
       "<style scoped>\n",
       "    .dataframe tbody tr th:only-of-type {\n",
       "        vertical-align: middle;\n",
       "    }\n",
       "\n",
       "    .dataframe tbody tr th {\n",
       "        vertical-align: top;\n",
       "    }\n",
       "\n",
       "    .dataframe thead th {\n",
       "        text-align: right;\n",
       "    }\n",
       "</style>\n",
       "<table border=\"1\" class=\"dataframe\">\n",
       "  <thead>\n",
       "    <tr style=\"text-align: right;\">\n",
       "      <th></th>\n",
       "      <th>淋巴细胞计数</th>\n",
       "      <th>白细胞计数</th>\n",
       "    </tr>\n",
       "  </thead>\n",
       "  <tbody>\n",
       "    <tr>\n",
       "      <th>sum</th>\n",
       "      <td>10.0</td>\n",
       "      <td>31.70</td>\n",
       "    </tr>\n",
       "    <tr>\n",
       "      <th>mean</th>\n",
       "      <td>2.0</td>\n",
       "      <td>6.34</td>\n",
       "    </tr>\n",
       "  </tbody>\n",
       "</table>\n",
       "</div>"
      ],
      "text/plain": [
       "      淋巴细胞计数  白细胞计数\n",
       "sum     10.0  31.70\n",
       "mean     2.0   6.34"
      ]
     },
     "execution_count": 72,
     "metadata": {},
     "output_type": "execute_result"
    }
   ],
   "source": [
    "data[['淋巴细胞计数','白细胞计数']].agg([np.sum, np.mean])"
   ]
  },
  {
   "cell_type": "markdown",
   "metadata": {},
   "source": [
    "2. 计算各字段的不同统计量  \n",
    "**例4-52** "
   ]
  },
  {
   "cell_type": "code",
   "execution_count": 73,
   "metadata": {},
   "outputs": [
    {
     "data": {
      "text/plain": [
       "淋巴细胞计数     2.000000\n",
       "血小板计数     51.514076\n",
       "dtype: float64"
      ]
     },
     "execution_count": 73,
     "metadata": {},
     "output_type": "execute_result"
    }
   ],
   "source": [
    "data.agg({'淋巴细胞计数':np.mean,'血小板计数':np.std})"
   ]
  },
  {
   "cell_type": "markdown",
   "metadata": {},
   "source": [
    "3. 计算不同字段的不同数目的统计量  \n",
    "**例4-53**"
   ]
  },
  {
   "cell_type": "code",
   "execution_count": 74,
   "metadata": {},
   "outputs": [
    {
     "data": {
      "text/html": [
       "<div>\n",
       "<style scoped>\n",
       "    .dataframe tbody tr th:only-of-type {\n",
       "        vertical-align: middle;\n",
       "    }\n",
       "\n",
       "    .dataframe tbody tr th {\n",
       "        vertical-align: top;\n",
       "    }\n",
       "\n",
       "    .dataframe thead th {\n",
       "        text-align: right;\n",
       "    }\n",
       "</style>\n",
       "<table border=\"1\" class=\"dataframe\">\n",
       "  <thead>\n",
       "    <tr style=\"text-align: right;\">\n",
       "      <th></th>\n",
       "      <th>淋巴细胞计数</th>\n",
       "      <th>血小板计数</th>\n",
       "    </tr>\n",
       "  </thead>\n",
       "  <tbody>\n",
       "    <tr>\n",
       "      <th>mean</th>\n",
       "      <td>2.0</td>\n",
       "      <td>232.800000</td>\n",
       "    </tr>\n",
       "    <tr>\n",
       "      <th>std</th>\n",
       "      <td>NaN</td>\n",
       "      <td>51.514076</td>\n",
       "    </tr>\n",
       "  </tbody>\n",
       "</table>\n",
       "</div>"
      ],
      "text/plain": [
       "      淋巴细胞计数       血小板计数\n",
       "mean     2.0  232.800000\n",
       "std      NaN   51.514076"
      ]
     },
     "execution_count": 74,
     "metadata": {},
     "output_type": "execute_result"
    }
   ],
   "source": [
    "data.agg({'淋巴细胞计数':np.mean,'血小板计数':[np.mean, np.std]})"
   ]
  },
  {
   "cell_type": "markdown",
   "metadata": {},
   "source": [
    "分组后的数据也可使用聚合统计方法  \n",
    "**例4-54** 统计不同性别人群的血小板计数"
   ]
  },
  {
   "cell_type": "code",
   "execution_count": 75,
   "metadata": {},
   "outputs": [
    {
     "data": {
      "text/plain": [
       "性别\n",
       "女    274.000000\n",
       "男    205.333333\n",
       "Name: 血小板计数, dtype: float64"
      ]
     },
     "execution_count": 75,
     "metadata": {},
     "output_type": "execute_result"
    }
   ],
   "source": [
    "data.groupby('性别')['血小板计数'].agg(np.mean)"
   ]
  },
  {
   "cell_type": "markdown",
   "metadata": {},
   "source": [
    "若想返回的结果不以分组键为索引，可通过as_index=False实现  \n",
    "**例4-55**"
   ]
  },
  {
   "cell_type": "code",
   "execution_count": 76,
   "metadata": {},
   "outputs": [
    {
     "data": {
      "text/html": [
       "<div>\n",
       "<style scoped>\n",
       "    .dataframe tbody tr th:only-of-type {\n",
       "        vertical-align: middle;\n",
       "    }\n",
       "\n",
       "    .dataframe tbody tr th {\n",
       "        vertical-align: top;\n",
       "    }\n",
       "\n",
       "    .dataframe thead th {\n",
       "        text-align: right;\n",
       "    }\n",
       "</style>\n",
       "<table border=\"1\" class=\"dataframe\">\n",
       "  <thead>\n",
       "    <tr style=\"text-align: right;\">\n",
       "      <th></th>\n",
       "      <th>性别</th>\n",
       "      <th>血小板计数</th>\n",
       "    </tr>\n",
       "  </thead>\n",
       "  <tbody>\n",
       "    <tr>\n",
       "      <th>0</th>\n",
       "      <td>女</td>\n",
       "      <td>274.000000</td>\n",
       "    </tr>\n",
       "    <tr>\n",
       "      <th>1</th>\n",
       "      <td>男</td>\n",
       "      <td>205.333333</td>\n",
       "    </tr>\n",
       "  </tbody>\n",
       "</table>\n",
       "</div>"
      ],
      "text/plain": [
       "  性别       血小板计数\n",
       "0  女  274.000000\n",
       "1  男  205.333333"
      ]
     },
     "execution_count": 76,
     "metadata": {},
     "output_type": "execute_result"
    }
   ],
   "source": [
    "data.groupby(['性别'],as_index=False)['血小板计数'].agg(np.mean)"
   ]
  },
  {
   "cell_type": "markdown",
   "metadata": {},
   "source": [
    "## 4.5.3 分组运算  \n",
    "分组运算包括聚合运算  \n",
    "1. transform方法：  \n",
    "将运算分布到每一行  \n",
    "**例4-56**"
   ]
  },
  {
   "cell_type": "code",
   "execution_count": 77,
   "metadata": {},
   "outputs": [
    {
     "data": {
      "text/plain": [
       "0    274.000000\n",
       "4    205.333333\n",
       "3    205.333333\n",
       "1    274.000000\n",
       "2    205.333333\n",
       "Name: 血小板计数, dtype: float64"
      ]
     },
     "execution_count": 77,
     "metadata": {},
     "output_type": "execute_result"
    }
   ],
   "source": [
    "data.groupby(['性别','是否吸烟'])['血小板计数'].transform('mean').sample(5)"
   ]
  },
  {
   "cell_type": "markdown",
   "metadata": {},
   "source": [
    "2. apply方法  \n",
    "类似于agg方法，将函数应用于每一列  \n",
    "返回结果不以分组键为索引，设置groupby_keys=False\n",
    "**例4-57** 分组后应用apply统计"
   ]
  },
  {
   "cell_type": "code",
   "execution_count": 78,
   "metadata": {},
   "outputs": [
    {
     "data": {
      "text/plain": [
       "性别  是否吸烟\n",
       "女   否       274.000000\n",
       "男   否       205.333333\n",
       "Name: 血小板计数, dtype: float64"
      ]
     },
     "execution_count": 78,
     "metadata": {},
     "output_type": "execute_result"
    }
   ],
   "source": [
    "data.groupby(['性别','是否吸烟'])['血小板计数'].apply(np.mean)"
   ]
  },
  {
   "cell_type": "markdown",
   "metadata": {},
   "source": [
    "apply和agg方法的不同：  \n",
    "agg能够对不同字段应用不同函数，但apply不行  \n",
    "# 4.6 数据透视表  \n",
    "根据一个或多个键值对数据进行聚合，根据列或行的分组键将数据划分到各个区域  \n",
    "## 4.6.1 透视表  \n",
    "pivot_table函数也可对数据分组聚合实现透视功能，格式如下：  \n",
    "pivot_table(data, values=None, index=None, columns=None, aggfunc='mean', fill_value=None, margins=False, dropna=True, margins_name='ALL')  \n",
    "参数说明：  \n",
    "\n",
    "|参数|使用说明|\n",
    "|:--:|:--:|\n",
    "|data|接收DataFrame，表示创建表的数据|\n",
    "|values|接收string，指定要聚合的字段，默认为全部数据\n",
    "|index|接收string或list，行分组键\n",
    "|columns|接收string或list，列分组键\n",
    "|aggfunc|接收function，聚合函数，默认为mean\n",
    "|margins|接收boolean，汇总功能的开关\n",
    "|dropna|接收boolean，是否删除全为Nan的列，默认为False\n",
    "\n",
    "**例4-58**"
   ]
  },
  {
   "cell_type": "code",
   "execution_count": 79,
   "metadata": {},
   "outputs": [
    {
     "name": "stdout",
     "output_type": "stream",
     "text": [
      "   k1     k2         w         y\n",
      "0   a    one  0.790676 -0.345016\n",
      "1   b    two  0.840973  0.206448\n",
      "2   a  three  0.435189 -0.991915\n",
      "3   a    two  0.232716 -1.414217\n",
      "4   c    one  0.836065 -1.312200\n",
      "5   c    one  0.036841  0.232112\n",
      "6   b  three  0.382366  0.231117\n",
      "7   a    one  0.020960  0.037339\n",
      "8   c    two  0.038886  0.792953\n",
      "9   a  three  0.757274 -2.153604\n",
      "10  b    one  0.405393  0.392260\n",
      "11  c    two  0.911750  0.395759\n"
     ]
    },
    {
     "data": {
      "text/html": [
       "<div>\n",
       "<style scoped>\n",
       "    .dataframe tbody tr th:only-of-type {\n",
       "        vertical-align: middle;\n",
       "    }\n",
       "\n",
       "    .dataframe tbody tr th {\n",
       "        vertical-align: top;\n",
       "    }\n",
       "\n",
       "    .dataframe thead tr th {\n",
       "        text-align: left;\n",
       "    }\n",
       "\n",
       "    .dataframe thead tr:last-of-type th {\n",
       "        text-align: right;\n",
       "    }\n",
       "</style>\n",
       "<table border=\"1\" class=\"dataframe\">\n",
       "  <thead>\n",
       "    <tr>\n",
       "      <th></th>\n",
       "      <th colspan=\"3\" halign=\"left\">w</th>\n",
       "      <th colspan=\"3\" halign=\"left\">y</th>\n",
       "    </tr>\n",
       "    <tr>\n",
       "      <th>k2</th>\n",
       "      <th>one</th>\n",
       "      <th>three</th>\n",
       "      <th>two</th>\n",
       "      <th>one</th>\n",
       "      <th>three</th>\n",
       "      <th>two</th>\n",
       "    </tr>\n",
       "    <tr>\n",
       "      <th>k1</th>\n",
       "      <th></th>\n",
       "      <th></th>\n",
       "      <th></th>\n",
       "      <th></th>\n",
       "      <th></th>\n",
       "      <th></th>\n",
       "    </tr>\n",
       "  </thead>\n",
       "  <tbody>\n",
       "    <tr>\n",
       "      <th>a</th>\n",
       "      <td>0.405818</td>\n",
       "      <td>0.596232</td>\n",
       "      <td>0.232716</td>\n",
       "      <td>-0.153838</td>\n",
       "      <td>-1.572759</td>\n",
       "      <td>-1.414217</td>\n",
       "    </tr>\n",
       "    <tr>\n",
       "      <th>b</th>\n",
       "      <td>0.405393</td>\n",
       "      <td>0.382366</td>\n",
       "      <td>0.840973</td>\n",
       "      <td>0.392260</td>\n",
       "      <td>0.231117</td>\n",
       "      <td>0.206448</td>\n",
       "    </tr>\n",
       "    <tr>\n",
       "      <th>c</th>\n",
       "      <td>0.436453</td>\n",
       "      <td>NaN</td>\n",
       "      <td>0.475318</td>\n",
       "      <td>-0.540044</td>\n",
       "      <td>NaN</td>\n",
       "      <td>0.594356</td>\n",
       "    </tr>\n",
       "  </tbody>\n",
       "</table>\n",
       "</div>"
      ],
      "text/plain": [
       "           w                             y                    \n",
       "k2       one     three       two       one     three       two\n",
       "k1                                                            \n",
       "a   0.405818  0.596232  0.232716 -0.153838 -1.572759 -1.414217\n",
       "b   0.405393  0.382366  0.840973  0.392260  0.231117  0.206448\n",
       "c   0.436453       NaN  0.475318 -0.540044       NaN  0.594356"
      ]
     },
     "execution_count": 79,
     "metadata": {},
     "output_type": "execute_result"
    }
   ],
   "source": [
    "data=pd.DataFrame({'k1':['a','b','a','a','c','c','b','a','c','a','b','c'], 'k2':['one','two','three','two','one','one','three','one','two','three','one','two'], 'w':np.random.rand(12),'y':np.random.randn(12)})\n",
    "print(data)\n",
    "data.pivot_table(index='k1',columns='k2')"
   ]
  },
  {
   "cell_type": "markdown",
   "metadata": {},
   "source": [
    "**例4-59** 分类汇总并求和"
   ]
  },
  {
   "cell_type": "code",
   "execution_count": 80,
   "metadata": {},
   "outputs": [
    {
     "data": {
      "text/html": [
       "<div>\n",
       "<style scoped>\n",
       "    .dataframe tbody tr th:only-of-type {\n",
       "        vertical-align: middle;\n",
       "    }\n",
       "\n",
       "    .dataframe tbody tr th {\n",
       "        vertical-align: top;\n",
       "    }\n",
       "\n",
       "    .dataframe thead tr th {\n",
       "        text-align: left;\n",
       "    }\n",
       "\n",
       "    .dataframe thead tr:last-of-type th {\n",
       "        text-align: right;\n",
       "    }\n",
       "</style>\n",
       "<table border=\"1\" class=\"dataframe\">\n",
       "  <thead>\n",
       "    <tr>\n",
       "      <th></th>\n",
       "      <th colspan=\"3\" halign=\"left\">w</th>\n",
       "      <th colspan=\"3\" halign=\"left\">y</th>\n",
       "    </tr>\n",
       "    <tr>\n",
       "      <th>k2</th>\n",
       "      <th>one</th>\n",
       "      <th>three</th>\n",
       "      <th>two</th>\n",
       "      <th>one</th>\n",
       "      <th>three</th>\n",
       "      <th>two</th>\n",
       "    </tr>\n",
       "    <tr>\n",
       "      <th>k1</th>\n",
       "      <th></th>\n",
       "      <th></th>\n",
       "      <th></th>\n",
       "      <th></th>\n",
       "      <th></th>\n",
       "      <th></th>\n",
       "    </tr>\n",
       "  </thead>\n",
       "  <tbody>\n",
       "    <tr>\n",
       "      <th>a</th>\n",
       "      <td>0.811636</td>\n",
       "      <td>1.192463</td>\n",
       "      <td>0.232716</td>\n",
       "      <td>-0.307677</td>\n",
       "      <td>-3.145519</td>\n",
       "      <td>-1.414217</td>\n",
       "    </tr>\n",
       "    <tr>\n",
       "      <th>b</th>\n",
       "      <td>0.405393</td>\n",
       "      <td>0.382366</td>\n",
       "      <td>0.840973</td>\n",
       "      <td>0.392260</td>\n",
       "      <td>0.231117</td>\n",
       "      <td>0.206448</td>\n",
       "    </tr>\n",
       "    <tr>\n",
       "      <th>c</th>\n",
       "      <td>0.872905</td>\n",
       "      <td>NaN</td>\n",
       "      <td>0.950637</td>\n",
       "      <td>-1.080088</td>\n",
       "      <td>NaN</td>\n",
       "      <td>1.188712</td>\n",
       "    </tr>\n",
       "  </tbody>\n",
       "</table>\n",
       "</div>"
      ],
      "text/plain": [
       "           w                             y                    \n",
       "k2       one     three       two       one     three       two\n",
       "k1                                                            \n",
       "a   0.811636  1.192463  0.232716 -0.307677 -3.145519 -1.414217\n",
       "b   0.405393  0.382366  0.840973  0.392260  0.231117  0.206448\n",
       "c   0.872905       NaN  0.950637 -1.080088       NaN  1.188712"
      ]
     },
     "execution_count": 80,
     "metadata": {},
     "output_type": "execute_result"
    }
   ],
   "source": [
    "data.pivot_table(index='k1',columns='k2',aggfunc='sum')"
   ]
  },
  {
   "cell_type": "markdown",
   "metadata": {},
   "source": [
    "## 4.6.2 交叉表  \n",
    "主要用于计算分组频率。  \n",
    "Pandas的crosstab函数可以制作，其格式如下：\n",
    "crosstab(index, columns, values=None, rownames=None, colname=None, aggfunc=None, margins=False, dropna=True, normalize=False)  \n",
    "参数及其说明如下：  \n",
    "\n",
    "|参数|使用说明|\n",
    "|:--:|:--:|\n",
    "|index|接收string或list，表示行索引键，无默认值\n",
    "|columns|接收string或list，列索引键\n",
    "|values|接收array，聚合数据，默认为None\n",
    "|rownames|行分组键名，无默认\n",
    "|colname|列分组键名，无默认\n",
    "|aggfunc|接收functions,聚合函数，默认为None\n",
    "|margins|接收boolean，汇总功能的开关\n",
    "|dropna|接收boolean，是否删除全为Nan的列，默认为False\n",
    "|normalize|接收boolean，是否对值进行标准化，默认为False\n",
    "\n",
    "**例4-60** 交叉表示例"
   ]
  },
  {
   "cell_type": "code",
   "execution_count": 81,
   "metadata": {},
   "outputs": [
    {
     "data": {
      "text/html": [
       "<div>\n",
       "<style scoped>\n",
       "    .dataframe tbody tr th:only-of-type {\n",
       "        vertical-align: middle;\n",
       "    }\n",
       "\n",
       "    .dataframe tbody tr th {\n",
       "        vertical-align: top;\n",
       "    }\n",
       "\n",
       "    .dataframe thead th {\n",
       "        text-align: right;\n",
       "    }\n",
       "</style>\n",
       "<table border=\"1\" class=\"dataframe\">\n",
       "  <thead>\n",
       "    <tr style=\"text-align: right;\">\n",
       "      <th>k2</th>\n",
       "      <th>one</th>\n",
       "      <th>three</th>\n",
       "      <th>two</th>\n",
       "    </tr>\n",
       "    <tr>\n",
       "      <th>k1</th>\n",
       "      <th></th>\n",
       "      <th></th>\n",
       "      <th></th>\n",
       "    </tr>\n",
       "  </thead>\n",
       "  <tbody>\n",
       "    <tr>\n",
       "      <th>a</th>\n",
       "      <td>2</td>\n",
       "      <td>2</td>\n",
       "      <td>1</td>\n",
       "    </tr>\n",
       "    <tr>\n",
       "      <th>b</th>\n",
       "      <td>1</td>\n",
       "      <td>1</td>\n",
       "      <td>1</td>\n",
       "    </tr>\n",
       "    <tr>\n",
       "      <th>c</th>\n",
       "      <td>2</td>\n",
       "      <td>0</td>\n",
       "      <td>2</td>\n",
       "    </tr>\n",
       "  </tbody>\n",
       "</table>\n",
       "</div>"
      ],
      "text/plain": [
       "k2  one  three  two\n",
       "k1                 \n",
       "a     2      2    1\n",
       "b     1      1    1\n",
       "c     2      0    2"
      ]
     },
     "execution_count": 81,
     "metadata": {},
     "output_type": "execute_result"
    }
   ],
   "source": [
    "pd.crosstab(data.k1,data.k2)"
   ]
  },
  {
   "cell_type": "markdown",
   "metadata": {},
   "source": [
    "在边框处增加汇总项，指定margins=True  \n",
    "**例4-61**"
   ]
  },
  {
   "cell_type": "code",
   "execution_count": 82,
   "metadata": {},
   "outputs": [
    {
     "data": {
      "text/html": [
       "<div>\n",
       "<style scoped>\n",
       "    .dataframe tbody tr th:only-of-type {\n",
       "        vertical-align: middle;\n",
       "    }\n",
       "\n",
       "    .dataframe tbody tr th {\n",
       "        vertical-align: top;\n",
       "    }\n",
       "\n",
       "    .dataframe thead th {\n",
       "        text-align: right;\n",
       "    }\n",
       "</style>\n",
       "<table border=\"1\" class=\"dataframe\">\n",
       "  <thead>\n",
       "    <tr style=\"text-align: right;\">\n",
       "      <th>k2</th>\n",
       "      <th>one</th>\n",
       "      <th>three</th>\n",
       "      <th>two</th>\n",
       "      <th>All</th>\n",
       "    </tr>\n",
       "    <tr>\n",
       "      <th>k1</th>\n",
       "      <th></th>\n",
       "      <th></th>\n",
       "      <th></th>\n",
       "      <th></th>\n",
       "    </tr>\n",
       "  </thead>\n",
       "  <tbody>\n",
       "    <tr>\n",
       "      <th>a</th>\n",
       "      <td>2</td>\n",
       "      <td>2</td>\n",
       "      <td>1</td>\n",
       "      <td>5</td>\n",
       "    </tr>\n",
       "    <tr>\n",
       "      <th>b</th>\n",
       "      <td>1</td>\n",
       "      <td>1</td>\n",
       "      <td>1</td>\n",
       "      <td>3</td>\n",
       "    </tr>\n",
       "    <tr>\n",
       "      <th>c</th>\n",
       "      <td>2</td>\n",
       "      <td>0</td>\n",
       "      <td>2</td>\n",
       "      <td>4</td>\n",
       "    </tr>\n",
       "    <tr>\n",
       "      <th>All</th>\n",
       "      <td>5</td>\n",
       "      <td>3</td>\n",
       "      <td>4</td>\n",
       "      <td>12</td>\n",
       "    </tr>\n",
       "  </tbody>\n",
       "</table>\n",
       "</div>"
      ],
      "text/plain": [
       "k2   one  three  two  All\n",
       "k1                       \n",
       "a      2      2    1    5\n",
       "b      1      1    1    3\n",
       "c      2      0    2    4\n",
       "All    5      3    4   12"
      ]
     },
     "execution_count": 82,
     "metadata": {},
     "output_type": "execute_result"
    }
   ],
   "source": [
    "pd.crosstab(data.k1, data.k2, margins=True)"
   ]
  },
  {
   "cell_type": "markdown",
   "metadata": {},
   "source": [
    "# 4.7 Pandas可视化  \n",
    "## 4.7.1 线形图  \n",
    "线形图描绘数据之间的趋势，plot方法默认是绘制线形图  \n",
    "**例4-62** Series的plot"
   ]
  },
  {
   "cell_type": "code",
   "execution_count": 83,
   "metadata": {},
   "outputs": [
    {
     "data": {
      "text/plain": [
       "<AxesSubplot:>"
      ]
     },
     "execution_count": 83,
     "metadata": {},
     "output_type": "execute_result"
    },
    {
     "data": {
      "image/png": "[encoded data removed]",
      "text/plain": [
       "<Figure size 432x288 with 1 Axes>"
      ]
     },
     "metadata": {
      "needs_background": "light"
     },
     "output_type": "display_data"
    }
   ],
   "source": [
    "import numpy as np\n",
    "import pandas as pd\n",
    "import matplotlib.pyplot as plt\n",
    "%matplotlib inline\n",
    "s=pd.Series(np.random.normal(size=10))\n",
    "s.plot()"
   ]
  },
  {
   "cell_type": "markdown",
   "metadata": {},
   "source": [
    "**例4-63** DataFrame的plot"
   ]
  },
  {
   "cell_type": "code",
   "execution_count": 84,
   "metadata": {},
   "outputs": [
    {
     "data": {
      "text/plain": [
       "<AxesSubplot:>"
      ]
     },
     "execution_count": 84,
     "metadata": {},
     "output_type": "execute_result"
    },
    {
     "data": {
      "image/png": "[encoded data removed]",
      "text/plain": [
       "<Figure size 432x288 with 1 Axes>"
      ]
     },
     "metadata": {
      "needs_background": "light"
     },
     "output_type": "display_data"
    }
   ],
   "source": [
    "df=pd.DataFrame({'normal':np.random.normal(size=50), 'gamma':np.random.gamma(1,size=50)})\n",
    "df.plot()"
   ]
  },
  {
   "cell_type": "markdown",
   "metadata": {},
   "source": [
    "## 4.7.2 柱状图  \n",
    "描述各类别之间的关系。在plot函数中加参数kind='bar'，类别多的可使用水平柱状图kind='barh'  \n",
    "**例4-64**"
   ]
  },
  {
   "cell_type": "code",
   "execution_count": 85,
   "metadata": {},
   "outputs": [
    {
     "name": "stdout",
     "output_type": "stream",
     "text": [
      "female    3\n",
      "male      2\n",
      "Name: sex, dtype: int64\n",
      "AxesSubplot(0.125,0.125;0.775x0.755)\n"
     ]
    },
    {
     "data": {
      "image/png": "[encoded data removed]",
      "text/plain": [
       "<Figure size 432x288 with 1 Axes>"
      ]
     },
     "metadata": {
      "needs_background": "light"
     },
     "output_type": "display_data"
    }
   ],
   "source": [
    "stu={'name':['小明','小王','小李','小赵','小张'], 'sex':['male','female','female','female','male'], 'year':[1996,1997,1994,1999,1996]}\n",
    "data=pd.DataFrame(stu)\n",
    "print(data['sex'].value_counts())\n",
    "print(data['sex'].value_counts().plot(kind='bar',rot=30))"
   ]
  },
  {
   "cell_type": "markdown",
   "metadata": {},
   "source": [
    "**例4-65**"
   ]
  },
  {
   "cell_type": "code",
   "execution_count": 86,
   "metadata": {},
   "outputs": [
    {
     "name": "stdout",
     "output_type": "stream",
     "text": [
      "       11  12  13\n",
      "two    31  54  83\n",
      "three  69  83  87\n",
      "one    16  15  55\n"
     ]
    },
    {
     "data": {
      "text/plain": [
       "<AxesSubplot:>"
      ]
     },
     "execution_count": 86,
     "metadata": {},
     "output_type": "execute_result"
    },
    {
     "data": {
      "image/png": "[encoded data removed]",
      "text/plain": [
       "<Figure size 432x288 with 1 Axes>"
      ]
     },
     "metadata": {
      "needs_background": "light"
     },
     "output_type": "display_data"
    }
   ],
   "source": [
    "df=pd.DataFrame(np.random.randint(1,100,size=(3,3)), index={'one','two','three'}, columns=['11','12','13'])\n",
    "print(df)\n",
    "df.plot(kind='barh')"
   ]
  },
  {
   "cell_type": "markdown",
   "metadata": {},
   "source": [
    "## 4.7.3 直方图  \n",
    "用于频率分布，可以观察数据值的大致分布规律，通过hist方法绘制  \n",
    "核密度估计，plot参数kind='kde'即可  \n",
    "**例4-66**  直方图"
   ]
  },
  {
   "cell_type": "code",
   "execution_count": 87,
   "metadata": {},
   "outputs": [
    {
     "name": "stdout",
     "output_type": "stream",
     "text": [
      "0    -0.211241\n",
      "1    -1.459845\n",
      "2     0.300013\n",
      "3     0.279334\n",
      "4     1.525947\n",
      "        ...   \n",
      "75   -0.174107\n",
      "76    0.201062\n",
      "77    0.737285\n",
      "78   -0.647939\n",
      "79    0.729320\n",
      "Length: 80, dtype: float64\n"
     ]
    },
    {
     "data": {
      "text/plain": [
       "<AxesSubplot:>"
      ]
     },
     "execution_count": 87,
     "metadata": {},
     "output_type": "execute_result"
    },
    {
     "data": {
      "image/png": "[encoded data removed]",
      "text/plain": [
       "<Figure size 432x288 with 1 Axes>"
      ]
     },
     "metadata": {
      "needs_background": "light"
     },
     "output_type": "display_data"
    }
   ],
   "source": [
    "wy=pd.Series(np.random.normal(size=80))\n",
    "print(wy)\n",
    "s.hist(bins=15,grid=False)"
   ]
  },
  {
   "cell_type": "markdown",
   "metadata": {},
   "source": [
    "**例4-67** 核密度图"
   ]
  },
  {
   "cell_type": "code",
   "execution_count": 88,
   "metadata": {},
   "outputs": [
    {
     "data": {
      "text/plain": [
       "<AxesSubplot:ylabel='Density'>"
      ]
     },
     "execution_count": 88,
     "metadata": {},
     "output_type": "execute_result"
    },
    {
     "data": {
      "image/png": "[encoded data removed]",
      "text/plain": [
       "<Figure size 432x288 with 1 Axes>"
      ]
     },
     "metadata": {
      "needs_background": "light"
     },
     "output_type": "display_data"
    }
   ],
   "source": [
    "wy=pd.Series(np.random.normal(size=80))\n",
    "s.plot(kind='kde')"
   ]
  },
  {
   "cell_type": "markdown",
   "metadata": {},
   "source": [
    "## 4.7.4 散点图  \n",
    "表现数据之间的规律  \n",
    "**例4-68** 绘制散点图"
   ]
  },
  {
   "cell_type": "code",
   "execution_count": 89,
   "metadata": {},
   "outputs": [
    {
     "data": {
      "text/plain": [
       "<AxesSubplot:xlabel='A', ylabel='B'>"
      ]
     },
     "execution_count": 89,
     "metadata": {},
     "output_type": "execute_result"
    },
    {
     "data": {
      "image/png": "[encoded data removed]",
      "text/plain": [
       "<Figure size 432x288 with 1 Axes>"
      ]
     },
     "metadata": {
      "needs_background": "light"
     },
     "output_type": "display_data"
    }
   ],
   "source": [
    "wd=pd.DataFrame(np.arange(10), columns=['A'])\n",
    "wd['B']=2*wd['A']+4\n",
    "wd.plot(kind='scatter', x='A',y='B')"
   ]
  },
  {
   "cell_type": "markdown",
   "metadata": {},
   "source": [
    "# 4.8 本章小结  \n",
    "主要介绍了Pandas的统计分析基础，包括：Pandas数据结构、索引操作、数据运算、数据分组与聚合、透视表、绘图  \n",
    "## 实训\n",
    "对小费数据集进行数据分析与可视化。数据集来源于Python库Seaborn中自带的数据，以事先被转存为Excel类型  \n",
    "### 1.导入模块"
   ]
  },
  {
   "cell_type": "code",
   "execution_count": 90,
   "metadata": {},
   "outputs": [],
   "source": [
    "import pandas as pd\n",
    "import numpy as np\n",
    "import matplotlib.pyplot as plt\n",
    "plt.rcParams['font.sans-serif']=['SimHei']  # 显示中文标签\n",
    "plt.rcParams['axes.unicode_minus']=False\n",
    "%matplotlib inline"
   ]
  },
  {
   "cell_type": "markdown",
   "metadata": {},
   "source": [
    "### 2.获取数据"
   ]
  },
  {
   "cell_type": "code",
   "execution_count": 91,
   "metadata": {},
   "outputs": [
    {
     "data": {
      "text/html": [
       "<div>\n",
       "<style scoped>\n",
       "    .dataframe tbody tr th:only-of-type {\n",
       "        vertical-align: middle;\n",
       "    }\n",
       "\n",
       "    .dataframe tbody tr th {\n",
       "        vertical-align: top;\n",
       "    }\n",
       "\n",
       "    .dataframe thead th {\n",
       "        text-align: right;\n",
       "    }\n",
       "</style>\n",
       "<table border=\"1\" class=\"dataframe\">\n",
       "  <thead>\n",
       "    <tr style=\"text-align: right;\">\n",
       "      <th></th>\n",
       "      <th>total_bill</th>\n",
       "      <th>tip</th>\n",
       "      <th>sex</th>\n",
       "      <th>smoker</th>\n",
       "      <th>day</th>\n",
       "      <th>time</th>\n",
       "      <th>size</th>\n",
       "    </tr>\n",
       "  </thead>\n",
       "  <tbody>\n",
       "    <tr>\n",
       "      <th>0</th>\n",
       "      <td>16.99</td>\n",
       "      <td>1.01</td>\n",
       "      <td>Female</td>\n",
       "      <td>No</td>\n",
       "      <td>Sun</td>\n",
       "      <td>Dinner</td>\n",
       "      <td>2</td>\n",
       "    </tr>\n",
       "    <tr>\n",
       "      <th>1</th>\n",
       "      <td>10.34</td>\n",
       "      <td>1.66</td>\n",
       "      <td>Male</td>\n",
       "      <td>No</td>\n",
       "      <td>Sun</td>\n",
       "      <td>Dinner</td>\n",
       "      <td>3</td>\n",
       "    </tr>\n",
       "    <tr>\n",
       "      <th>2</th>\n",
       "      <td>21.01</td>\n",
       "      <td>3.50</td>\n",
       "      <td>Male</td>\n",
       "      <td>No</td>\n",
       "      <td>Sun</td>\n",
       "      <td>Dinner</td>\n",
       "      <td>3</td>\n",
       "    </tr>\n",
       "    <tr>\n",
       "      <th>3</th>\n",
       "      <td>23.68</td>\n",
       "      <td>3.31</td>\n",
       "      <td>Male</td>\n",
       "      <td>No</td>\n",
       "      <td>Sun</td>\n",
       "      <td>Dinner</td>\n",
       "      <td>2</td>\n",
       "    </tr>\n",
       "    <tr>\n",
       "      <th>4</th>\n",
       "      <td>24.59</td>\n",
       "      <td>3.61</td>\n",
       "      <td>Female</td>\n",
       "      <td>No</td>\n",
       "      <td>Sun</td>\n",
       "      <td>Dinner</td>\n",
       "      <td>4</td>\n",
       "    </tr>\n",
       "  </tbody>\n",
       "</table>\n",
       "</div>"
      ],
      "text/plain": [
       "   total_bill   tip     sex smoker  day    time  size\n",
       "0       16.99  1.01  Female     No  Sun  Dinner     2\n",
       "1       10.34  1.66    Male     No  Sun  Dinner     3\n",
       "2       21.01  3.50    Male     No  Sun  Dinner     3\n",
       "3       23.68  3.31    Male     No  Sun  Dinner     2\n",
       "4       24.59  3.61  Female     No  Sun  Dinner     4"
      ]
     },
     "execution_count": 91,
     "metadata": {},
     "output_type": "execute_result"
    }
   ],
   "source": [
    "#导入待处理数据tips.xls\n",
    "fdata=pd.read_excel(r'D:\\\\My_Project\\DataSet\\Python数据分析\\tips.xls')\n",
    "fdata.head()"
   ]
  },
  {
   "cell_type": "markdown",
   "metadata": {},
   "source": [
    "### 3.分析数据"
   ]
  },
  {
   "cell_type": "code",
   "execution_count": 92,
   "metadata": {},
   "outputs": [
    {
     "data": {
      "text/html": [
       "<div>\n",
       "<style scoped>\n",
       "    .dataframe tbody tr th:only-of-type {\n",
       "        vertical-align: middle;\n",
       "    }\n",
       "\n",
       "    .dataframe tbody tr th {\n",
       "        vertical-align: top;\n",
       "    }\n",
       "\n",
       "    .dataframe thead th {\n",
       "        text-align: right;\n",
       "    }\n",
       "</style>\n",
       "<table border=\"1\" class=\"dataframe\">\n",
       "  <thead>\n",
       "    <tr style=\"text-align: right;\">\n",
       "      <th></th>\n",
       "      <th>total_bill</th>\n",
       "      <th>tip</th>\n",
       "      <th>size</th>\n",
       "    </tr>\n",
       "  </thead>\n",
       "  <tbody>\n",
       "    <tr>\n",
       "      <th>count</th>\n",
       "      <td>244.000000</td>\n",
       "      <td>244.000000</td>\n",
       "      <td>244.000000</td>\n",
       "    </tr>\n",
       "    <tr>\n",
       "      <th>mean</th>\n",
       "      <td>19.785943</td>\n",
       "      <td>2.998279</td>\n",
       "      <td>2.569672</td>\n",
       "    </tr>\n",
       "    <tr>\n",
       "      <th>std</th>\n",
       "      <td>8.902412</td>\n",
       "      <td>1.383638</td>\n",
       "      <td>0.951100</td>\n",
       "    </tr>\n",
       "    <tr>\n",
       "      <th>min</th>\n",
       "      <td>3.070000</td>\n",
       "      <td>1.000000</td>\n",
       "      <td>1.000000</td>\n",
       "    </tr>\n",
       "    <tr>\n",
       "      <th>25%</th>\n",
       "      <td>13.347500</td>\n",
       "      <td>2.000000</td>\n",
       "      <td>2.000000</td>\n",
       "    </tr>\n",
       "    <tr>\n",
       "      <th>50%</th>\n",
       "      <td>17.795000</td>\n",
       "      <td>2.900000</td>\n",
       "      <td>2.000000</td>\n",
       "    </tr>\n",
       "    <tr>\n",
       "      <th>75%</th>\n",
       "      <td>24.127500</td>\n",
       "      <td>3.562500</td>\n",
       "      <td>3.000000</td>\n",
       "    </tr>\n",
       "    <tr>\n",
       "      <th>max</th>\n",
       "      <td>50.810000</td>\n",
       "      <td>10.000000</td>\n",
       "      <td>6.000000</td>\n",
       "    </tr>\n",
       "  </tbody>\n",
       "</table>\n",
       "</div>"
      ],
      "text/plain": [
       "       total_bill         tip        size\n",
       "count  244.000000  244.000000  244.000000\n",
       "mean    19.785943    2.998279    2.569672\n",
       "std      8.902412    1.383638    0.951100\n",
       "min      3.070000    1.000000    1.000000\n",
       "25%     13.347500    2.000000    2.000000\n",
       "50%     17.795000    2.900000    2.000000\n",
       "75%     24.127500    3.562500    3.000000\n",
       "max     50.810000   10.000000    6.000000"
      ]
     },
     "execution_count": 92,
     "metadata": {},
     "output_type": "execute_result"
    }
   ],
   "source": [
    "#1.查看数据的描述信息\n",
    "fdata.describe()"
   ]
  },
  {
   "cell_type": "code",
   "execution_count": 93,
   "metadata": {},
   "outputs": [
    {
     "data": {
      "text/html": [
       "<div>\n",
       "<style scoped>\n",
       "    .dataframe tbody tr th:only-of-type {\n",
       "        vertical-align: middle;\n",
       "    }\n",
       "\n",
       "    .dataframe tbody tr th {\n",
       "        vertical-align: top;\n",
       "    }\n",
       "\n",
       "    .dataframe thead th {\n",
       "        text-align: right;\n",
       "    }\n",
       "</style>\n",
       "<table border=\"1\" class=\"dataframe\">\n",
       "  <thead>\n",
       "    <tr style=\"text-align: right;\">\n",
       "      <th></th>\n",
       "      <th>消费金额</th>\n",
       "      <th>小费</th>\n",
       "      <th>性别</th>\n",
       "      <th>是否抽烟</th>\n",
       "      <th>星期</th>\n",
       "      <th>聚餐时间段</th>\n",
       "      <th>人数</th>\n",
       "    </tr>\n",
       "  </thead>\n",
       "  <tbody>\n",
       "    <tr>\n",
       "      <th>0</th>\n",
       "      <td>16.99</td>\n",
       "      <td>1.01</td>\n",
       "      <td>Female</td>\n",
       "      <td>No</td>\n",
       "      <td>Sun</td>\n",
       "      <td>Dinner</td>\n",
       "      <td>2</td>\n",
       "    </tr>\n",
       "    <tr>\n",
       "      <th>1</th>\n",
       "      <td>10.34</td>\n",
       "      <td>1.66</td>\n",
       "      <td>Male</td>\n",
       "      <td>No</td>\n",
       "      <td>Sun</td>\n",
       "      <td>Dinner</td>\n",
       "      <td>3</td>\n",
       "    </tr>\n",
       "    <tr>\n",
       "      <th>2</th>\n",
       "      <td>21.01</td>\n",
       "      <td>3.50</td>\n",
       "      <td>Male</td>\n",
       "      <td>No</td>\n",
       "      <td>Sun</td>\n",
       "      <td>Dinner</td>\n",
       "      <td>3</td>\n",
       "    </tr>\n",
       "    <tr>\n",
       "      <th>3</th>\n",
       "      <td>23.68</td>\n",
       "      <td>3.31</td>\n",
       "      <td>Male</td>\n",
       "      <td>No</td>\n",
       "      <td>Sun</td>\n",
       "      <td>Dinner</td>\n",
       "      <td>2</td>\n",
       "    </tr>\n",
       "    <tr>\n",
       "      <th>4</th>\n",
       "      <td>24.59</td>\n",
       "      <td>3.61</td>\n",
       "      <td>Female</td>\n",
       "      <td>No</td>\n",
       "      <td>Sun</td>\n",
       "      <td>Dinner</td>\n",
       "      <td>4</td>\n",
       "    </tr>\n",
       "  </tbody>\n",
       "</table>\n",
       "</div>"
      ],
      "text/plain": [
       "    消费金额    小费      性别 是否抽烟   星期   聚餐时间段  人数\n",
       "0  16.99  1.01  Female   No  Sun  Dinner   2\n",
       "1  10.34  1.66    Male   No  Sun  Dinner   3\n",
       "2  21.01  3.50    Male   No  Sun  Dinner   3\n",
       "3  23.68  3.31    Male   No  Sun  Dinner   2\n",
       "4  24.59  3.61  Female   No  Sun  Dinner   4"
      ]
     },
     "execution_count": 93,
     "metadata": {},
     "output_type": "execute_result"
    }
   ],
   "source": [
    "#2.修改列名为汉字，并显示前5行\n",
    "fdata.rename(columns={'total_bill':'消费金额','tip':'小费','sex':'性别','smoker':'是否抽烟','day':'星期','time':'聚餐时间段','size':'人数'}, inplace=True)\n",
    "fdata.head()"
   ]
  },
  {
   "cell_type": "code",
   "execution_count": 94,
   "metadata": {},
   "outputs": [
    {
     "data": {
      "text/plain": [
       "<AxesSubplot:xlabel='消费金额', ylabel='小费'>"
      ]
     },
     "execution_count": 94,
     "metadata": {},
     "output_type": "execute_result"
    },
    {
     "data": {
      "image/png": "[encoded data removed]",
      "text/plain": [
       "<Figure size 432x288 with 1 Axes>"
      ]
     },
     "metadata": {
      "needs_background": "light"
     },
     "output_type": "display_data"
    }
   ],
   "source": [
    "#3.分析消费金额和总金额的关系\n",
    "fdata.plot(kind='scatter',x='消费金额',y='小费')"
   ]
  },
  {
   "cell_type": "code",
   "execution_count": 95,
   "metadata": {},
   "outputs": [
    {
     "data": {
      "text/plain": [
       "性别\n",
       "Female    2.833448\n",
       "Male      3.089618\n",
       "Name: 小费, dtype: float64"
      ]
     },
     "execution_count": 95,
     "metadata": {},
     "output_type": "execute_result"
    }
   ],
   "source": [
    "#4.分析男性顾客与女性顾客谁更慷慨\n",
    "fdata.groupby('性别')['小费'].mean()"
   ]
  },
  {
   "cell_type": "code",
   "execution_count": 96,
   "metadata": {},
   "outputs": [
    {
     "name": "stdout",
     "output_type": "stream",
     "text": [
      "['Sun' 'Sat' 'Thur' 'Fri']\n"
     ]
    },
    {
     "data": {
      "image/png": "[encoded data removed]",
      "text/plain": [
       "<Figure size 432x288 with 1 Axes>"
      ]
     },
     "metadata": {
      "needs_background": "light"
     },
     "output_type": "display_data"
    }
   ],
   "source": [
    "#5.分析日期和小费的关系\n",
    "print(fdata['星期'].unique())\n",
    "r=fdata.groupby('星期')['小费'].mean()\n",
    "fig=r.plot(kind='bar',x='星期',y='小费',fontsize=12, rot=30)\n",
    "fig.axes.title.set_size(16)"
   ]
  },
  {
   "cell_type": "code",
   "execution_count": 97,
   "metadata": {},
   "outputs": [
    {
     "data": {
      "image/png": "[encoded data removed]",
      "text/plain": [
       "<Figure size 432x288 with 1 Axes>"
      ]
     },
     "metadata": {
      "needs_background": "light"
     },
     "output_type": "display_data"
    }
   ],
   "source": [
    "#6.性别和抽烟的组合对慷慨度的影响\n",
    "r=fdata.groupby(['性别','是否抽烟'])['小费'].mean()\n",
    "fig=r.plot(kind='bar',x='星期',y='小费',fontsize=12,rot=30)\n",
    "fig.axes.title.set_size(16)"
   ]
  },
  {
   "cell_type": "code",
   "execution_count": 98,
   "metadata": {},
   "outputs": [
    {
     "data": {
      "image/png": "[encoded data removed]",
      "text/plain": [
       "<Figure size 432x288 with 1 Axes>"
      ]
     },
     "metadata": {
      "needs_background": "light"
     },
     "output_type": "display_data"
    }
   ],
   "source": [
    "#7.分析聚餐时间段与小费数额的关系\n",
    "r=fdata.groupby(['聚餐时间段'])['小费'].mean()\n",
    "fig=r.plot(kind='bar',x='星期',y='小费',fontsize=15,rot=30)\n",
    "fig.axes.title.set_size(16)"
   ]
  }
 ],
 "metadata": {
  "kernelspec": {
   "display_name": "Python 3",
   "language": "python",
   "name": "python3"
  },
  "language_info": {
   "codemirror_mode": {
    "name": "ipython",
    "version": 3
   },
   "file_extension": ".py",
   "mimetype": "text/x-python",
   "name": "python",
   "nbconvert_exporter": "python",
   "pygments_lexer": "ipython3",
   "version": "3.8.6"
  }
 },
 "nbformat": 4,
 "nbformat_minor": 4
}
