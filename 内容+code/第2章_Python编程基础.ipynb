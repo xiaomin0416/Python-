{
 "cells": [
  {
   "cell_type": "markdown",
   "metadata": {},
   "source": [
    "**<center>Python编程基础</center>**  \n",
   ]
  },
  {
   "cell_type": "markdown",
   "metadata": {},
   "source": [
    "# Python语言基本语法"
   ]
  },
  {
   "cell_type": "code",
   "execution_count": 2,
   "metadata": {},
   "outputs": [
    {
     "name": "stdout",
     "output_type": "stream",
     "text": [
      "请输入一个整数：3\n",
      "sorry,\n",
      "it's False.\n"
     ]
    }
   ],
   "source": [
    "#例2-1 Python程序实例\n",
    "answer=int(input(\"请输入一个整数：\"))\n",
    "if answer==2 :\n",
    "    print(\"hello,\")\n",
    "    print(\"it's True.\")\n",
    "else:\n",
    "    print(\"sorry,\")\n",
    "    print(\"it's False.\")"
   ]
  },
  {
   "cell_type": "markdown",
   "metadata": {},
   "source": [
    "### 变量和赋值  \n",
    " - python中变量不需要声明数据类型，“类型”是指被赋值对象的类型。同一变量可以反复赋值且可是不同类型"
   ]
  },
  {
   "cell_type": "code",
   "execution_count": 3,
   "metadata": {},
   "outputs": [
    {
     "name": "stdout",
     "output_type": "stream",
     "text": [
      "brower, count, addsum\n"
     ]
    }
   ],
   "source": [
    "#例2-2 多变量赋值实例\n",
    "brower, count, addsum = 'Google', 100, 123.45\n",
    "print(\"brower, count, addsum\")"
   ]
  },
  {
   "cell_type": "markdown",
   "metadata": {},
   "source": [
    "- 字符串被定义为引号之间的字符集合\n",
    "- 一个反斜杠表示一个转义序列的开始，即某些字符串中存在的特殊含义字符。  \n",
    "|转义字符|说明|\n",
    "|:--|:--:|\n",
    "|\\n|换行|\n",
    "|\\\\|反斜杠|\n",
    "|\\\"|双引号|\n",
    "|\\t|制表符|  \n",
    "- 用r+\" \"的方式，表示\" \"内部的字符串，默认不转义"
   ]
  },
  {
   "cell_type": "code",
   "execution_count": 4,
   "metadata": {},
   "outputs": [
    {
     "name": "stdout",
     "output_type": "stream",
     "text": [
      "python\n",
      "program\n",
      "python\\nprogram\n"
     ]
    }
   ],
   "source": [
    "#例2-3 转义字符的使用\n",
    "print(\"python\\nprogram\")\n",
    "print(r\"python\\nprogram\")"
   ]
  },
  {
   "cell_type": "markdown",
   "metadata": {},
   "source": [
    "## 流程控制\n",
    "### 条件语句"
   ]
  },
  {
   "cell_type": "code",
   "execution_count": 13,
   "metadata": {},
   "outputs": [
    {
     "name": "stdout",
     "output_type": "stream",
     "text": [
      "请输入成绩：99\n",
      "及格。\n"
     ]
    }
   ],
   "source": [
    "#例2-4 判断一个学生的成绩是否及格：如果成绩大于或等于60分，则打印“及格”，否则输出“不及格”。\n",
    "score=float(input(\"请输入成绩：\"))\n",
    "if score >=60:\n",
    "    print(\"及格。\")\n",
    "else:\n",
    "    print(\"不及格。\")"
   ]
  },
  {
   "cell_type": "code",
   "execution_count": 5,
   "metadata": {},
   "outputs": [
    {
     "name": "stdout",
     "output_type": "stream",
     "text": [
      "请输入化学分子式：N2\n",
      "no exist.\n"
     ]
    }
   ],
   "source": [
    "#例2-5 将化学分子式翻译为其所表示物质对应的英文\n",
    "compound=input(\"请输入化学分子式：\")\n",
    "if compound == \"H2O\":\n",
    "    print(\"water.\")\n",
    "elif compound == \"NH3\":\n",
    "    print(\"ammonia.\")\n",
    "elif compound ==\"CH3\":\n",
    "    print(\"methane.\")\n",
    "else:\n",
    "    print(\"no exist.\")"
   ]
  },
  {
   "cell_type": "markdown",
   "metadata": {},
   "source": [
    "### 循环语句"
   ]
  },
  {
   "cell_type": "code",
   "execution_count": 6,
   "metadata": {},
   "outputs": [
    {
     "name": "stdout",
     "output_type": "stream",
     "text": [
      "sum is 15.\n"
     ]
    }
   ],
   "source": [
    "#例2-6 求1+2+3+4+5的值\n",
    "sum=0\n",
    "i=1\n",
    "while i<6:\n",
    "    sum=sum+i\n",
    "    i=i+1\n",
    "print(\"sum is %d.\"%sum)"
   ]
  },
  {
   "cell_type": "code",
   "execution_count": 8,
   "metadata": {},
   "outputs": [
    {
     "name": "stdout",
     "output_type": "stream",
     "text": [
      "0 3 6 9 12 15 18 "
     ]
    }
   ],
   "source": [
    "#例2-7 输出20以内能被3整除的数\n",
    "i=0\n",
    "while i<20:\n",
    "    if i%3 == 0:\n",
    "        print(i,end=\" \")  #输出以空格结束，不换行\n",
    "    i=i+1"
   ]
  },
  {
   "cell_type": "code",
   "execution_count": 9,
   "metadata": {},
   "outputs": [
    {
     "name": "stdout",
     "output_type": "stream",
     "text": [
      "1+2+3+4+5= 15.\n"
     ]
    }
   ],
   "source": [
    "#例2-8 求1+2+3+4+5的值\n",
    "sum=0\n",
    "for i in range(1,6):  # range(start,end,step)：返回列表，从start开始，不到end，步长step缺省则为1\n",
    "    sum=sum+i\n",
    "print(\"1+2+3+4+5= %d.\"%sum)"
   ]
  },
  {
   "cell_type": "code",
   "execution_count": 12,
   "metadata": {},
   "outputs": [
    {
     "name": "stdout",
     "output_type": "stream",
     "text": [
      "原数据： [1, 2, 3, 4, 8, 7, 22, 33, 88]\n",
      "处理后： [1, 2, 9, 4, 8, 49, 22, 1089, 88]\n"
     ]
    }
   ],
   "source": [
    "#例2-9 将下面数组中的奇数变成它的平方，偶数保持不变\n",
    "x=[1,2,3,4,8,7,22,33,88]\n",
    "print(\"原数据：\",x)\n",
    "for i in range(len(x)):\n",
    "    if(x[i]%2)!=0 :\n",
    "        x[i]=x[i]*x[i]\n",
    "print(\"处理后：\",x)"
   ]
  },
  {
   "cell_type": "markdown",
   "metadata": {},
   "source": [
    "# 内置数据类型\n",
    "   ## 列表"
   ]
  },
  {
   "cell_type": "code",
   "execution_count": 14,
   "metadata": {},
   "outputs": [
    {
     "name": "stdout",
     "output_type": "stream",
     "text": [
      "更新后的列表： ['a', 'b', 'c', 'd', 'Baidu']\n"
     ]
    }
   ],
   "source": [
    "#例2-10 在列表中追加元素。\n",
    "list=['a','b','c','d']\n",
    "list.append('Baidu')\n",
    "print(\"更新后的列表：\",list)"
   ]
  },
  {
   "cell_type": "code",
   "execution_count": 16,
   "metadata": {},
   "outputs": [
    {
     "name": "stdout",
     "output_type": "stream",
     "text": [
      "列表插入元素后为： ['a', 'Baidu', 'b', 'c', 'd']\n"
     ]
    }
   ],
   "source": [
    "#例2-11 在列表中插入元素。\n",
    "list=['a','b','c','d']\n",
    "list.insert(1,'Baidu')\n",
    "print(\"列表插入元素后为：\",list)"
   ]
  },
  {
   "cell_type": "code",
   "execution_count": 18,
   "metadata": {},
   "outputs": [
    {
     "name": "stdout",
     "output_type": "stream",
     "text": [
      "b的索引值为： 1\n"
     ]
    }
   ],
   "source": [
    "#例2-12 返回第一个指定值的索引。\n",
    "list=['a','b','c','d']\n",
    "print(\"b的索引值为：\",list.index('b'))"
   ]
  },
  {
   "cell_type": "code",
   "execution_count": 19,
   "metadata": {},
   "outputs": [
    {
     "name": "stdout",
     "output_type": "stream",
     "text": [
      "列表现在为： ['a', 'b', 'c']\n"
     ]
    }
   ],
   "source": [
    "#例2-13 删除列表中第一次找到的数值\n",
    "list=['a','b','c','d']\n",
    "list.remove('d')\n",
    "print(\"列表现在为：\",list)"
   ]
  },
  {
   "cell_type": "code",
   "execution_count": 25,
   "metadata": {},
   "outputs": [
    {
     "name": "stdout",
     "output_type": "stream",
     "text": [
      "删除'd'后的列表为 ['a', 'b', 'c']：\n",
      "删除元素为： b\n"
     ]
    }
   ],
   "source": [
    "#例2-14 删除列表中的指定元素\n",
    "list=['a','b','c','d']\n",
    "p=list.pop()\n",
    "print(\"删除%r后的列表为 %r：\"%(p,list))\n",
    "print(\"删除元素为：\",list.pop(1))"
   ]
  },
  {
   "cell_type": "code",
   "execution_count": 26,
   "metadata": {},
   "outputs": [
    {
     "data": {
      "text/plain": [
       "['d', 'c', 'b', 'a']"
      ]
     },
     "execution_count": 26,
     "metadata": {},
     "output_type": "execute_result"
    }
   ],
   "source": [
    "#例2-15 列表元素倒排\n",
    "list=['a','b','c','d']\n",
    "list.reverse()\n",
    "list"
   ]
  },
  {
   "cell_type": "code",
   "execution_count": 31,
   "metadata": {},
   "outputs": [
    {
     "name": "stdout",
     "output_type": "stream",
     "text": [
      "c的出现次数是： 3\n",
      "list中一共有 3 个a.\n"
     ]
    }
   ],
   "source": [
    "#例2-16 返回列表中指定数组的出现次数\n",
    "list=['a','b','c','d','a','b','c','a','c']\n",
    "print(\"c的出现次数是：\",list.count(\"c\"))\n",
    "print(\"list中一共有 %d 个a.\"%list.count(\"a\"))"
   ]
  },
  {
   "cell_type": "code",
   "execution_count": 32,
   "metadata": {},
   "outputs": [
    {
     "data": {
      "text/plain": [
       "['d', 'c', 'b', 'a']"
      ]
     },
     "execution_count": 32,
     "metadata": {},
     "output_type": "execute_result"
    }
   ],
   "source": [
    "#例2-17 列表元素排序\n",
    "list=['a','b','c','d']\n",
    "list.sort(reverse=True)\n",
    "list"
   ]
  },
  {
   "cell_type": "markdown",
   "metadata": {},
   "source": [
    "## 列表推导式  \n",
    "   根据确定的判定条件创建子序列\n",
    "    语法格式为：  \n",
    "    ```[ <expr1> for k in L if<expr2> ]```  \n",
    "    语义：  \n",
    "    ```\n",
    "    list=[]  \n",
    "    for k in L:  \n",
    "      if<expr2>:  \n",
    "         list.append(<expr1>)  \n",
    "    return list;\n",
    "    ```"
   ]
  },
  {
   "cell_type": "code",
   "execution_count": 34,
   "metadata": {},
   "outputs": [
    {
     "name": "stdout",
     "output_type": "stream",
     "text": [
      "[6, 12, 18, 24, 30]\n",
      "[24, 30]\n",
      "[8, 6, 16, 12, 24, 18]\n"
     ]
    }
   ],
   "source": [
    "#例2-18 列表推导式实例\n",
    "vec=[2,4,6,8,10]\n",
    "print([3*x for x in vec])\n",
    "vec=[2,4,6,8,10]\n",
    "print([3*x for x in vec if x>6])\n",
    "vec1=[2,4,6]\n",
    "vec2=[4,3,-9]\n",
    "print([x*y for x in vec1 for y in vec2 if x*y>0])"
   ]
  },
  {
   "cell_type": "code",
   "execution_count": 36,
   "metadata": {},
   "outputs": [
    {
     "name": "stdout",
     "output_type": "stream",
     "text": [
      "列表： [18, 32, 138, 123, 6, 29, 45, 26, 117, 106, 98, 3, 134, 97, 60, 19, 78, 54, 78, 111, 70, 58, 26, 124, 77, 78, 138, 9, 16, 143]\n",
      "新列表： [-52, -38, 68, 53, -64, -41, -25, -44, 47, 36, 28, -67, 64, 27, -10, -51, 8, -16, 8, 41, 0, -12, -44, 54, 7, 8, 68, -61, -54, 73]\n"
     ]
    }
   ],
   "source": [
    "#例2-19 随机生成30个整数构成列表，并计算列表均值，然后使用列表中每个元素逐个减去均值所得的数值重新构建列表\n",
    "import random\n",
    "total=[]\n",
    "for i in range(30):  # 随机生成30个1-150之间的整数\n",
    "    total.append(random.randint(1,150))\n",
    "print(\"列表：\",total)\n",
    "sum=0\n",
    "for item in total:\n",
    "    sum=sum+item  # 列表元素求和\n",
    "total_m=sum//len(total)  # 计算列表均值。//表示取整。\n",
    "print(\"新列表：\",[x - total_m for x in total])"
   ]
  },
  {
   "cell_type": "code",
   "execution_count": 41,
   "metadata": {},
   "outputs": [
    {
     "name": "stdout",
     "output_type": "stream",
     "text": [
      "原矩阵： [[1, 2, 3, 4], [5, 6, 7, 8], [9, 10, 11, 12]]\n",
      "转置矩阵为： [[1, 5, 9], [2, 6, 10], [3, 7, 11], [4, 8, 12]]\n"
     ]
    }
   ],
   "source": [
    "#例2-20 计算矩阵的转置矩阵\n",
    "matrix=[[1,2,3,4],[5,6,7,8],[9,10,11,12]]\n",
    "print(\"原矩阵：\",matrix)\n",
    "# row[i]以行的形式在matrix中循环，i表示每一列的下标。将同一列不同行的元素加入一个列表中，完成转置\n",
    "print(\"转置矩阵为：\",[[row[i] for row in matrix] for i in range(4)])  "
   ]
  },
  {
   "cell_type": "markdown",
   "metadata": {},
   "source": [
    "## 元组  \n",
    "   元组是固定长度、不可变的对象序列，用圆括号。"
   ]
  },
  {
   "cell_type": "code",
   "execution_count": 42,
   "metadata": {},
   "outputs": [
    {
     "name": "stdout",
     "output_type": "stream",
     "text": [
      "输出元组tup： ('b', 'a', 'r')\n",
      "输出元组tup： ((4, 5, 6), (7, 8))\n",
      "元组的连接： ('b', 'a', 'r', 'w', 'w', 'y')\n",
      "b a r\n",
      "1\n"
     ]
    }
   ],
   "source": [
    "#例2-21 元组的创建。\n",
    "tup=tuple('bar')  # 创建元组\n",
    "print(\"输出元组tup：\",tup)  # 输出元组\n",
    "nested_tup=(4,5,6),(7,8)\n",
    "print(\"输出元组tup：\",nested_tup)  # 输出元素是元组的元组\n",
    "print(\"元组的连接：\",tup+tuple('wwy'))\n",
    "a,b,c=tup  # 因为只有3个变量被赋值，所以只有元组的前3个元素被赋值出去\n",
    "print(a,b,c)\n",
    "print(tup.count(a))  # 统计某个数值在元组中出现的次数"
   ]
  },
  {
   "cell_type": "markdown",
   "metadata": {},
   "source": [
    "## 字典  \n",
    "   - 由键值对组成的非排序可变集合体。键是唯一的，且必须使用不可变对象（例如字符串）。  \n",
    "    字典的常用方法及描述：  \n",
    " |方法|描述|\n",
    "        |:--|:--:|\n",
    "        |dic.get(key,default=None|返回指定键的值，若值不在字典中则返回default|\n",
    "        |dic.items()|以列表返回可遍历的（键，值）元组数组|\n",
    "        |dic.keys()|以列表返回一个字典中的所有的键|\n",
    "        |dic.values()|以列表返回字典中的所有值|"
   ]
  },
  {
   "cell_type": "code",
   "execution_count": 44,
   "metadata": {},
   "outputs": [
    {
     "name": "stdout",
     "output_type": "stream",
     "text": [
      "keys： dict_keys(['Newton', 'Darwin', 'Turing'])\n",
      "values： dict_values([1642, 1809, 1912])\n",
      "items： dict_items([('Newton', 1642), ('Darwin', 1809), ('Turing', 1912)])\n",
      "get： 1867\n",
      "after update： {'Newton': 1642, 'Darwin': 1809, 'Turing': 1912, 'Curie': 1867, 'Hopper': 1906, 'Franklin': 1920}\n",
      "after clear： {}\n"
     ]
    }
   ],
   "source": [
    "#例2-22 字典应用示例\n",
    "scientists={'Newton':1642,'Darwin':1809,'Turing':1912}\n",
    "print('keys：',scientists.keys())  # 返回字典中的所有键\n",
    "print('values：',scientists.values())  # 返回字典中的所有值\n",
    "print('items：',scientists.items())  # 返回字典中的所有键值对，形式（键，值）\n",
    "print('get：',scientists.get('Curie',1867))  # get方法\n",
    "temp={'Curie':1867,'Hopper':1906,'Franklin':1920}\n",
    "scientists.update(temp)  # 用字典temp更新字典scientists\n",
    "print('after update：',scientists)\n",
    "scientists.clear()  # 清空字典\n",
    "print(\"after clear：\",scientists)"
   ]
  },
  {
   "cell_type": "markdown",
   "metadata": {},
   "source": [
    "## 集合\n",
    "- 由唯一元素组成的非排序集合体，即元素没有特定顺序且不重复。用set()创建空集合。  \n",
    "    集合的常用方法及其描述：  \n",
    " |方法|描述|\n",
    "        |:--|:--:|\n",
    "        |issubset()|判断调用函数的集合的所有元素是否都包含在指定集合(方法的参数)中|\n",
    "        |union()|返回两个集合的并集，即包含了所有集合的元素，重复的元素只会出现一次。|\n",
    "        |difference()|返回的集合元素包含在第一个集合(调用函数的集合)中，但不包含在第二个集合(方法的参数)中|"
   ]
  },
  {
   "cell_type": "code",
   "execution_count": 46,
   "metadata": {},
   "outputs": [
    {
     "name": "stdout",
     "output_type": "stream",
     "text": [
      "False\n",
      "{0, 1, 2, 3, 4, 5, 7, 9}\n",
      "{9, 5, 7}\n",
      "False\n"
     ]
    }
   ],
   "source": [
    "#例2-23 集合用法示例\n",
    "set1=set([0,1,2,3,4])\n",
    "set2=set([1,3,5,7,9])\n",
    "print(set1.issubset(set2))  # 判断set1中的所有元素是否都在set2中\n",
    "print(set1.union(set2))  #返回两个集合的并集，重复的元素只出现一次\n",
    "print(set2.difference(set1))  # 返回的集合元素包含在set1中，但不包含在set2中\n",
    "print(set2.issubset(set1))"
   ]
  },
  {
   "cell_type": "markdown",
   "metadata": {},
   "source": [
    "# 函数  \n",
    "函数是对程序逻辑进行过程化和结构化的一种方法，增强代码的重用性和可读性。  \n",
    "函数的定义的格式：  \n",
    "    ```def function_name(arguments):\n",
    "        function_block```"
   ]
  },
  {
   "cell_type": "code",
   "execution_count": 53,
   "metadata": {},
   "outputs": [
    {
     "name": "stdout",
     "output_type": "stream",
     "text": [
      "------------------------------\n",
      "请输入本周常规工作实践（小时）：4\n",
      "您的常规上班时间的：4小时\n",
      "请输入本周加班时间（小时）：5\n",
      "您的加班时间是：5小时\n",
      "请输入您的时薪：10\n",
      "您的时薪是：10.00元/小时\n",
      "------------------------------\n",
      "您的周工资是：115.00元\n"
     ]
    }
   ],
   "source": [
    "#例2-24\n",
    "def week():\n",
    "#提供正确的正常上班时间\n",
    "    while True:\n",
    "        try:\n",
    "            x=int(input(\"请输入本周常规工作实践（小时）：\"))\n",
    "            if x<0 :\n",
    "                print(\"一周常规工作实践不能小于0小时！\")\n",
    "            elif x>40 :\n",
    "                print(\"一周常规工作时间不能超过40小时！\")\n",
    "            else:\n",
    "                break\n",
    "        except ValueError:\n",
    "            print(\"输入错误！请输入整数！\")\n",
    "    return x\n",
    "\n",
    "def extrawork():\n",
    "#提供正确的加班时间\n",
    "    while True:\n",
    "        try:\n",
    "            x=int(input(\"请输入本周加班时间（小时）：\"))\n",
    "            if x<0 :\n",
    "                print(\"一周的加班时间不能小于0小时！\")\n",
    "            else:\n",
    "                break\n",
    "        except ValueError:\n",
    "            print(\"输入错误！请输入整数！\")\n",
    "    return x\n",
    "\n",
    "def salary():\n",
    "#提供正确的时薪\n",
    "    while True:\n",
    "        try:\n",
    "            x=float(input(\"请输入您的时薪：\"))\n",
    "            if x<0 :\n",
    "                print(\"您的时薪不能小于0！\")\n",
    "            else:\n",
    "                break\n",
    "        except ValueError:\n",
    "            print(\"输入错误！请输入整数！\")\n",
    "    return x\n",
    "\n",
    "if __name__==\"__main__\":\n",
    "    print(\"-\"*30)\n",
    "    week=week()\n",
    "    print(\"您的常规上班时间的：%d小时\"%week)\n",
    "    extrawork=extrawork()\n",
    "    print(\"您的加班时间是：%d小时\"%extrawork)\n",
    "    salary=salary()\n",
    "    print(\"您的时薪是：%.2f元/小时\"%salary)\n",
    "    print(\"-\"*30)\n",
    "    print(\"您的周工资是：%.2f元\"%((week*salary)+(extrawork*1.5*salary)))"
   ]
  },
  {
   "cell_type": "markdown",
   "metadata": {},
   "source": [
    "## lambda函数\n",
    "   lambda只是一个表达式，用来创建匿名函数。lambda表达式中只能封装有限的逻辑，有自己的命名空间，不能访问有参数列表之外或全局命名空间中的参数。"
   ]
  },
  {
   "cell_type": "code",
   "execution_count": 57,
   "metadata": {},
   "outputs": [
    {
     "data": {
      "text/plain": [
       "13"
      ]
     },
     "execution_count": 57,
     "metadata": {},
     "output_type": "execute_result"
    }
   ],
   "source": [
    "#例2-25 编写函数实现计算多项式1+2x+y^2+zy的值，可以简单地定义一个lambda函数来完成这个功能。\n",
    "polynominal=lambda x,y,z:1+2*x+y**2+z*y\n",
    "polynominal(1,2,3)"
   ]
  },
  {
   "cell_type": "markdown",
   "metadata": {},
   "source": [
    "# 文件操作\n",
    "## 文件处理过程\n",
    "- 打开文件：open()函数\n",
    "- 读取、写入文件：read()、readline()、readlines()、write()等。\n",
    "- 对读取道德数据进行处理。\n",
    "- 关闭文件：close()。  \n",
    "\n",
    "**读完文件之后，一定要关闭，否则文件一直被python占用。**可使用`with open() as f`语句，操作后自动关闭文件。\n",
    "\n",
    "## 数据的读取方法\n",
    "|方法|描述|\n",
    "|:--|:--:|\n",
    "|read([size])|读取文件所以内容，返回字符串类型，size表示读取的数量，以byte为单位，可省略|\n",
    "|readline([size])|读取文件一行的内容，以字符串的形式返回，size表示读取一行的一部分|\n",
    "|readlines([size])|读取所有的行到列表里面[line1,line2,...,linen]（文件每一行是list的一个 成员），size表示读取内容的总长|\n",
    "\n",
    "readlines()读取后得到的是每行数据组成的列表，即一行数据存储为一个字符串，换行符也未去掉。"
   ]
  },
  {
   "cell_type": "code",
   "execution_count": 1,
   "metadata": {},
   "outputs": [
    {
     "name": "stdout",
     "output_type": "stream",
     "text": [
      "#有这样一位诗人。他的诗，让世界上无数人，走出消极，甚至治愈了一个民族的痛。\n",
      "#他就是，诗人之王泰戈尔。\n",
      "#下面是泰戈尔的一些经典语录\n",
      "1. 生如夏花之绚烂，死如秋叶之静美。\n",
      "2. 眼睛为她下着雨，心却为她打着伞，这就是爱情。\n",
      "-\n",
      "3. 世界以痛吻我，要我报之以歌。\n",
      "###\n",
      "5. 当你为错过太阳而哭泣的时候，你也要再错过群星了。\n",
      "6. 我们把世界看错，反说它欺骗了我们。\n",
      "-\n",
      "7. 不要着急，最好的总会在最不经意的时候出现。\n"
     ]
    }
   ],
   "source": [
    "#例2-26 读取txt文件\n",
    "file=open(\"D://My_Project//PythonProject//2020-2021第一学期_数据可视化_杨波//data//泰戈尔的诗.txt\",mode='r')\n",
    "content=file.read()\n",
    "print(content)\n",
    "file.close()"
   ]
  },
  {
   "cell_type": "code",
   "execution_count": 2,
   "metadata": {},
   "outputs": [
    {
     "name": "stdout",
     "output_type": "stream",
     "text": [
      "#有这样一位诗人。他\n",
      "<class 'str'>\n"
     ]
    }
   ],
   "source": [
    "#例2-27 读取txt文件时指定读取数量\n",
    "f=open(\"D://My_Project//PythonProject//2020-2021第一学期_数据可视化_杨波//data//泰戈尔的诗.txt\",mode='r')\n",
    "content=f.read(10)  # 读取10byte\n",
    "print(content)\n",
    "f.close()\n",
    "print(type(content))"
   ]
  },
  {
   "cell_type": "code",
   "execution_count": 3,
   "metadata": {},
   "outputs": [
    {
     "name": "stdout",
     "output_type": "stream",
     "text": [
      "['#有这样一位诗人。他的诗，让世界上无数人，走出消极，甚至治愈了一个民族的痛。\\n', '#他就是，诗人之王泰戈尔。\\n', '#下面是泰戈尔的一些经典语录\\n', '1. 生如夏花之绚烂，死如秋叶之静美。\\n', '2. 眼睛为她下着雨，心却为她打着伞，这就是爱情。\\n', '-\\n', '3. 世界以痛吻我，要我报之以歌。\\n', '###\\n', '5. 当你为错过太阳而哭泣的时候，你也要再错过群星了。\\n', '6. 我们把世界看错，反说它欺骗了我们。\\n', '-\\n', '7. 不要着急，最好的总会在最不经意的时候出现。']\n"
     ]
    }
   ],
   "source": [
    "#例2-28 按行读取txt文件\n",
    "f=open(\"D://My_Project//PythonProject//2020-2021第一学期_数据可视化_杨波//data//泰戈尔的诗.txt\",mode='r')\n",
    "content=f.readlines()\n",
    "print(content)\n",
    "f.close()"
   ]
  },
  {
   "cell_type": "markdown",
   "metadata": {},
   "source": [
    "## 读取CSV文件\n",
    "CSV文件也称为字符分割值文件。`import csv`之后即可读取CSV文件。  \n",
    "其特点：\n",
    "- 纯文本，使用某个字符集。\n",
    "- 以行为单位读取数据，每行一条记录。\n",
    "- 每条记录被分隔符分割成字段。\n",
    "- 每条记录都要同样的字段序列。"
   ]
  },
  {
   "cell_type": "code",
   "execution_count": 4,
   "metadata": {},
   "outputs": [
    {
     "name": "stdout",
     "output_type": "stream",
     "text": [
      "['No.', 'Name', 'Age', 'Score']\n",
      "['1', 'mayi', '18', '99']\n",
      "['2', 'jack', '21', '89']\n",
      "['3', 'tom', '25', '95']\n",
      "['4', 'rain', '19', '80']\n"
     ]
    }
   ],
   "source": [
    "#例2-29 读取CSV文件\n",
    "import csv\n",
    "with open(\"D://My_Project//PythonProject//2020-2021第一学期_数据可视化_杨波//data//student.csv\",'r') as f:\n",
    "    reader=csv.reader(f)\n",
    "    rows=[row for row in reader]\n",
    "for item in rows:\n",
    "    print(item)"
   ]
  },
  {
   "cell_type": "markdown",
   "metadata": {},
   "source": [
    "## 文件写入与关闭\n",
    "### 文件写入\n",
    "需要将open()函数中文件打开的参数设置为mode=w。 \n",
    "\n",
    "|方法|描述|\n",
    "|:--|:--:|\n",
    "|write()|逐次写入|\n",
    "|writelines()|将列表中的所有数据一次性写入文件|\n",
    "\n",
    "若有换行需要，需在每条数据后增加换行符，同时使用`字符串.join()`将变量数据联合成一个字符串，同时增加间隔符\"\\t\"。  \n",
    "还可调用writerow函数将列表中的每个元素逐行写入文件。"
   ]
  },
  {
   "cell_type": "code",
   "execution_count": 5,
   "metadata": {},
   "outputs": [],
   "source": [
    "#2-30 文件写入\n",
    "import csv\n",
    "content=[['0','hanmeimei','23','81'],['1','mayi','18','99'],['2','jack','21','89']]\n",
    "f=open(\"test.csv\",\"w\",encoding='gbk',newline='')  # 如果不加newline=''，会出现空行\n",
    "content_out=csv.writer(f)\n",
    "for con in content:\n",
    "    content_out.writerow(con)\n",
    "#f.flush()\n",
    "f.close()  # 若不用close()和flush()的话，读取的数据还在缓存区，没有写入文件。"
   ]
  },
  {
   "cell_type": "code",
   "execution_count": 7,
   "metadata": {},
   "outputs": [
    {
     "name": "stdout",
     "output_type": "stream",
     "text": [
      "1. 生如夏花之绚烂，死如秋叶之静美。\n",
      "2. 眼睛为她下着雨，心却为她打着伞，这就是爱情。\n",
      "3. 世界以痛吻我，要我报之以歌。\n",
      "5. 当你为错过太阳而哭泣的时候，你也要再错过群星了。\n",
      "6. 我们把世界看错，反说它欺骗了我们。\n",
      "7. 不要着急，最好的总会在最不经意的时候出现。\n"
     ]
    }
   ],
   "source": [
    "#例2-31 跳过文件中的注释内容和缺失值\n",
    "def skip_header(f):\n",
    "    line=f.readline()\n",
    "    while line.startswith('#'):\n",
    "        line=f.readline()\n",
    "    return line\n",
    "def process_file(f):\n",
    "    #调用函数使其跳过文件头部\n",
    "    line=skip_header(f).strip()\n",
    "    print(line)  # 打印第一行有用数据\n",
    "    for line in f:\n",
    "        if line.startswith(\"-\") or line.startswith(\"#\"):  # 处理缺失值\n",
    "            line=f.readline()\n",
    "        line=line.strip()\n",
    "        print(line)\n",
    "if __name__==\"__main__\":\n",
    "    input_file=open(\"D://My_Project//PythonProject//2020-2021第一学期_数据可视化_杨波//data//泰戈尔的诗.txt\",'r')\n",
    "    process_file(input_file)\n",
    "    input_file.close()"
   ]
  }
 ],
 "metadata": {
  "kernelspec": {
   "display_name": "Python 3",
   "language": "python",
   "name": "python3"
  },
  "language_info": {
   "codemirror_mode": {
    "name": "ipython",
    "version": 3
   },
   "file_extension": ".py",
   "mimetype": "text/x-python",
   "name": "python",
   "nbconvert_exporter": "python",
   "pygments_lexer": "ipython3",
   "version": "3.8.3"
  }
 },
 "nbformat": 4,
 "nbformat_minor": 4
}
